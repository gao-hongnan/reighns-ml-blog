{
 "cells": [
  {
   "cell_type": "markdown",
   "id": "33d71a70-c8c9-4e90-b878-2ed7e2dcc977",
   "metadata": {},
   "source": [
    "$$\n",
    "\\newcommand{\\F}{\\mathbb{F}}\n",
    "\\newcommand{\\R}{\\mathbb{R}}\n",
    "\\newcommand{\\v}{\\mathbf{v}}\n",
    "\\newcommand{\\A}{\\mathbf{A}}\n",
    "\\newcommand{\\a}{\\mathbf{a}}\n",
    "\\newcommand{\\b}{\\mathbf{b}}\n",
    "\\newcommand{\\c}{\\mathbf{c}}\n",
    "\\newcommand{\\x}{\\mathbf{x}}\n",
    "\\newcommand{\\w}{\\mathbf{w}}\n",
    "\\newcommand{\\u}{\\mathbf{u}}\n",
    "\\newcommand{\\0}{\\mathbf{0}}\n",
    "\\newcommand{\\1}{\\mathbf{1}}\n",
    "$$"
   ]
  },
  {
   "cell_type": "markdown",
   "id": "28962790-47c1-41d9-87e8-4396f7c8f31a",
   "metadata": {},
   "source": [
    "## Linear Algebra Interview Questions"
   ]
  },
  {
   "cell_type": "markdown",
   "id": "0a2ac0d2-6ca8-4394-a48a-d5f2fb5618a8",
   "metadata": {},
   "source": [
    "### Given matrix $\\A \\in \\R^{m \\times n}$. For what vectors $\\mathbf{b} \\in \\mathbb{R}^{m}$ does $\\mathbf{A}\\mathbf{x} = \\mathbf{b}$ have a solution $\\mathbf{x} \\in \\mathbb{R}^{n}$?"
   ]
  },
  {
   "cell_type": "markdown",
   "id": "317b300e-7ebe-4431-8d17-b67233be2fde",
   "metadata": {},
   "source": [
    "We need to realize a few key points before answering the question.\n",
    "\n",
    "- $\\A\\x = \\b$ is equivalent to a system of equations, where there are $m$ equations and $n$ variables (unknowns) and we have a few cases to enumerate:\n",
    "    - All cases enumerated from the cartesian product $\\{\\textbf{Underdetermined, Exactly Determined, Overdetermined}\\} \\times \\{\\textbf{Consistent, Inconsistent}\\}$\n",
    "    - If one finds the definition in the previous point unfamiliar/vague, then please read here[^consistent_and_inconsistent_equations].\n",
    "\n",
    "- Since we know that **right matrix-vector multiplication** of $\\A$ on $\\x$ means:\n",
    "    $$\n",
    "    \\A\\x = x_1 \\begin{bmatrix} a_{11} \\\\ a_{21} \\\\ \\vdots \\\\ a_{m1} \\end{bmatrix} +\n",
    "           x_2 \\begin{bmatrix} a_{12} \\\\ a_{22} \\\\ \\vdots \\\\ a_{m2} \\end{bmatrix} +\n",
    "           \\cdots +\n",
    "           x_n \\begin{bmatrix} a_{1n} \\\\ a_{2n} \\\\ \\vdots \\\\ a_{mn} \\end{bmatrix} \n",
    "    $$\n",
    "    \n",
    "    which is made up of linear combination of columns of $\\A$ with elements of $\\x$ as coefficients.\n",
    "    \n",
    "[^consistent_and_inconsistent_equations]: [https://en.wikipedia.org/wiki/Consistent_and_inconsistent_equations](https://en.wikipedia.org/wiki/Consistent_and_inconsistent_equations)"
   ]
  },
  {
   "cell_type": "markdown",
   "id": "ec181a46-673b-4984-afd0-9c67f2b3a0ac",
   "metadata": {},
   "source": [
    "#### **Case 1: m > n**\n",
    "\n",
    "- We first need to realize that this is an **overdetermined** system because we have more equations than unknowns. \n",
    "- Let us point back to the question, what kind of $\\b$ allows us to have a solution $\\x$ that solves this equation? Certainly not **all** kinds of $\\b$! Why?\n",
    "- We can illustrate with an easy example, if $m = 4, n = 3$, then $\\b$ is made up of linear combination of columns of $\\A$, but we only have $3$ columns, and at most we have something like $\\lambda_1 \\c_1 + \\lambda_2 \\c_2 + \\lambda_3 \\c_3$ where $\\lambda \\in \\R, \\c_i \\in \\R^{4}$, $\\c_i$ being the columns of $\\A$. However, we know from my previous chapter on **Basis and Dimension**'s **Theorem (Equivalent Basis Definition)** that we necessarily need $4$ vectors in $\\R^{4}$ to span this subspace. Consequently, $3$ vectors (columns of $\\A$) cannot possibly **span** the entire $\\R^4$ (**column space of $\\A$ here**) and hence there are vectors $\\b$ that are not **linear combinations of columns of $\\A$**.\n",
    "\n",
    "##### Consistent\n",
    "\n",
    "With the above in mind, then if $\\b$ is in the **column space of $\\A$**, then $\\b$ is **solvable** and thus has a solution.\n",
    "\n",
    "##### Inconsistent\n",
    "\n",
    "If $\\b \\not \\in C(\\A)$, then no solution $\\x$ exists."
   ]
  },
  {
   "cell_type": "markdown",
   "id": "022370c5-9159-407e-b544-d59ec1017a93",
   "metadata": {},
   "source": [
    "#### Case 2: m < n\n",
    "\n",
    "- We first need to realize that this is an **underdetermined** system because we have more unknowns than equations. \n",
    "- Let us point back to the question, what kind of $\\b$ allows us to have a solution $\\x$ that solves this equation? One would've thought that **all** kinds of $\\b$ will have a solution $\\x$, as opposed to the **overdetermined system**, but this is not true! Why? - - We can illustrate with an easy example, if $m = 3, n = 4$, then $\\b$ is made up of linear combination of columns of $\\A$, although we have $4$ columns, that does not mean all columns span the entire $\\R^4$ space. Consider the $4$ columns, but $\\r_2, \\r_3, \\r_4$ are multiples of $\\r_1$, and hence these $4$ columns only managed to span the 1D-subspace in $\\R^4$, consequently, there are \"many\" $\\b$'s that cannot be represented by these $4$ columns.\n",
    "- We leave to the readers to construct and enumerate all examples."
   ]
  },
  {
   "cell_type": "markdown",
   "id": "897065f1-0f23-4cf4-9346-1881707083ba",
   "metadata": {},
   "source": [
    "##### Case 3: m = n\n",
    "\n",
    "This is an exercise for the reader 😂😂😂😂😂😂😂😂😂"
   ]
  }
 ],
 "metadata": {
  "kernelspec": {
   "display_name": "Python 3 (ipykernel)",
   "language": "python",
   "name": "python3"
  },
  "language_info": {
   "codemirror_mode": {
    "name": "ipython",
    "version": 3
   },
   "file_extension": ".py",
   "mimetype": "text/x-python",
   "name": "python",
   "nbconvert_exporter": "python",
   "pygments_lexer": "ipython3",
   "version": "3.9.10"
  }
 },
 "nbformat": 4,
 "nbformat_minor": 5
}
