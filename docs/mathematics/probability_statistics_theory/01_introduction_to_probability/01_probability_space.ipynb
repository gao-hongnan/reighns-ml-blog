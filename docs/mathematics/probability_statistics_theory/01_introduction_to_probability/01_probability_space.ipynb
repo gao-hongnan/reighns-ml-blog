{
 "cells": [
  {
   "cell_type": "markdown",
   "id": "98aa06e6-fc07-468e-a1d3-583d5655e08d",
   "metadata": {},
   "source": [
    "$$\\newcommand{\\F}{\\mathbb{F}}\n",
    "\\newcommand{\\R}{\\mathbb{R}}\n",
    "\\newcommand{\\v}{\\mathbf{v}}\n",
    "\\newcommand{\\a}{\\mathbf{a}}\n",
    "\\newcommand{\\b}{\\mathbf{b}}\n",
    "\\newcommand{\\c}{\\mathbf{c}}\n",
    "\\newcommand{\\w}{\\mathbf{w}}\n",
    "\\newcommand{\\u}{\\mathbf{u}}\n",
    "\\newcommand{\\x}{\\mathbf{x}}\n",
    "\\newcommand{\\y}{\\mathbf{y}}\n",
    "\\newcommand{\\z}{\\mathbf{z}}\n",
    "\\newcommand{\\0}{\\mathbf{0}}\n",
    "\\newcommand{\\1}{\\mathbf{1}}\n",
    "\\newcommand{\\A}{\\mathbf{A}}\n",
    "\\newcommand{\\B}{\\mathbf{B}}\n",
    "\\newcommand{\\rank}{\\textbf{rank}}\n",
    "\\newcommand{\\P}{\\mathbb{P}}\n",
    "\\newcommand{\\F}{\\mathcal{F}}\n",
    "\\newcommand{\\S}{\\Omega}\n",
    "\\newcommand{\\C}{\\mathbf{C}}$$"
   ]
  },
  {
   "cell_type": "markdown",
   "id": "2ecedbf5-9723-462a-ac30-f058f423de24",
   "metadata": {},
   "source": [
    "## Definition (Probability Space)\n",
    "\n",
    "Real-world scenarios often involve chance. We can model such scenarios mathematically. For this purpose, we’ll use a mathematical object named the **experiment** $E$ (probability space), typically denoted as an ordered triplet\n",
    "\n",
    "$$\\text{Experiment} = (\\S, \\F, \\P)$$\n",
    "\n",
    "defined as such:\n",
    "\n",
    "\n",
    "- **Sample Space $\\S$:** This is simply the set of all possible outcomes. And an outcome is defined as a result of an experiment.\n",
    "    \n",
    "- **Event Space $\\F$:** This is the collection of all possible events. An event $E$ is simply any set of possible outcomes, which means that an event is a subset of the **sample space**. In turn, the event space $\\F$ is simply the set of all events.\n",
    "    \n",
    "- **Probability Function $\\P$:** A mapping function from an event $E$ to a number $\\P(E)$ which ideally measures the size of the event; usually, $\\P$ simply assigns to each event some probability between $0$ and $1$. This probability is interpreted as the likelihood of that particular event occurring.\n",
    "   "
   ]
  },
  {
   "cell_type": "markdown",
   "id": "9ceb0a5e-9fe7-4704-b9b7-2b45bba178c2",
   "metadata": {},
   "source": [
    "An Experiment is a scenario involving chance or probability & Throwing a coin \\\\\n",
    "\\hline\n",
    "\\textbf{Outcome:} Result of an experiment/Probability Space & When you toss a coin, only outcomes are \\textbf{Heads or Tails}  \\\\ \n",
    "\\hline\n",
    "\\textbf{Sample Space:} Set of all possible outcomes & S = \\{\\text{Heads, Tails}\\}\\\\\n",
    "\\hline\n",
    "\\textbf{Events} Subset of the Sample Space & an event A can be getting a heads\\\\\n",
    "\\hline\n",
    "\\textbf{Event Space:} Set of all possible events & $\\Sigma = \\{\\emptyset, \\{\\text{Heads}\\}, \\{\\text{Tails}\\}, \\{\\text{Heads, Tails}\\}\\}$\\\\\n",
    "\\hline\n",
    "\\textbf{Probability Function:} $P: \\Sigma  \\to \\R$ assigns to each event a \\textbf{probability} which is a number between 0 and 1 & $P(\\{\\text{Heads}\\}) = \\frac{1}{2}$\\\\\n",
    "\\hline\n",
    "\\end{tabular}\n",
    "\\end{center}\n",
    "\n",
    "\\bigskip\n",
    "\n",
    "Note that an event is a subset of the Sample Space, so we can say let $A$ be the event of getting a Heads, where $A = \\{\\text{Heads}\\} \\in \\Sigma$."
   ]
  }
 ],
 "metadata": {
  "kernelspec": {
   "display_name": "Python 3 (ipykernel)",
   "language": "python",
   "name": "python3"
  },
  "language_info": {
   "codemirror_mode": {
    "name": "ipython",
    "version": 3
   },
   "file_extension": ".py",
   "mimetype": "text/x-python",
   "name": "python",
   "nbconvert_exporter": "python",
   "pygments_lexer": "ipython3",
   "version": "3.9.10"
  }
 },
 "nbformat": 4,
 "nbformat_minor": 5
}
