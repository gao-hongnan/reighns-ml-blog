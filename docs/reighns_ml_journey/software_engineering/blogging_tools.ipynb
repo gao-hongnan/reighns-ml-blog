{
 "cells": [
  {
   "cell_type": "markdown",
   "id": "73d90cb9-27df-481a-8b75-50d4fd9ed4ff",
   "metadata": {},
   "source": [
    "- https://github.com/jupyterlab-contrib/spellchecker\n",
    "- Where should one place reference links?\n",
    "- https://www.scribendi.com/academy/articles/what_to_capitalize_in_a_title.en.html\n",
    "\n"
   ]
  },
  {
   "cell_type": "markdown",
   "id": "fa72c033",
   "metadata": {},
   "source": []
  }
 ],
 "metadata": {
  "kernelspec": {
   "display_name": "Python 3.9.13 64-bit",
   "language": "python",
   "name": "python3"
  },
  "language_info": {
   "codemirror_mode": {
    "name": "ipython",
    "version": 3
   },
   "file_extension": ".py",
   "mimetype": "text/x-python",
   "name": "python",
   "nbconvert_exporter": "python",
   "pygments_lexer": "ipython3",
   "version": "3.9.13"
  },
  "vscode": {
   "interpreter": {
    "hash": "8e284ee3255a07ad8bf76694974743c4c81cb57e7c969474d752d949b11d721e"
   }
  }
 },
 "nbformat": 4,
 "nbformat_minor": 5
}
