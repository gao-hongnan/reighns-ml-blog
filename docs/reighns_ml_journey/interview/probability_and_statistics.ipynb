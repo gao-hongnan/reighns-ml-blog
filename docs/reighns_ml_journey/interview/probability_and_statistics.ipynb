{
 "cells": [
  {
   "cell_type": "markdown",
   "id": "d25ce965-d963-416c-bbdd-3e60c78eea80",
   "metadata": {},
   "source": [
    "$$\n",
    "\\newcommand{\\odds}{\\textbf{odds}}\n",
    "\\newcommand{\\E}{\\mathrm{E}}\n",
    "\\newcommand{\\P}{\\mathbb{P}}\n",
    "\\newcommand{\\L}{\\mathcal{L}}\n",
    "$$"
   ]
  },
  {
   "cell_type": "markdown",
   "id": "745d9a0f-3c73-4585-8290-0c8dd81e572d",
   "metadata": {},
   "source": [
    "## Odds (Ratio)"
   ]
  },
  {
   "cell_type": "markdown",
   "id": "62544fbc-77f2-4247-bc36-c5687928e0a7",
   "metadata": {},
   "source": [
    "### Definition\n",
    "\n",
    "**Odds**[^wiki_odds] are an expression of **relative probabilities** and we define the **odds (in favor)** of an **event** is the **ratio of the probability that the event will happen (success) to the probability that the event will not happen (failure)**. This definition corresponds to a **Bernoulli Trial**.\n",
    "\n",
    "The formula is given as:\n",
    "\n",
    "$$\n",
    "\\odds(\\E) = \\dfrac{\\P(\\E)}{1 - \\P(\\E)}\n",
    "$$\n",
    "\n",
    "[^wiki_odds]: [https://en.wikipedia.org/wiki/Odds](https://en.wikipedia.org/wiki/Odds)"
   ]
  },
  {
   "cell_type": "markdown",
   "id": "51723450-cb1b-4c5a-8642-3aa132536deb",
   "metadata": {},
   "source": [
    "### Example\n",
    "\n",
    "Consider rolling a fair six-sided dice. Then:\n",
    "\n",
    "- Define the **Event** $\\E$ to be $\\{6\\}$.\n",
    "- The odds of rolling a $6$ (in favor of $6$) is $\\odds(\\E) = \\dfrac{\\P(\\E)}{1 - \\P(\\E)} = \\dfrac{1}{5} = 1 : 5$\n",
    "\n",
    "---\n",
    "\n",
    "- Define the **Event** $\\E$ to be $\\{2, 6\\}$ which means either a $2$ or a $6$.\n",
    "- The odds of rolling a $2$ or a $6$ is $\\odds(\\E) = \\dfrac{\\P(\\E)}{1 - \\P(\\E)} = \\dfrac{2}{4} = 2 : 4$."
   ]
  },
  {
   "cell_type": "markdown",
   "id": "2a90be0f-ad7b-4de1-9976-6a5e8a952ffc",
   "metadata": {},
   "source": [
    "### Conversion to Probability\n",
    "\n",
    "One can recover of $\\P(\\E)$ to be the numerator divide by numerator + denominator (i.e. frequency divide by total)."
   ]
  },
  {
   "cell_type": "markdown",
   "id": "744eea4a-6361-44c4-99a3-c06ed3c98728",
   "metadata": {},
   "source": [
    "## Probability vs Likelihood"
   ]
  },
  {
   "cell_type": "markdown",
   "id": "16172fda-85ec-42d9-9e04-44362b323925",
   "metadata": {},
   "source": [
    "### Intuition\n",
    "\n",
    "The below answers (including example) stems from here[^what-is-the-difference-between-likelihood-and-probability].\n",
    "\n",
    "$\\P(x|\\theta)$ can be seen from two points of view:\n",
    "\n",
    "- $\\P(x|\\theta)$: **As a function of $x$, treating $\\theta$ as known/observed.** If $\\theta$ is not a random variable, then $P(x|\\theta)$ is called the (*parameterized*) probability of $x$ given the model parameters $\\theta$, which is sometimes also written as $P(x;\\theta)$ or $P_{\\theta}(x)$.\n",
    "If $\\theta$ is a random variable, as in Bayesian statistics, then $P(x|\\theta)$ is a *conditional* probability, defined as $\\dfrac{{P(x\\cap\\theta)}}{{P(\\theta)}}$.\n",
    "\n",
    "- $\\L(\\hat\\theta|x)$: **As a function of $\\theta$, treating $x$ as observed.** For example, when you try to find a certain assignment $\\hat\\theta$ for $\\theta$ that maximizes $P(x|\\theta)$, then $P(x|\\hat\\theta)$ is called the *maximum likelihood* of $\\theta$ given the data $x$, sometimes written as $\\L(\\hat\\theta|x)$. So, the term likelihood is just shorthand to refer to the probability $P(x|\\theta)$ for some data $x$ that results from assigning different values to $\\theta$ (e.g. as one traverses the search space of $\\theta$ for a good solution). So, it is often used as an objective function, but also as a performance measure to compare two models as in [Bayesian model comparison](https://en.wikipedia.org/wiki/Bayes_factor). \n",
    "\n",
    "[^what-is-the-difference-between-likelihood-and-probability]: [https://stats.stackexchange.com/questions/2641/what-is-the-difference-between-likelihood-and-probability](what-is-the-difference-between-likelihood-and-probability)"
   ]
  },
  {
   "cell_type": "markdown",
   "id": "1293a5ec-09e1-4f65-86d8-27047877d3e8",
   "metadata": {},
   "source": [
    "### Example\n",
    "\n",
    "Suppose you have a coin with probability $p$ to land heads and $(1-p)$ to land tails. Let $x=1$ indicate heads and $x=0$ indicate tails. Define $f$ as follows\n",
    "\n",
    "$$f(x,p)=p^x (1-p)^{1-x}$$\n",
    "\n",
    "- $f(x,2/3)$ is probability of x given $p=2/3$, \n",
    "- $f(1,p)$ is likelihood of $p$ given $x=1$. \n",
    "- Basically likelihood vs. probability tells you which parameter of density is considered to be the variable\n",
    "\n",
    "[![][1]][1]\n",
    "\n",
    " [1]: https://i.stack.imgur.com/1Dmpu.png"
   ]
  },
  {
   "cell_type": "markdown",
   "id": "729508b6-52ef-4e84-ac68-de23d81d69c3",
   "metadata": {},
   "source": [
    "## MLE\n",
    "\n",
    "- Likelihood as joint distribution, so it is a sequence of multiplication of probs? So P(x1, x2, x3) is P(x1) x P(x2) x P(x3) happening.\n",
    "- When write $P(\\X | \\theta)$ it means $P(x_1 \\cap x_2 \\cap ... \\cap x_n | \\theta)$ lol.\n",
    "- In dafried, we see $p(y_n)$ becomes the PMF of $y_n$ suddenly, not a coincidence by d2l's The short summary is that nothing at all changes, except we replace all the instances of the probability with the probability density. "
   ]
  },
  {
   "cell_type": "markdown",
   "id": "777b575a-2321-4ce7-9b21-ccbcb83918a1",
   "metadata": {},
   "source": []
  },
  {
   "cell_type": "markdown",
   "id": "2488e9d3-66ce-4600-960c-c1c9f8325afc",
   "metadata": {},
   "source": []
  },
  {
   "cell_type": "markdown",
   "id": "019e22f6-ac27-4ab1-9669-7e5e457adfd2",
   "metadata": {},
   "source": []
  }
 ],
 "metadata": {
  "kernelspec": {
   "display_name": "Python 3 (ipykernel)",
   "language": "python",
   "name": "python3"
  },
  "language_info": {
   "codemirror_mode": {
    "name": "ipython",
    "version": 3
   },
   "file_extension": ".py",
   "mimetype": "text/x-python",
   "name": "python",
   "nbconvert_exporter": "python",
   "pygments_lexer": "ipython3",
   "version": "3.9.11"
  }
 },
 "nbformat": 4,
 "nbformat_minor": 5
}
