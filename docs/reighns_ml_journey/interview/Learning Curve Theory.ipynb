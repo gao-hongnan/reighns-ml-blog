{
 "cells": [
  {
   "cell_type": "markdown",
   "metadata": {
    "id": "zt5E10YTt2rs"
   },
   "source": [
    "# Readings\n",
    "\n",
    "- [learning-curve-diagnostics](https://rstudio-conf-2020.github.io/dl-keras-tf/notebooks/learning-curve-diagnostics.nb.html)\n",
    "- [machine learning master](https://machinelearningmastery.com/learning-curves-for-diagnosing-machine-learning-model-performance/)"
   ]
  },
  {
   "cell_type": "markdown",
   "metadata": {
    "id": "TSjDchJbyzwt"
   },
   "source": [
    "# Learning Objectives\n",
    "\n",
    "- Understand how to use learning curves to evaluate a model's performance. In particular, able to diagnoise whether a model is\n",
    "    - Underfitting;\n",
    "    - Overfitting;\n",
    "    - Good fit;\n",
    "\n",
    "- Able to give solutions to\n",
    "    - Underfitting;\n",
    "    - Overfitting;\n",
    "    - Good fit;\n",
    "\n",
    "- Able to diagnoise and give explainations to why there are unconclusive learning curves."
   ]
  },
  {
   "cell_type": "markdown",
   "metadata": {
    "id": "rjbxq9O7i6GA"
   },
   "source": [
    "# Introduction\n",
    "\n",
    "> From **machinelearningmastery**\n",
    "\n",
    "During the training of a machine learning model, the current state of the model at each step of the training algorithm can be evaluated. It can be evaluated on the training dataset to give an idea of how well the model is “learning.” It can also be evaluated on a hold-out validation dataset that is not part of the training dataset. Evaluation on the validation dataset gives an idea of how well the model is “generalizing.”\n",
    "\n",
    "- **Train Learning Curve:** Learning curve calculated from the training dataset that gives an idea of how well the model is learning.\n",
    "\n",
    "- **Validation Learning Curve:** Learning curve calculated from a hold-out validation dataset that gives an idea of how well the model is generalizing.\n",
    "It is common to create dual learning curves for a machine learning model during training on both the training and validation datasets.\n",
    "\n",
    "In some cases, it is also common to create learning curves for multiple metrics, such as in the case of classification predictive modeling problems, where the model may be optimized according to cross-entropy loss and model performance is evaluated using classification accuracy. In this case, two plots are created, one for the learning curves of each metric, and each plot can show two learning curves, one for each of the train and validation datasets.\n",
    "\n",
    "- **Optimization Learning Curves:** Learning curves calculated on the metric by which the parameters of the model are being optimized, e.g. loss.\n",
    "\n",
    "- **Performance Learning Curves:** Learning curves calculated on the metric by which the model will be evaluated and selected, e.g. accuracy.\n",
    "\n",
    "Now that we are familiar with the use of learning curves in machine learning, let’s look at some common shapes observed in learning curve plots.\n",
    "\n",
    "---\n",
    "\n",
    "> **Always associate high bias with underfitting, and high variance with overfitting.**\n"
   ]
  },
  {
   "cell_type": "markdown",
   "metadata": {
    "id": "W9S64p1Qk4rH"
   },
   "source": [
    "# Diagnosing Model Behavior\n",
    "\n",
    "The shape and dynamics of a learning curve can be used to diagnose the behavior of a machine learning model and in turn perhaps suggest at the type of configuration changes that may be made to improve learning and/or performance.\n",
    "\n",
    "There are three common dynamics that you are likely to observe in learning curves; they are:\n",
    "\n",
    "- Underfit.\n",
    "- Overfit.\n",
    "= Good Fit.\n",
    "\n",
    "We will take a closer look at each with examples. The examples will assume that we are looking at a minimizing metric, meaning that smaller relative scores on the y-axis indicate more or better learning."
   ]
  },
  {
   "cell_type": "markdown",
   "metadata": {
    "id": "Sb7Oe69mlUzS"
   },
   "source": [
    "## Underfitting Learning Curves\n",
    "\n",
    "Underfitting refers to a model that cannot learn the training dataset.\n",
    "\n",
    "> An underfit model can be identified from the learning curve of the training loss only.\n",
    "\n",
    "> It may show a flat line or noisy values of relatively high loss, indicating that the model was unable to learn the training dataset at all.\n",
    "\n",
    "> An example of this is provided below and is common when the model does not have a suitable capacity for the complexity of the dataset.\n",
    "\n",
    "Below are two examples, on the left, we have a very flat looking curve after many epochs on both train and validation, this shows that the model is not learning very well.\n",
    "\n",
    "Right side, we have a curve that is still decreasing at the end of epoch finish, it may indicate our model has not **converged to the minimum**.\n",
    "\n",
    "---\n",
    "\n",
    "One thing is that underfitting means high bias, and adding data usually won't be sufficient any more. Imagine a linear regression model fitted on a polynomial target function of degree 9, no matter how much data we give it, it is highly unlikely that our degree 2 model will learn on this much more complex dataset."
   ]
  },
  {
   "cell_type": "markdown",
   "metadata": {
    "id": "YahH6yQ-g3-2"
   },
   "source": [
    "Example of Training Learning Curve Showing An Underfit Model That Does Not Have Sufficient Capacity | Example of Training Learning Curve Showing an Underfit Model That Requires Further Training\n",
    "- | - \n",
    "![alt](https://drive.google.com/uc?id=116s-9T2gCfBmzNzVKo66FziSn2Axa1Pe) | ![alt](https://drive.google.com/uc?id=119eWMD3HoaCzOpg3OZjXq1iqVEzO3_3r)"
   ]
  },
  {
   "cell_type": "markdown",
   "metadata": {
    "id": "kTv_CTwouI_Q"
   },
   "source": [
    "**Diagnosis:**\n",
    "\n",
    "1.  First, our training learning curve may show a flat line or noisy values of relatively high loss, indicating that the model was unable to learn the training dataset at all. \n",
    "\n",
    "---\n",
    "\n",
    "**Solution:**\n",
    "\n",
    "1. Add more observations. You may not have enough data for the existing patterns to become strong signals. However, bias usually do not reduce with increased data.\n",
    "\n",
    "2. Add more features. Occasionally our model is under-fitting on the grounds that the feature items are insufficient.\n",
    "\n",
    "3. Reduce any regularization on the model. If you have explicit regularization parameters specified (i.e. dropout, weight regularization), remove or reduce these parameters. \n",
    "\n",
    "4. Increase model capacity. Your model capacity may not be large enough to capture and learn existing signals. \n",
    "\n",
    "---\n",
    "\n",
    "**Diagnosis:**\n",
    "\n",
    "2. An underfit model may also be identified by a training and validation loss that are continuing to decrease at the end of the plot. This indicates that the model is capable of further learning and that the training process was halted prematurely.\n",
    "\n",
    "---\n",
    "\n",
    "\n",
    "**Solution:**\n",
    "\n",
    "1. Increase the number of epochs until the validation curve has stopped improving. This is a good time to crank up the epochs and add an early stopping callback to identify how many epochs are required. \n",
    "\n",
    "2. If it is taking a long time to reach a minimum for the validation curve, increase the learning rate to speed up the gradient traversal and also add a callback to automatically adjust the learning rate.\n",
    "\n"
   ]
  },
  {
   "cell_type": "markdown",
   "metadata": {
    "id": "m0ANkNQXqhem"
   },
   "source": [
    "## Overfit Learning Curves\n",
    "\n",
    "> Overfitting refers to a model that has learned the training dataset too well, including the statistical noise or random fluctuations in the training dataset.\n",
    "\n",
    "> The problem with overfitting, is that the more specialized the model becomes to training data, the less well it is able to generalize to new data, resulting in an increase in generalization error. This increase in generalization error can be measured by the performance of the model on the validation dataset.\n",
    "\n",
    "This often occurs if the model has more capacity than is required for the problem, and, in turn, too much flexibility. It can also occur if the model is trained for too long.\n",
    "\n",
    "A plot of learning curves shows overfitting if:\n",
    "\n",
    "- The plot of training loss continues to decrease with experience.\n",
    "\n",
    "- The plot of validation loss decreases to a point and begins increasing again.\n",
    "\n",
    "The inflection point in validation loss may be the point at which training could be halted as experience after that point shows the dynamics of overfitting.\n",
    "\n",
    "The example plot below demonstrates a case of overfitting"
   ]
  },
  {
   "cell_type": "markdown",
   "metadata": {
    "id": "vtchVIiHrR2F"
   },
   "source": [
    "\n",
    "Possible Scenario of Overfitting | A good fit\n",
    "- | - \n",
    "![alt](https://drive.google.com/uc?id=11BtK2cd1JvYRBkpTCAUzcELeO2OqGpTS) | ![alt](https://drive.google.com/uc?id=11EJeBujI2zE8j-C_Rz2diMMN9JFbJZHQ)"
   ]
  },
  {
   "cell_type": "markdown",
   "metadata": {
    "id": "KMB4c0PWwLOp"
   },
   "source": [
    "> **However, a model that overfits is not necessarily a bad thing. In fact, it signals that the model has extracted all the signal that that particular model could learn. The issues to be concerned about with overfitting is the magnitude and the inflection point.**\n",
    "\n",
    "> **A model that overfits early and has a sharp “U” shape often indicates overcapacity and/or a learning rate that is too high.**"
   ]
  },
  {
   "cell_type": "markdown",
   "metadata": {
    "id": "UfrlGwArvHEV"
   },
   "source": [
    "**Diagnosis:**\n",
    "\n",
    "1. The training loss continues to decrease with epochs while\n",
    "the validation loss has decreased to a minimum and has begun to increase. This is a strong signal that the model has started to fit too well to your training data (hence the continuous decrease in training loss), but it starts to not capture signals from out-of-sample data (which indicates an increase in validation loss).\n",
    "\n",
    "---\n",
    "\n",
    "**Solution:**\n",
    "\n",
    "1. Regularize how quickly the model learns by reducing the learning rate. Add a callback to automatically reduce the learning rate as the validation loss plateaus\n",
    "\n",
    "2. Regularize model capacity by reducing the number and/or size of the hidden layers\n",
    "\n",
    "3. Regularize the weights to constrain the complexity of the network.\n",
    "\n",
    "4. Regularize happenstance patterns by adding dropout to minimize the chance of fitting patterns to noise in the data.\n",
    "\n",
    "5. And of course, in the context of deep learning, how can we forget good old augmentation.\n",
    "\n",
    "6. Add an early stopping callback to stop training once the validation curve has stopped improving.\n",
    "\n"
   ]
  },
  {
   "cell_type": "markdown",
   "metadata": {
    "id": "Xa3f8ZlyrE3Y"
   },
   "source": [
    "## Good Fit Learning Curves\n",
    "\n",
    "A good fit is the goal of the learning algorithm and exists between an overfit and underfit model.\n",
    "\n",
    "A good fit is identified by a training and validation loss that decreases to a point of stability with a minimal gap between the two final loss values.\n",
    "\n",
    "The loss of the model will almost always be lower on the training dataset than the validation dataset. This means that we should expect some gap between the train and validation loss learning curves. This gap is referred to as the “generalization gap.”\n",
    "\n",
    "A plot of learning curves shows a good fit if:\n",
    "\n",
    "- The plot of training loss decreases to a point of stability.\n",
    "\n",
    "- The plot of validation loss decreases to a point of stability and has a small gap with the training loss.\n",
    "\n",
    "Continued training of a good fit will likely lead to an overfit.\n",
    "\n",
    "The example plot above demonstrates a case of a good fit."
   ]
  },
  {
   "cell_type": "markdown",
   "metadata": {
    "id": "AMHVW8p9whIK"
   },
   "source": [
    "# Diagnosing Unrepresentative Datasets\n",
    "\n",
    "Learning curves can also be used to diagnose properties of a dataset and whether it is relatively representative. An unrepresentative dataset means a dataset that may not capture the statistical characteristics relative to another dataset drawn from the same domain, such as between a train and a validation dataset. This can commonly occur if the number of samples in a dataset is too small or if certain characteristics are not adequately represented, relative to another dataset.\n",
    "\n",
    "There are two common cases that could be observed; they are:\n",
    "\n",
    "- Training dataset is relatively unrepresentative\n",
    "- Validation dataset is relatively unrepresentative"
   ]
  },
  {
   "cell_type": "markdown",
   "metadata": {
    "id": "yj02Xu-qwmJX"
   },
   "source": [
    "## Unrepresentative train dataset\n",
    "\n",
    "An unrepresentative training dataset means that the training dataset does not provide sufficient information to learn the problem, relative to the validation dataset used to evaluate it. This situation can be identified by a learning curve for training loss that shows improvement and similarly a learning curve for validation loss that shows improvement, but a large gap remains between both curves. This can occur when\n",
    "\n",
    "**Diagnosis:**\n",
    "\n",
    "- The training dataset has too few examples as compared to the validation dataset.\n",
    "\n",
    "- Training dataset contains features with less variance than the validation dataset.\n",
    "\n",
    "---\n",
    "\n",
    "**Solution:**\n",
    "\n",
    "1. Add more observations. You may not have enough data to capture patterns present in both the training and validation data.\n",
    "\n",
    "2. If using CNNs incorporate data augmentation to increase feature variability in the training data. \n",
    "\n",
    "3. Make sure that you are randomly sampling observations to use in your training and validation sets. If your data is ordered by some feature (i.e. neighborhood, class) then you validation data may have features not represented in your training data. \n",
    "\n",
    "4. Perform cross-validation so that all your data has the opportunity to be represented in both the training and validation sets. \n"
   ]
  },
  {
   "cell_type": "markdown",
   "metadata": {
    "id": "rsmJ0jKAxMcu"
   },
   "source": [
    "Unrepresentative Train Set | Unrepresentative Validation Set \n",
    "- | - \n",
    "![alt](https://drive.google.com/uc?id=11FtUBffhFS0QTGrVzD7wBgPffz921ZSj) | ![alt](https://drive.google.com/uc?id=11JS7UCfC0MjLZQv3LxBSmaf-CyH1T6Io) | \n",
    "\n",
    "---\n",
    "\n",
    "Unrepresentative Validation Set Info Leak\n",
    "![alt](https://drive.google.com/uc?id=11LHPDT5xwYsMuIFU5H99t4VjgVrz6QXK)\n"
   ]
  },
  {
   "cell_type": "markdown",
   "metadata": {
    "id": "xCqSpCMzxf71"
   },
   "source": [
    "## Unrepresentative validation dataset\n",
    "\n",
    "An unrepresentative validation dataset means that the validation dataset does not provide sufficient information to evaluate the ability of the model to generalize. This may occur if the validation dataset has too few examples as compared to the training dataset. This case can be identified by a learning curve for training loss that looks like a good fit (or other fits) and a learning curve for validation loss that shows noisy movements and little or no improvement.\n",
    "\n",
    "---\n",
    "\n",
    "**Solution:**\n",
    "\n",
    "1. Add more observations to your validation dataset.\n",
    "\n",
    "2. If you are limited on the number of observations, perform cross-validation so that all your data has the opportunity to be represented in both the training and validation sets. \n",
    "\n",
    "\n",
    "It may also be identified by a validation loss that is lower than the training loss, no matter how many training iterations you perform. In this case, it indicates that the validation dataset may be easier for the model to predict than the training dataset. This can happen for various reason but is commonly associated with:\n",
    "\n",
    "- Information leakage where a feature in the training data has direct ties to observations and responses in the validation data (i.e. patient ID).\n",
    "\n",
    "- Poor sampling procedures where duplicate observations exist in the training and validation datasets.\n",
    "V\n",
    "0 alidation dataset contains features with less variance than the training dataset.\n",
    "\n",
    "---\n",
    "\n",
    "**Solution:**\n",
    "\n",
    "1. Check to make sure duplicate observations do not exists across training and validation datasets.\n",
    "\n",
    "2. Check to make sure there is no information leakage across training and validation datasets.\n",
    "\n",
    "3. Make sure that you are randomly sampling observations to use in your training and validation sets so that feature variance is consistent across both sets.\n",
    "\n",
    "4. Perform cross-validation so that all your data has the opportunity to be represented in both the training and validation sets. ℹ️"
   ]
  }
 ],
 "metadata": {
  "colab": {
   "authorship_tag": "ABX9TyP9uPoZIEpEjQlY6Rosh097",
   "collapsed_sections": [],
   "name": "Learning Curve Theory.ipynb",
   "provenance": [],
   "toc_visible": true
  },
  "kernelspec": {
   "display_name": "Python 3 (ipykernel)",
   "language": "python",
   "name": "python3"
  },
  "language_info": {
   "codemirror_mode": {
    "name": "ipython",
    "version": 3
   },
   "file_extension": ".py",
   "mimetype": "text/x-python",
   "name": "python",
   "nbconvert_exporter": "python",
   "pygments_lexer": "ipython3",
   "version": "3.9.10"
  }
 },
 "nbformat": 4,
 "nbformat_minor": 4
}
