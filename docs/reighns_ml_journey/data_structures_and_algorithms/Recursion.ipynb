{
 "cells": [
  {
   "cell_type": "markdown",
   "id": "c3c90465-c897-4631-a703-6d744d88a946",
   "metadata": {},
   "source": [
    "- https://realpython.com/python-recursion/\n",
    "- https://www.geeksforgeeks.org/recursion/"
   ]
  },
  {
   "cell_type": "markdown",
   "id": "be15a404-8861-47fd-b854-333cce3fd051",
   "metadata": {},
   "source": [
    "See Tower of Hanoi."
   ]
  }
 ],
 "metadata": {
  "kernelspec": {
   "display_name": "Python 3 (ipykernel)",
   "language": "python",
   "name": "python3"
  },
  "language_info": {
   "codemirror_mode": {
    "name": "ipython",
    "version": 3
   },
   "file_extension": ".py",
   "mimetype": "text/x-python",
   "name": "python",
   "nbconvert_exporter": "python",
   "pygments_lexer": "ipython3",
   "version": "3.9.12"
  }
 },
 "nbformat": 4,
 "nbformat_minor": 5
}
