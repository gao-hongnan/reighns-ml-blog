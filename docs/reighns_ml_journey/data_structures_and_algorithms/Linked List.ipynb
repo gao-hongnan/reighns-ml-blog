{
 "cells": [
  {
   "cell_type": "code",
   "execution_count": 1,
   "id": "d5c1ae4a-84c5-468b-88e5-5d2177b6d00e",
   "metadata": {},
   "outputs": [],
   "source": [
    "from typing import *"
   ]
  },
  {
   "cell_type": "markdown",
   "id": "92822e08-51d7-47fd-a534-316204ca6d1c",
   "metadata": {},
   "source": [
    "## Node Object"
   ]
  },
  {
   "cell_type": "code",
   "execution_count": 28,
   "id": "5f31941d-f9f2-43dc-8879-bc1e95ceeeb6",
   "metadata": {},
   "outputs": [],
   "source": [
    "# Node class\n",
    "class Node:\n",
    "    # Function to initialize the node object\n",
    "    def __init__(self, value: Any) -> None:\n",
    "        \"\"\"The Node object is initialized with a value and can be linked to the next node by setting the next attribute to a Node object.\n",
    "\n",
    "        Args:\n",
    "            value (Any): For simplicity, the value of the node is a generic type of scalar value.\n",
    "\n",
    "        Examples:\n",
    "            >>> node = Node(1)\n",
    "            >>> node.value\n",
    "            1\n",
    "            >>> node.next\n",
    "            None\n",
    "            >>> node.next = Node(2)\n",
    "            >>> node.next.value\n",
    "            2\n",
    "            >>> node.next.next\n",
    "            None\n",
    "        \"\"\"\n",
    "        self.value = value  # Assign value\n",
    "        self.next = None  # Initialize next as null"
   ]
  },
  {
   "cell_type": "markdown",
   "id": "fdbd87da-6158-45f5-82fb-98c009927f77",
   "metadata": {},
   "source": [
    "## Linked List Object"
   ]
  },
  {
   "cell_type": "code",
   "execution_count": 59,
   "id": "9c71f9c3-aae8-47f9-be29-08d984172bb8",
   "metadata": {},
   "outputs": [],
   "source": [
    "class LinkedList:\n",
    "    \"\"\"Function to initialize the Linked List object.\"\"\"\n",
    "\n",
    "    head: Node = None\n",
    "\n",
    "    def __init__(self):\n",
    "        self.head = None"
   ]
  },
  {
   "cell_type": "markdown",
   "id": "7e68ba3c-0aa8-423b-b1ee-7eaf61c843cd",
   "metadata": {},
   "source": [
    "In most cases, we will use the `head` node (the first node) to represent the whole linked list."
   ]
  },
  {
   "cell_type": "code",
   "execution_count": 60,
   "id": "05679e47-40b3-465d-aed2-1cb2a6b93c4c",
   "metadata": {},
   "outputs": [],
   "source": [
    "# Start with the empty linked list object. The head of the linked list is None\n",
    "llist = LinkedList()"
   ]
  },
  {
   "cell_type": "code",
   "execution_count": 61,
   "id": "89532bc9-a66c-4d4c-bd6f-eeba8d1a0725",
   "metadata": {},
   "outputs": [],
   "source": [
    "# we create 3 nodes objects\n",
    "# as of now, these 3 nodes object holds value of 1, 2 and 3 respectively\n",
    "# but they are not linked, which can be verified by printing .next -> None\n",
    "first_node= Node(1)\n",
    "second_node = Node(2)\n",
    "third_node = Node(3)"
   ]
  },
  {
   "cell_type": "markdown",
   "id": "9168280a-1e60-4448-9d1f-295cb06846cc",
   "metadata": {},
   "source": [
    "Now we assign the first node object `first_node = Node(1)` to the `head` attribute of the `llist` object. \n",
    "\n",
    "We further note that both `first_node` and `llist.head` now point to the same object and both are of type `Node` and each of them holds a `value` of $1$.\n",
    "\n",
    "We also have to be clear that we did not link the head (first) node to the next (second) node yet."
   ]
  },
  {
   "cell_type": "code",
   "execution_count": 62,
   "id": "ce3b748d-2d3d-403f-b016-4fc99610a7bb",
   "metadata": {},
   "outputs": [],
   "source": [
    "# now we assign the first node object to the head attribute of the llist\n",
    "\n",
    "llist.head = first_node\n",
    "\n",
    "assert id(llist.head) == id(first_node)\n",
    "assert isinstance(llist.head, Node) == isinstance(first_node, Node)\n",
    "assert llist.head.value == first_node.value == 1"
   ]
  },
  {
   "cell_type": "markdown",
   "id": "e1198c01-8c1c-411d-a0b0-3deff1fde240",
   "metadata": {},
   "source": [
    "We now link the first node with the second by populating the `next` attribute of the `head` of the linked list `llist` (i.e. `llist.head.next = second_node`).\n",
    "\n",
    "We further note that both `llist.head.next` and `second_node` now point to the same object and both are of type `Node` and each of them holds a `value` of $2$.\n",
    "\n",
    "Now the linked list `llist` has connected the first node and the second node in a linear fashion: \n",
    "\n",
    "$$\n",
    "\\textbf{first_node} \\to \\textbf{second_node}\n",
    "$$\n",
    "\n",
    "So to reiterate, our linked list `llist` at this stage is akin to a list `[1, 2]`. To access the first value of the linked list we can do `llist.head.value` and to get the next value we can call `llist.head.next.value`."
   ]
  },
  {
   "cell_type": "code",
   "execution_count": 63,
   "id": "44016946-6a37-4bf4-a978-21f05e74d42e",
   "metadata": {},
   "outputs": [],
   "source": [
    "llist.head.next = second_node; # Link first node with second\n",
    "\n",
    "assert id(llist.head.next) == id(second_node)\n",
    "assert isinstance(llist.head.next, Node) == isinstance(second_node, Node)\n",
    "assert llist.head.next.value == second_node.value == 2"
   ]
  },
  {
   "cell_type": "markdown",
   "id": "1af4e7c9-777d-421d-b948-e69985a9e721",
   "metadata": {},
   "source": [
    "We now link the second node with the third by populating the `next` attribute of the second node of the linked list `llist`, but to do so, we must actually reach the second node. (i.e. `llist.head.next.next = third_node`).\n",
    "\n",
    "We further note that both `llist.head.next.next` and `third_node` now point to the same object and both are of type `Node` and each of them holds a `value` of $3$.\n",
    "\n",
    "Now the linked list `llist` has connected the second node and the third node in a linear fashion: \n",
    "\n",
    "$$\n",
    "\\textbf{first_node} \\to \\textbf{second_node} \\to \\textbf{third_node}\n",
    "$$\n",
    "\n",
    "So to reiterate, our linked list `llist` at this stage is akin to a list `[1, 2, 3]`. To access the first value of the linked list we can do `llist.head.value` and to get the next value we can call `llist.head.next.value` and to get the third value, ``llist.head.next.next.value`. There should be no confusion why we can chain attribute `next` here, since `llist.head.next` and `llist.head.next.next` are two different `Node` objects, so there won't be any overwriting of the `next` attribute."
   ]
  },
  {
   "cell_type": "code",
   "execution_count": 64,
   "id": "befd1ab9-fdb7-4434-bf51-284863c802ee",
   "metadata": {},
   "outputs": [],
   "source": [
    "llist.head.next.next = third_node; # Link second node with the third node\n",
    "\n",
    "assert id(llist.head.next.next) == id(third_node)\n",
    "assert isinstance(llist.head.next.next, Node) == isinstance(third_node, Node)\n",
    "assert llist.head.next.next.value == third_node.value == 3"
   ]
  },
  {
   "cell_type": "markdown",
   "id": "97cfab8e-ba89-4739-914f-596c7c4e9936",
   "metadata": {},
   "source": [
    "## Traversing a Linked List"
   ]
  },
  {
   "cell_type": "markdown",
   "id": "eddaabe2-c682-4335-8184-b03e590b5d4b",
   "metadata": {},
   "source": [
    "The logic in `traverse` is as follows:\n",
    "\n",
    "- We want to terminate the printing when we reach the last node, that is to say, when the last node is reached, the `.next` attribute should return `None`.\n",
    "- We start off with the head node `self.head` and print `self.head.value` in the first while loop to get the first node value.\n",
    "- Subsequently, we overwrite `self.head` to be `self.head.next` after printing, so when the next while loop happens, printing `self.head.value` actually points to `self.head.next.value`. The logic continues until we reach the last node."
   ]
  },
  {
   "cell_type": "code",
   "execution_count": 91,
   "id": "f3011652-d117-4b8a-ba18-f272f3058325",
   "metadata": {},
   "outputs": [],
   "source": [
    "class LinkedList:\n",
    "    \"\"\"Function to initialize the Linked List object.\"\"\"\n",
    "\n",
    "    head: Node = None\n",
    "\n",
    "    def __init__(self):\n",
    "        self.head = None\n",
    "\n",
    "    def traverse(self) -> None:\n",
    "        \"\"\"Traverse through a linked list by printing all the nodes.\"\"\"\n",
    "        \n",
    "        while self.head is not None:\n",
    "            print(self.head.value)\n",
    "            self.head = self.head.next"
   ]
  },
  {
   "cell_type": "code",
   "execution_count": 92,
   "id": "20679da6-a387-4e60-a43b-b31fa0fea4b5",
   "metadata": {},
   "outputs": [
    {
     "name": "stdout",
     "output_type": "stream",
     "text": [
      "1\n",
      "2\n",
      "3\n"
     ]
    }
   ],
   "source": [
    "# Start with the empty linked list object. The head of the linked list is None\n",
    "llist = LinkedList()\n",
    "first_node= Node(1)\n",
    "second_node = Node(2)\n",
    "third_node = Node(3)\n",
    "llist.head = first_node\n",
    "llist.head.next = second_node\n",
    "llist.head.next.next = third_node\n",
    "\n",
    "llist.traverse()"
   ]
  },
  {
   "cell_type": "code",
   "execution_count": 94,
   "id": "bb6f0142-f6d2-416f-9b32-6c0701a07afe",
   "metadata": {},
   "outputs": [
    {
     "ename": "AttributeError",
     "evalue": "'NoneType' object has no attribute 'value'",
     "output_type": "error",
     "traceback": [
      "\u001b[1;31m---------------------------------------------------------------------------\u001b[0m",
      "\u001b[1;31mAttributeError\u001b[0m                            Traceback (most recent call last)",
      "\u001b[1;32m~\\AppData\\Local\\Temp/ipykernel_25736/1123670581.py\u001b[0m in \u001b[0;36m<module>\u001b[1;34m\u001b[0m\n\u001b[0;32m      1\u001b[0m \u001b[0mtype\u001b[0m\u001b[1;33m(\u001b[0m\u001b[0mllist\u001b[0m\u001b[1;33m.\u001b[0m\u001b[0mhead\u001b[0m\u001b[1;33m)\u001b[0m \u001b[1;33m==\u001b[0m \u001b[1;32mNone\u001b[0m\u001b[1;33m\u001b[0m\u001b[1;33m\u001b[0m\u001b[0m\n\u001b[1;32m----> 2\u001b[1;33m \u001b[0mllist\u001b[0m\u001b[1;33m.\u001b[0m\u001b[0mhead\u001b[0m\u001b[1;33m.\u001b[0m\u001b[0mvalue\u001b[0m\u001b[1;33m\u001b[0m\u001b[1;33m\u001b[0m\u001b[0m\n\u001b[0m",
      "\u001b[1;31mAttributeError\u001b[0m: 'NoneType' object has no attribute 'value'"
     ]
    }
   ],
   "source": [
    "type(llist.head) == None\n",
    "llist.head.value"
   ]
  },
  {
   "cell_type": "markdown",
   "id": "2dd8e5e1-ff2a-4c59-a114-c7d18351f0fe",
   "metadata": {},
   "source": [
    "The code above works fine, but is not ideal since if we want to access `llist.head.value` after calling `llist.traverse()`, there will be `AttributeError: 'NoneType' object has no attribute 'value'` since we already set `self.head` to `None` in our last loop. Thus, we should change the code a bit where we assign a `temp` variable to `self.head`."
   ]
  },
  {
   "cell_type": "code",
   "execution_count": 95,
   "id": "75b95025-a54b-4b66-be89-69694922c84f",
   "metadata": {},
   "outputs": [],
   "source": [
    "class LinkedList:\n",
    "    \"\"\"Function to initialize the Linked List object.\"\"\"\n",
    "\n",
    "    head: Node = None\n",
    "\n",
    "    def __init__(self):\n",
    "        self.head = None\n",
    "\n",
    "    def traverse(self) -> None:\n",
    "        \"\"\"Traverse through a linked list by printing all the nodes.\"\"\"\n",
    "        temp = self.head\n",
    "        while temp is not None:\n",
    "            print(temp.value)\n",
    "            temp = temp.next"
   ]
  },
  {
   "cell_type": "code",
   "execution_count": 96,
   "id": "8f7d381a-89b7-4cef-b6f0-f5f1ba887cf7",
   "metadata": {},
   "outputs": [
    {
     "name": "stdout",
     "output_type": "stream",
     "text": [
      "1\n",
      "2\n",
      "3\n"
     ]
    },
    {
     "data": {
      "text/plain": [
       "1"
      ]
     },
     "execution_count": 96,
     "metadata": {},
     "output_type": "execute_result"
    }
   ],
   "source": [
    "# Start with the empty linked list object. The head of the linked list is None\n",
    "llist = LinkedList()\n",
    "first_node= Node(1)\n",
    "second_node = Node(2)\n",
    "third_node = Node(3)\n",
    "llist.head = first_node\n",
    "llist.head.next = second_node\n",
    "llist.head.next.next = third_node\n",
    "\n",
    "llist.traverse()\n",
    "\n",
    "llist.head.value"
   ]
  },
  {
   "cell_type": "markdown",
   "id": "b67b78da-1bba-4b23-b2b7-099e7afef713",
   "metadata": {},
   "source": [
    "## Reverse a Linked List"
   ]
  },
  {
   "cell_type": "code",
   "execution_count": 127,
   "id": "d03eef01-bd6c-48ff-a78f-8066de2b8386",
   "metadata": {},
   "outputs": [],
   "source": [
    "class LinkedList:\n",
    "    \"\"\"Function to initialize the Linked List object.\"\"\"\n",
    "\n",
    "    head: Node = None\n",
    "\n",
    "    def __init__(self):\n",
    "        self.head = None\n",
    "\n",
    "    def traverse(self) -> None:\n",
    "        \"\"\"Traverse through a linked list by printing all the nodes.\"\"\"\n",
    "        temp = self.head\n",
    "        while temp is not None:\n",
    "            print(temp.value)\n",
    "            temp = temp.next\n",
    "\n",
    "    def reverse(self, head: Node) -> Node:\n",
    "        \"\"\"Starts from the head node object and reverse the linked list.\n",
    "\n",
    "        Note we eventaully want to return a node called prev such that\n",
    "        if initially our head node has 1->2->3, then after the function,\n",
    "        we want our prev node to be 3->2->1.\n",
    "\n",
    "        Returns:\n",
    "\n",
    "        \"\"\"\n",
    "\n",
    "        if head is None:\n",
    "            return None\n",
    "\n",
    "        prev = None\n",
    "\n",
    "        while head is not None:\n",
    "            \n",
    "            temp = head  # in the 1st loop, temp is head node 1\n",
    "            print(\"temp\", temp.value, temp.next.value, temp.next.next.value)\n",
    "            head = head.next  # in the next iteration, head will be the node 2\n",
    "            temp.next = prev  # when assigning temp.next = None in the 1st loop, no matter how many nodes are behind, all are killed by assigning None, so (1,2,3) -> (1, None)\n",
    "            print(temp.next.next)\n",
    "            prev = temp  # in 1st loop, prev is a node with value 1 and next is None, in 2nd loop, prev is a node with value 2\n",
    "            print(prev.value)\n",
    "            print(prev.next)\n",
    "        return prev\n"
   ]
  },
  {
   "cell_type": "code",
   "execution_count": 128,
   "id": "fd196db1-1c5a-4084-8f53-9137b259b6a8",
   "metadata": {},
   "outputs": [],
   "source": [
    "# Start with the empty linked list object. The head of the linked list is None\n",
    "llist = LinkedList()\n",
    "first_node= Node(1)\n",
    "second_node = Node(2)\n",
    "third_node = Node(3)\n",
    "llist.head = first_node\n",
    "llist.head.next = second_node\n",
    "llist.head.next.next = third_node\n",
    "\n"
   ]
  },
  {
   "cell_type": "code",
   "execution_count": 129,
   "id": "dbdd65e2-4498-4ee6-8b7f-ec5b6fd1c803",
   "metadata": {},
   "outputs": [
    {
     "name": "stdout",
     "output_type": "stream",
     "text": [
      "temp 1 2 3\n"
     ]
    },
    {
     "ename": "AttributeError",
     "evalue": "'NoneType' object has no attribute 'next'",
     "output_type": "error",
     "traceback": [
      "\u001b[1;31m---------------------------------------------------------------------------\u001b[0m",
      "\u001b[1;31mAttributeError\u001b[0m                            Traceback (most recent call last)",
      "\u001b[1;32m~\\AppData\\Local\\Temp/ipykernel_25736/3734134476.py\u001b[0m in \u001b[0;36m<module>\u001b[1;34m\u001b[0m\n\u001b[0;32m      1\u001b[0m \u001b[0mhead\u001b[0m \u001b[1;33m=\u001b[0m \u001b[0mllist\u001b[0m\u001b[1;33m.\u001b[0m\u001b[0mhead\u001b[0m\u001b[1;33m\u001b[0m\u001b[1;33m\u001b[0m\u001b[0m\n\u001b[0;32m      2\u001b[0m \u001b[1;33m\u001b[0m\u001b[0m\n\u001b[1;32m----> 3\u001b[1;33m \u001b[0ma\u001b[0m \u001b[1;33m=\u001b[0m \u001b[0mllist\u001b[0m\u001b[1;33m.\u001b[0m\u001b[0mreverse\u001b[0m\u001b[1;33m(\u001b[0m\u001b[0mhead\u001b[0m\u001b[1;33m)\u001b[0m\u001b[1;33m\u001b[0m\u001b[1;33m\u001b[0m\u001b[0m\n\u001b[0m",
      "\u001b[1;32m~\\AppData\\Local\\Temp/ipykernel_25736/3675096043.py\u001b[0m in \u001b[0;36mreverse\u001b[1;34m(self, head)\u001b[0m\n\u001b[0;32m     36\u001b[0m             \u001b[0mhead\u001b[0m \u001b[1;33m=\u001b[0m \u001b[0mhead\u001b[0m\u001b[1;33m.\u001b[0m\u001b[0mnext\u001b[0m  \u001b[1;31m# in the next iteration, head will be the node 2\u001b[0m\u001b[1;33m\u001b[0m\u001b[1;33m\u001b[0m\u001b[0m\n\u001b[0;32m     37\u001b[0m             \u001b[0mtemp\u001b[0m\u001b[1;33m.\u001b[0m\u001b[0mnext\u001b[0m \u001b[1;33m=\u001b[0m \u001b[0mprev\u001b[0m  \u001b[1;31m# in 1st loop, temp.next is None, in 2nd loop, temp.next is 1\u001b[0m\u001b[1;33m\u001b[0m\u001b[1;33m\u001b[0m\u001b[0m\n\u001b[1;32m---> 38\u001b[1;33m             \u001b[0mprint\u001b[0m\u001b[1;33m(\u001b[0m\u001b[0mtemp\u001b[0m\u001b[1;33m.\u001b[0m\u001b[0mnext\u001b[0m\u001b[1;33m.\u001b[0m\u001b[0mnext\u001b[0m\u001b[1;33m)\u001b[0m\u001b[1;33m\u001b[0m\u001b[1;33m\u001b[0m\u001b[0m\n\u001b[0m\u001b[0;32m     39\u001b[0m             \u001b[0mprev\u001b[0m \u001b[1;33m=\u001b[0m \u001b[0mtemp\u001b[0m  \u001b[1;31m# in 1st loop, prev is a node with value 1 and next is None, in 2nd loop, prev is a node with value 2\u001b[0m\u001b[1;33m\u001b[0m\u001b[1;33m\u001b[0m\u001b[0m\n\u001b[0;32m     40\u001b[0m             \u001b[0mprint\u001b[0m\u001b[1;33m(\u001b[0m\u001b[0mprev\u001b[0m\u001b[1;33m.\u001b[0m\u001b[0mvalue\u001b[0m\u001b[1;33m)\u001b[0m\u001b[1;33m\u001b[0m\u001b[1;33m\u001b[0m\u001b[0m\n",
      "\u001b[1;31mAttributeError\u001b[0m: 'NoneType' object has no attribute 'next'"
     ]
    }
   ],
   "source": [
    "head = llist.head\n",
    "\n",
    "a = llist.reverse(head)"
   ]
  },
  {
   "cell_type": "markdown",
   "id": "b3b5667c-4ec4-4a0f-b13b-6ab2b34cdd70",
   "metadata": {},
   "source": [
    "## References\n",
    "\n",
    "- [Linked List | Set 1 (Introduction) (GeeksforGeeks)](https://www.geeksforgeeks.org/linked-list-set-1-introduction/?ref=lbp)\n",
    "- [Amazon Coding Interview Question: Reverse a Linked List (Leetcode 206 in Python)](https://www.youtube.com/watch?v=XDO6I8jxHtA)"
   ]
  }
 ],
 "metadata": {
  "kernelspec": {
   "display_name": "Python 3 (ipykernel)",
   "language": "python",
   "name": "python3"
  },
  "language_info": {
   "codemirror_mode": {
    "name": "ipython",
    "version": 3
   },
   "file_extension": ".py",
   "mimetype": "text/x-python",
   "name": "python",
   "nbconvert_exporter": "python",
   "pygments_lexer": "ipython3",
   "version": "3.9.10"
  }
 },
 "nbformat": 4,
 "nbformat_minor": 5
}
