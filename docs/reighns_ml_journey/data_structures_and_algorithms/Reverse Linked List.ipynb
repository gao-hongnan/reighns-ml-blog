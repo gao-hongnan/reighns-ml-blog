{
 "cells": [
  {
   "cell_type": "markdown",
   "id": "c033e7ba-df95-4bc2-a717-fdbd5ad11a84",
   "metadata": {},
   "source": [
    "$$\n",
    "\\newcommand{\\O}{\\mathcal{O}}\n",
    "$$"
   ]
  },
  {
   "cell_type": "markdown",
   "id": "446768c6-8395-457e-b888-c8a89d513b37",
   "metadata": {},
   "source": [
    "## Reverse Linked List"
   ]
  },
  {
   "cell_type": "code",
   "execution_count": 1,
   "id": "468bb685-91fa-44f4-aaa7-7f8a4513aefc",
   "metadata": {},
   "outputs": [],
   "source": [
    "from typing import *\n",
    "\n",
    "# Node class\n",
    "class Node:\n",
    "    # Function to initialize the node object\n",
    "    def __init__(self, value: Any) -> None:\n",
    "        \"\"\"The Node object is initialized with a value and can be linked to the next node by setting the next attribute to a Node object.\n",
    "\n",
    "        Args:\n",
    "            value (Any): For simplicity, the value of the node is a generic type of scalar value.\n",
    "\n",
    "        Examples:\n",
    "            >>> node = Node(1)\n",
    "            >>> node.value\n",
    "            1\n",
    "            >>> node.next\n",
    "            None\n",
    "            >>> node.next = Node(2)\n",
    "            >>> node.next.value\n",
    "            2\n",
    "            >>> node.next.next\n",
    "            None\n",
    "        \"\"\"\n",
    "        self.value = value  # Assign value\n",
    "        self.next = None  # Initialize next as null"
   ]
  },
  {
   "cell_type": "code",
   "execution_count": 2,
   "id": "a48760d1-7063-43f4-a83d-edbcaa891a83",
   "metadata": {},
   "outputs": [],
   "source": [
    "class LinkedList:\n",
    "    \"\"\"Function to initialize the Linked List object.\"\"\"\n",
    "\n",
    "    head: Node = None\n",
    "\n",
    "    def __init__(self):\n",
    "        self.head = None\n",
    "\n",
    "    def traverse(self) -> None:\n",
    "        \"\"\"Traverse through a linked list by printing all the nodes.\"\"\"\n",
    "        temp = self.head\n",
    "        while temp is not None:\n",
    "            print(temp.value)\n",
    "            temp = temp.next"
   ]
  },
  {
   "cell_type": "code",
   "execution_count": 5,
   "id": "67622072-0822-47b8-937c-1962f26a5420",
   "metadata": {},
   "outputs": [],
   "source": [
    "class LinkedList:\n",
    "    \"\"\"Function to initialize the Linked List object.\"\"\"\n",
    "\n",
    "    head: Node = None\n",
    "\n",
    "    def __init__(self):\n",
    "        self.head = None\n",
    "\n",
    "    def traverse(self) -> None:\n",
    "        \"\"\"Traverse through a linked list by printing all the nodes.\"\"\"\n",
    "        temp = self.head\n",
    "        while temp is not None:\n",
    "            print(temp.value)\n",
    "            temp = temp.next\n",
    "            \n",
    "    def reverseList(self, head):\n",
    "        \"\"\"\n",
    "        :type head: ListNode\n",
    "        :rtype: ListNode\n",
    "        \"\"\"\n",
    "        prev_node = None\n",
    "        curr_node = head\n",
    "        while curr_node:\n",
    "            next_node = curr_node.next # Remember next node\n",
    "            curr_node.next = prev_node  # REVERSE! None, first time round.\n",
    "            prev_node = curr_node  # Used in the next iteration.\n",
    "            curr_node = next_node  # Move to next node.\n",
    "        head = prev_node\n",
    "        return head\n",
    "    "
   ]
  },
  {
   "cell_type": "code",
   "execution_count": 6,
   "id": "961aeaf8-0b22-4910-86b0-f5587fbb7090",
   "metadata": {},
   "outputs": [],
   "source": [
    "# Start with the empty linked list object. The head of the linked list is None\n",
    "llist = LinkedList()\n",
    "first_node= Node(1)\n",
    "second_node = Node(2)\n",
    "third_node = Node(3)\n",
    "llist.head = first_node\n",
    "llist.head.next = second_node\n",
    "llist.head.next.next = third_node\n",
    "head = llist.head\n",
    "\n",
    "a = llist.reverseList(head)"
   ]
  },
  {
   "cell_type": "code",
   "execution_count": 11,
   "id": "0a4d0e0e-78d5-4ee0-ba38-bab4d4cd323e",
   "metadata": {},
   "outputs": [
    {
     "data": {
      "text/plain": [
       "2"
      ]
     },
     "execution_count": 11,
     "metadata": {},
     "output_type": "execute_result"
    }
   ],
   "source": [
    "a.next.value"
   ]
  },
  {
   "cell_type": "code",
   "execution_count": 10,
   "id": "11182ee9-9bd6-4af9-99f6-84ed0a201e4d",
   "metadata": {},
   "outputs": [
    {
     "data": {
      "text/plain": [
       "1"
      ]
     },
     "execution_count": 10,
     "metadata": {},
     "output_type": "execute_result"
    }
   ],
   "source": [
    "a.next.next.value"
   ]
  },
  {
   "cell_type": "markdown",
   "id": "03333425-067f-4745-ac37-4e95c1edd6c5",
   "metadata": {},
   "source": [
    "https://www.youtube.com/watch?v=XDO6I8jxHtA"
   ]
  },
  {
   "cell_type": "markdown",
   "id": "29c2cbe9-01c2-4c25-926b-f19b50886cfc",
   "metadata": {},
   "source": [
    "## Time Complexity\n",
    "\n",
    "Time complexity: $\\O(n)$. We traverse the list containing $n$ elements only once. Each lookup in the table costs only $\\O(1)$ time. \n",
    "\n",
    "Loosely speaking, this means in each for loop from line 22 to 26, each line takes $\\O(1)$ time, so in a typical single iteration, we use around $\\O(3)$ time, and looping it $n$ times takes \n",
    "\n",
    "$$\n",
    "n \\cdot \\O(3) \\approx \\O(3n) \\approx \\O(n)\n",
    "$$"
   ]
  },
  {
   "cell_type": "markdown",
   "id": "4c4954d0-afb7-4143-a9b7-d30e3c9dd578",
   "metadata": {},
   "source": [
    "## Space Complexity\n",
    "\n",
    "Space complexity: $\\O(n)$. The extra space required depends on the number of items stored in the dictionary `seen`, which stores at most $n$ elements."
   ]
  }
 ],
 "metadata": {
  "kernelspec": {
   "display_name": "Python 3 (ipykernel)",
   "language": "python",
   "name": "python3"
  },
  "language_info": {
   "codemirror_mode": {
    "name": "ipython",
    "version": 3
   },
   "file_extension": ".py",
   "mimetype": "text/x-python",
   "name": "python",
   "nbconvert_exporter": "python",
   "pygments_lexer": "ipython3",
   "version": "3.9.10"
  }
 },
 "nbformat": 4,
 "nbformat_minor": 5
}
