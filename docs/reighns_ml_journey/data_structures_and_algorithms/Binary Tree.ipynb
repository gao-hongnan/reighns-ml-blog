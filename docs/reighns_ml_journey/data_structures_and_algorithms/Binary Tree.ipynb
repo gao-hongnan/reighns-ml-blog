{
 "cells": [
  {
   "cell_type": "markdown",
   "id": "a12fcde1-4435-4190-929c-f8c44b3bfe53",
   "metadata": {},
   "source": [
    "## Preamble\n",
    "\n",
    "I follow GeeksforGeeks to get a basic understanding of each data structures first."
   ]
  },
  {
   "cell_type": "markdown",
   "id": "b6fae660-5c77-4b7e-ac53-cf019a5e63b2",
   "metadata": {},
   "source": [
    "## Utilities"
   ]
  },
  {
   "cell_type": "code",
   "execution_count": 2,
   "id": "7fa8fee8-41bc-4981-8b72-d14b83592e47",
   "metadata": {},
   "outputs": [],
   "source": [
    "import functools as fn\n",
    "\n",
    "def printBTree(node, nodeInfo=None, inverted=False, isTop=True):\n",
    "\n",
    "    # node value string and sub nodes\n",
    "    stringValue, leftNode, rightNode = nodeInfo(node)\n",
    "\n",
    "    stringValueWidth  = len(stringValue)\n",
    "\n",
    "    # recurse to sub nodes to obtain line blocks on left and right\n",
    "    leftTextBlock     = [] if not leftNode else printBTree(leftNode,nodeInfo,inverted,False)\n",
    "\n",
    "    rightTextBlock    = [] if not rightNode else printBTree(rightNode,nodeInfo,inverted,False)\n",
    "\n",
    "    # count common and maximum number of sub node lines\n",
    "    commonLines       = min(len(leftTextBlock),len(rightTextBlock))\n",
    "    subLevelLines     = max(len(rightTextBlock),len(leftTextBlock))\n",
    "\n",
    "    # extend lines on shallower side to get same number of lines on both sides\n",
    "    leftSubLines      = leftTextBlock  + [\"\"] *  (subLevelLines - len(leftTextBlock))\n",
    "    rightSubLines     = rightTextBlock + [\"\"] *  (subLevelLines - len(rightTextBlock))\n",
    "\n",
    "    # compute location of value or link bar for all left and right sub nodes\n",
    "    #   * left node's value ends at line's width\n",
    "    #   * right node's value starts after initial spaces\n",
    "    leftLineWidths    = [ len(line) for line in leftSubLines  ]                            \n",
    "    rightLineIndents  = [ len(line)-len(line.lstrip(\" \")) for line in rightSubLines ]\n",
    "\n",
    "    # top line value locations, will be used to determine position of current node & link bars\n",
    "    firstLeftWidth    = (leftLineWidths   + [0])[0]  \n",
    "    firstRightIndent  = (rightLineIndents + [0])[0] \n",
    "\n",
    "    # width of sub node link under node value (i.e. with slashes if any)\n",
    "    # aims to center link bars under the value if value is wide enough\n",
    "    # \n",
    "    # ValueLine:    v     vv    vvvvvv   vvvvv\n",
    "    # LinkLine:    / \\   /  \\    /  \\     / \\ \n",
    "    #\n",
    "    linkSpacing       = min(stringValueWidth, 2 - stringValueWidth % 2)\n",
    "    leftLinkBar       = 1 if leftNode  else 0\n",
    "    rightLinkBar      = 1 if rightNode else 0\n",
    "    minLinkWidth      = leftLinkBar + linkSpacing + rightLinkBar\n",
    "    valueOffset       = (stringValueWidth - linkSpacing) // 2\n",
    "\n",
    "    # find optimal position for right side top node\n",
    "    #   * must allow room for link bars above and between left and right top nodes\n",
    "    #   * must not overlap lower level nodes on any given line (allow gap of minSpacing)\n",
    "    #   * can be offset to the left if lower subNodes of right node \n",
    "    #     have no overlap with subNodes of left node                                                                                                                                 \n",
    "    minSpacing        = 2\n",
    "    rightNodePosition = fn.reduce(lambda r,i: max(r,i[0] + minSpacing + firstRightIndent - i[1]), \\\n",
    "                                 zip(leftLineWidths,rightLineIndents[0:commonLines]), \\\n",
    "                                 firstLeftWidth + minLinkWidth)\n",
    "\n",
    "    # extend basic link bars (slashes) with underlines to reach left and right\n",
    "    # top nodes.  \n",
    "    #\n",
    "    #        vvvvv\n",
    "    #       __/ \\__\n",
    "    #      L       R\n",
    "    #\n",
    "    linkExtraWidth    = max(0, rightNodePosition - firstLeftWidth - minLinkWidth )\n",
    "    rightLinkExtra    = linkExtraWidth // 2\n",
    "    leftLinkExtra     = linkExtraWidth - rightLinkExtra\n",
    "\n",
    "    # build value line taking into account left indent and link bar extension (on left side)\n",
    "    valueIndent       = max(0, firstLeftWidth + leftLinkExtra + leftLinkBar - valueOffset)\n",
    "    valueLine         = \" \" * max(0,valueIndent) + stringValue\n",
    "    slash             = \"\\\\\" if inverted else  \"/\"\n",
    "    backslash         = \"/\" if inverted else  \"\\\\\"\n",
    "    uLine             = \"¯\" if inverted else  \"_\"\n",
    "\n",
    "    # build left side of link line\n",
    "    leftLink          = \"\" if not leftNode else ( \" \" * firstLeftWidth + uLine * leftLinkExtra + slash)\n",
    "\n",
    "    # build right side of link line (includes blank spaces under top node value) \n",
    "    rightLinkOffset   = linkSpacing + valueOffset * (1 - leftLinkBar)                      \n",
    "    rightLink         = \"\" if not rightNode else ( \" \" * rightLinkOffset + backslash + uLine * rightLinkExtra )\n",
    "\n",
    "    # full link line (will be empty if there are no sub nodes)                                                                                                    \n",
    "    linkLine          = leftLink + rightLink\n",
    "\n",
    "    # will need to offset left side lines if right side sub nodes extend beyond left margin\n",
    "    # can happen if left subtree is shorter (in height) than right side subtree                                                \n",
    "    leftIndentWidth   = max(0,firstRightIndent - rightNodePosition) \n",
    "    leftIndent        = \" \" * leftIndentWidth\n",
    "    indentedLeftLines = [ (leftIndent if line else \"\") + line for line in leftSubLines ]\n",
    "\n",
    "    # compute distance between left and right sublines based on their value position\n",
    "    # can be negative if leading spaces need to be removed from right side\n",
    "    mergeOffsets      = [ len(line) for line in indentedLeftLines ]\n",
    "    mergeOffsets      = [ leftIndentWidth + rightNodePosition - firstRightIndent - w for w in mergeOffsets ]\n",
    "    mergeOffsets      = [ p if rightSubLines[i] else 0 for i,p in enumerate(mergeOffsets) ]\n",
    "\n",
    "    # combine left and right lines using computed offsets\n",
    "    #   * indented left sub lines\n",
    "    #   * spaces between left and right lines\n",
    "    #   * right sub line with extra leading blanks removed.\n",
    "    mergedSubLines    = zip(range(len(mergeOffsets)), mergeOffsets, indentedLeftLines)\n",
    "    mergedSubLines    = [ (i,p,line + (\" \" * max(0,p)) )       for i,p,line in mergedSubLines ]\n",
    "    mergedSubLines    = [ line + rightSubLines[i][max(0,-p):]  for i,p,line in mergedSubLines ]                        \n",
    "\n",
    "    # Assemble final result combining\n",
    "    #  * node value string\n",
    "    #  * link line (if any)\n",
    "    #  * merged lines from left and right sub trees (if any)\n",
    "    treeLines = [leftIndent + valueLine] + ( [] if not linkLine else [leftIndent + linkLine] ) + mergedSubLines\n",
    "\n",
    "    # invert final result if requested\n",
    "    treeLines = reversed(treeLines) if inverted and isTop else treeLines\n",
    "\n",
    "    # return intermediate tree lines or print final result\n",
    "    if isTop : print(\"\\n\".join(treeLines))\n",
    "    else     : return treeLines      "
   ]
  },
  {
   "cell_type": "markdown",
   "id": "c0c49643-e15e-4ea4-8060-cc670d29a1dd",
   "metadata": {},
   "source": [
    "## Binary Tree | Set 1 (Introduction)"
   ]
  },
  {
   "cell_type": "code",
   "execution_count": 3,
   "id": "82d625b2-ab61-4304-abf6-23190fc2be68",
   "metadata": {},
   "outputs": [],
   "source": [
    "from typing import *\n",
    "\n",
    "# A Python class that represents an individual node in a Binary Tree\n",
    "class BinaryTreeNode:\n",
    "\n",
    "    curr_node_value: Any\n",
    "    left: Optional[\"BinaryTreeNode\"]\n",
    "    right: Optional[\"BinaryTreeNode\"]\n",
    "\n",
    "    def __init__(self, curr_node_value):\n",
    "        self.curr_node_value = curr_node_value\n",
    "        self.left = None\n",
    "        self.right = None\n",
    "\n",
    "    def print_tree(self) -> None:\n",
    "        \"\"\"Prints a binary tree.\n",
    "\n",
    "        Taken from https://stackoverflow.com/questions/48850446/how-to-print-a-binary-tree-in-as-a-structure-of-nodes-in-python\n",
    "        \"\"\"\n",
    "        printBTree(self, lambda n: (str(n.curr_node_value), n.left, n.right))\n"
   ]
  },
  {
   "cell_type": "markdown",
   "id": "ac4a5cae-d92a-4c4c-ae05-93b5bbec2946",
   "metadata": {},
   "source": [
    "```python\n",
    "# create root\n",
    "root = BinaryTreeNode(1)\n",
    "''' following is the tree after above statement\n",
    "        1\n",
    "      /   \\\n",
    "     None  None'''\n",
    " \n",
    "root.left      = BinaryTreeNode(2);\n",
    "root.right     = BinaryTreeNode(3);\n",
    "   \n",
    "''' 2 and 3 become left and right children of 1\n",
    "           1\n",
    "         /   \\\n",
    "        2      3\n",
    "     /    \\    /  \\\n",
    "   None None None None'''\n",
    " \n",
    "root.left.left  = BinaryTreeNode(4);\n",
    "'''4 becomes left child of 2\n",
    "           1\n",
    "       /       \\\n",
    "      2          3\n",
    "    /   \\       /  \\\n",
    "   4    None  None  None\n",
    "  /  \\\n",
    "None None'''\n",
    "```"
   ]
  },
  {
   "cell_type": "markdown",
   "id": "cf8bdbbc-121f-41a6-8f74-a8370954576b",
   "metadata": {},
   "source": [
    "## Binary Tree | Set 2 (Properties)"
   ]
  },
  {
   "cell_type": "markdown",
   "id": "c46ba5f2-30a3-4d95-afa5-2d1fbe41c272",
   "metadata": {},
   "source": [
    "## Binary Tree | Set 3 (Types of Binary Tree)"
   ]
  },
  {
   "cell_type": "markdown",
   "id": "f84be8f6-0e9e-4d8e-a57d-043aac7fd3d2",
   "metadata": {},
   "source": [
    "## Tree Traversals (Inorder, Preorder and Postorder)"
   ]
  },
  {
   "cell_type": "code",
   "execution_count": 4,
   "id": "2f512827-98ad-4176-b1b5-50e9f923d014",
   "metadata": {},
   "outputs": [],
   "source": [
    "# create a binary tree 1, 2, 3, 4, 5, 6, 7, 8, 9 with left tree 2,3,4,5 and right tree 6,7,8,9\n",
    "root = BinaryTreeNode(1)\n",
    "root.left = BinaryTreeNode(2)\n",
    "root.right = BinaryTreeNode(6)\n",
    "root.left.left = BinaryTreeNode(3)\n",
    "root.left.right = BinaryTreeNode(4)\n",
    "root.left.right.left = BinaryTreeNode(5)\n",
    "root.right.left = BinaryTreeNode(7)\n",
    "root.right.right = BinaryTreeNode(9)\n",
    "root.right.left.left = BinaryTreeNode(8)\n"
   ]
  },
  {
   "cell_type": "code",
   "execution_count": 5,
   "id": "523822d8-bd1d-4413-bf62-b2fdda9eec8c",
   "metadata": {},
   "outputs": [
    {
     "name": "stdout",
     "output_type": "stream",
     "text": [
      "      1\n",
      "   __/ \\_\n",
      "  2      6\n",
      " / \\    / \\\n",
      "3   4  7   9\n",
      "   /  /\n",
      "  5  8\n"
     ]
    }
   ],
   "source": [
    "root.print_tree()"
   ]
  },
  {
   "cell_type": "markdown",
   "id": "66aece53-e193-42f4-998b-d9ef0870b502",
   "metadata": {},
   "source": [
    "### Preorder\n",
    "\n",
    "Algorithm Preorder(tree):\n",
    "\n",
    "1. Visit the root.\n",
    "2. Traverse the left subtree, i.e., call Preorder(left-subtree)\n",
    "3. Traverse the right subtree, i.e., call Preorder(right-subtree)"
   ]
  },
  {
   "cell_type": "markdown",
   "id": "e37b0fa5-dbac-45ab-9b28-24f751b5ac8c",
   "metadata": {},
   "source": [
    "#### Recursive [^Recursive Preorder Video Explaination][^Recursive Preorder Article Explaination]\n",
    "\n",
    "The idea in recursion is in its base case.\n",
    "\n",
    "In a way, we need to think that every node must see left and see right.\n",
    "\n",
    "\n",
    "- Define Base Case where when a tree node is `None`, return and exit the function.\n",
    "- If root is not `None`, then we first visit everything on the left preorder and then we visit everything on the right preorder.\n",
    "- Start with root node 1 and since it is not `None`, print the value to be $1$.\n",
    "    - Now at this stage `root` is still our original `root` node so `traverse_preorder_recursive(root.left)` means we visit the left node of $1$ and we see that it is not `None` and is $2$.\n",
    "    - Now at this stage `root` is now `root.left` (node $2$) and hence when we call `.left` it first check if it is `None`, which it isn't as we have $3$ now.\n",
    "    - Now at this stage `root` is now `root.left.left` (node $3$) and hence when we call `.left` it first check if it is `None`, which it is and the function terminates without even going to check the right node (why?)\n",
    "    - But the function terminated at node $3$ and thus the funcion calling `root.left` at node $2$ is left hanging! Therefore, we need to check `.right` of `root.left` which turns out to be $4$ (not `None`). I was very confused why are we visiting right node here, but this is because at each recursive call, the function did not terminate right there, so because at node $2$ we know there is nothing more on the left side since it was already terminated at $3$, we go to the next line `traverse_preorder_recursive(root.right)` and check which we got $4$.\n",
    "    - Since we are at $4$, we check recursively as well for this node and saw that it has a left node of $5$.\n",
    "    - And at $5$ we check left again and see it's `None` and terminates and we are back at $4$ again, in which we check its right, this time `None` as well and the recursive children of $2$ are all killed.\n",
    "    - So we are back to one level before $2$ which is node $1$. And then of course we finally progress to the next line `traverse_preorder_recursive(root.right)` and see the node is $6$.\n",
    "    - We ask again if left side of the node $6$ is `None` and get $7$.\n",
    "    - We ask if left side of node $7$ is `None` and we find $8$.\n",
    "    - We ask if left side of node $8$ is `None` and we find `None` and function terminates.\n",
    "    - We go back one level up and get $7$ and ask right node and find `None` and function terminates.\n",
    "    - We go back one level up and get $6$ and ask right node and find $9$.\n",
    "    - We ask if left side of $9$ has anything and find `None`. Program terminates.\n",
    "\n",
    "\n",
    "[^Recursive Preorder Video Explaination]: Recursive Preorder Video Explaination: [Pre Order Traversal of Binary Tree (Recursive)](https://www.youtube.com/watch?v=Sg6M9Q-mNXs)\n",
    "[^Recursive Preorder Article Explaination]: Recursive Preorder Article Explaination: [Preorder Tree Traversal – Iterative and Recursive](https://www.techiedelight.com/preorder-tree-traversal-iterative-recursive/)"
   ]
  },
  {
   "cell_type": "code",
   "execution_count": 6,
   "id": "d4a1e034-4fbc-4e98-8688-002081d46a80",
   "metadata": {},
   "outputs": [],
   "source": [
    "# A function to do preorder tree traversal\n",
    "def traverse_preorder_recursive(root: BinaryTreeNode) -> None:\n",
    "    \"\"\"Traverse tree using preorder recursively.\n",
    "\n",
    "    Args:\n",
    "        root (BinaryTreeNode): A binary tree node.\n",
    "    \"\"\"\n",
    "    # base case\n",
    "    if root is None:\n",
    "        return\n",
    "    \n",
    "\n",
    "    # First print the data of node\n",
    "    print(root.curr_node_value)\n",
    "\n",
    "    # print(\"Recurring on left child\")\n",
    "    # Then recur on left child\n",
    "    traverse_preorder_recursive(root.left)\n",
    "\n",
    "    # print(\"Recurring on right child\")\n",
    "    # Finally recur on right child\n",
    "    traverse_preorder_recursive(root.right)\n"
   ]
  },
  {
   "cell_type": "code",
   "execution_count": 7,
   "id": "c0ac6ce5-af1e-40af-9eb6-024c47995fd3",
   "metadata": {},
   "outputs": [
    {
     "name": "stdout",
     "output_type": "stream",
     "text": [
      "1\n",
      "2\n",
      "3\n",
      "4\n",
      "5\n",
      "6\n",
      "7\n",
      "8\n",
      "9\n"
     ]
    }
   ],
   "source": [
    "traverse_preorder_recursive(root)"
   ]
  },
  {
   "cell_type": "markdown",
   "id": "7ad8446c-247a-424d-b7c4-ffeff6e214a6",
   "metadata": {},
   "source": [
    "### Postorder\n",
    "\n",
    "Algorithm Postorder(tree)\n",
    "   1. Traverse the left subtree, i.e., call Postorder(left-subtree)\n",
    "   2. Traverse the right subtree, i.e., call Postorder(right-subtree)\n",
    "   3. Visit the root."
   ]
  },
  {
   "cell_type": "code",
   "execution_count": null,
   "id": "303c1ef4-c7c0-4a98-b874-93b43c39d859",
   "metadata": {},
   "outputs": [],
   "source": [
    "# base case: if root.curr_node_value = the main root's value."
   ]
  },
  {
   "cell_type": "code",
   "execution_count": 10,
   "id": "53c9fe21-e639-474f-96d7-9fd5be85fec2",
   "metadata": {},
   "outputs": [],
   "source": [
    "# A function to do preorder tree traversal\n",
    "def traverse_postorder_recursive(root: BinaryTreeNode) -> None:\n",
    "    \"\"\"Traverse tree using preorder recursively.\n",
    "\n",
    "    Args:\n",
    "        root (BinaryTreeNode): A binary tree node.\n",
    "    \"\"\"\n",
    "    # base case\n",
    "    if root is None:\n",
    "        return\n",
    "    \n",
    "\n",
    "\n",
    "    # print(\"Recurring on left child\")\n",
    "    # Then recur on left child\n",
    "    traverse_postorder_recursive(root.left)\n",
    "\n",
    "    # print(\"Recurring on right child\")\n",
    "    # Finally recur on right child\n",
    "    traverse_postorder_recursive(root.right)\n",
    "    \n",
    "    # First print the data of node\n",
    "    print(root.curr_node_value)"
   ]
  },
  {
   "cell_type": "code",
   "execution_count": 12,
   "id": "aa51ca1b-df61-4afa-ab14-35382fc2384e",
   "metadata": {},
   "outputs": [
    {
     "name": "stdout",
     "output_type": "stream",
     "text": [
      "      1\n",
      "   __/ \\_\n",
      "  2      6\n",
      " / \\    / \\\n",
      "3   4  7   9\n",
      "   /  /\n",
      "  5  8\n"
     ]
    }
   ],
   "source": [
    "root.print_tree()"
   ]
  },
  {
   "cell_type": "code",
   "execution_count": 11,
   "id": "b08cf307-c10e-4eec-ba94-0836af98908c",
   "metadata": {},
   "outputs": [
    {
     "name": "stdout",
     "output_type": "stream",
     "text": [
      "3\n",
      "5\n",
      "4\n",
      "2\n",
      "8\n",
      "7\n",
      "9\n",
      "6\n",
      "1\n"
     ]
    }
   ],
   "source": [
    "traverse_postorder_recursive(root)"
   ]
  },
  {
   "cell_type": "markdown",
   "id": "d19ea11e-8aaa-4c74-be8d-4f74694a77b4",
   "metadata": {},
   "source": [
    "### Inorder Traversal"
   ]
  },
  {
   "cell_type": "code",
   "execution_count": 13,
   "id": "d49639a7-ab08-411d-adc4-0939e0164578",
   "metadata": {},
   "outputs": [],
   "source": [
    "# A function to do preorder tree traversal\n",
    "def traverse_inorder_recursive(root: BinaryTreeNode) -> None:\n",
    "    \"\"\"Traverse tree using preorder recursively.\n",
    "\n",
    "    Args:\n",
    "        root (BinaryTreeNode): A binary tree node.\n",
    "    \"\"\"\n",
    "    # base case\n",
    "    if root is None:\n",
    "        return\n",
    "    \n",
    "\n",
    "\n",
    "    # print(\"Recurring on left child\")\n",
    "    # Then recur on left child\n",
    "    traverse_inorder_recursive(root.left)\n",
    "    \n",
    "    # First print the data of node\n",
    "    print(root.curr_node_value)\n",
    "    \n",
    "    # print(\"Recurring on right child\")\n",
    "    # Finally recur on right child\n",
    "    traverse_inorder_recursive(root.right)\n",
    "    \n"
   ]
  },
  {
   "cell_type": "code",
   "execution_count": 14,
   "id": "83b65542-14b0-48d4-9bf6-2abb28b4d223",
   "metadata": {},
   "outputs": [
    {
     "name": "stdout",
     "output_type": "stream",
     "text": [
      "3\n",
      "2\n",
      "5\n",
      "4\n",
      "1\n",
      "8\n",
      "7\n",
      "6\n",
      "9\n"
     ]
    }
   ],
   "source": [
    "traverse_inorder_recursive(root)"
   ]
  }
 ],
 "metadata": {
  "kernelspec": {
   "display_name": "Python 3 (ipykernel)",
   "language": "python",
   "name": "python3"
  },
  "language_info": {
   "codemirror_mode": {
    "name": "ipython",
    "version": 3
   },
   "file_extension": ".py",
   "mimetype": "text/x-python",
   "name": "python",
   "nbconvert_exporter": "python",
   "pygments_lexer": "ipython3",
   "version": "3.9.12"
  }
 },
 "nbformat": 4,
 "nbformat_minor": 5
}
