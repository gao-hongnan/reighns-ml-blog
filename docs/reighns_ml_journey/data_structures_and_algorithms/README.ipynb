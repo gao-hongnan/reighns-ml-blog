{
 "cells": [
  {
   "cell_type": "markdown",
   "id": "939a3545-ccd1-4146-9020-cd1bead7b686",
   "metadata": {},
   "source": [
    "Brain dump all links here."
   ]
  },
  {
   "cell_type": "markdown",
   "id": "e4fe6d61-65eb-482d-bb1a-e531f6ad238a",
   "metadata": {},
   "source": [
    "## Recursion\n",
    "\n",
    "- https://www.freecodecamp.org/news/how-recursion-works-explained-with-flowcharts-and-a-video-de61f40cb7f9/#:~:text=Recursive%20functions%20use%20something%20called,things%20one%20at%20a%20time.\n",
    "- https://www.youtube.com/watch?v=rf6uf3jNjbo\n",
    "- https://www.youtube.com/watch?v=boS4N1_TLBk\n",
    "- https://codecrucks.com/tower-of-hanoi/\n",
    "- https://www.mathsisfun.com/games/towerofhanoi.html\n",
    "- https://math.libretexts.org/Bookshelves/Mathematical_Logic_and_Proof/Book%3A_Mathematical_Reasoning__Writing_and_Proof_(Sundstrom)/04%3A_Mathematical_Induction/4.03%3A_Induction_and_Recursion\n",
    "- https://yourbasic.org/algorithms/induction-recursive-functions/\n",
    "- https://proofwiki.org/wiki/Tower_of_Hanoi\n"
   ]
  }
 ],
 "metadata": {
  "kernelspec": {
   "display_name": "Python 3 (ipykernel)",
   "language": "python",
   "name": "python3"
  },
  "language_info": {
   "codemirror_mode": {
    "name": "ipython",
    "version": 3
   },
   "file_extension": ".py",
   "mimetype": "text/x-python",
   "name": "python",
   "nbconvert_exporter": "python",
   "pygments_lexer": "ipython3",
   "version": "3.9.12"
  }
 },
 "nbformat": 4,
 "nbformat_minor": 5
}
