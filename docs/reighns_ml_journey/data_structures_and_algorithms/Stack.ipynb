{
 "cells": [
  {
   "cell_type": "markdown",
   "id": "74ad8126-f170-428c-964b-667d0404b53b",
   "metadata": {},
   "source": [
    "[![Open in Colab](https://colab.research.google.com/assets/colab-badge.svg)](https://colab.research.google.com/github/reighns92/reighns-ml-blog/blob/master/docs/reighns_ml_journey/data_structures_and_algorithms/Stack.ipynb)"
   ]
  },
  {
   "cell_type": "markdown",
   "id": "070146b9-88fb-4454-a129-d8db71dcf0ae",
   "metadata": {},
   "source": [
    "$$\n",
    "\\newcommand{\\O}{\\mathcal{O}}\n",
    "$$"
   ]
  },
  {
   "cell_type": "markdown",
   "id": "fa5c755d-b1e2-4302-b1fb-f567323f39de",
   "metadata": {},
   "source": [
    "## The Stack Abstract Data Type [^The Stack Abstract Data Type]\n",
    "\n",
    "This link shows an example in the form of a table on how stack works.\n",
    "\n",
    "One needs to know that a stack has two fundamental operations - `push` and `pop`.\n",
    "- `push`: The `push` operation stores something on the top of the stack and the;\n",
    "- `pop`: operation retrieves something from the top of the stack.\n",
    "\n",
    "[^The Stack Abstract Data Type]: The Stack Abstract Data Type: [https://runestone.academy/ns/books/published/pythonds3/BasicDS/TheStackAbstractDataType.html](https://runestone.academy/ns/books/published/pythonds3/BasicDS/TheStackAbstractDataType.html)"
   ]
  },
  {
   "cell_type": "markdown",
   "id": "0de95bdf-6c55-4dec-81da-c127207a5627",
   "metadata": {},
   "source": [
    "<div class=\"container\" style=\"display: inline-block;\">  \n",
    "  <figure>\n",
    "  <div style=\"float: left; padding: 10px;\">\n",
    "    <img src='https://storage.googleapis.com/reighns/reighns_ml_projects/docs/data_structures_and_algorithms/stack/stack_flow.png' width=\"350\" height=\"350\" align=\"center\"/>\n",
    "    <figcaption align=\"center\"><b>Stack Diagram</b></figcaption>\n",
    "  </div>\n",
    "\n",
    "  <div style=\"float: right; padding: 10px;\">\n",
    "    <img src='https://storage.googleapis.com/reighns/reighns_ml_projects/docs/data_structures_and_algorithms/stack/stack_diagram.png' width=\"350\" height=\"350\" align=\"center\"/>\n",
    "    <figcaption align=\"center\"><b>Stack Workflow</b></figcaption>\n",
    "  </div>\n",
    "  </figure>\n",
    "</div>\n"
   ]
  },
  {
   "cell_type": "markdown",
   "id": "8c8b0e3b-a020-4027-a077-b2003a684ab1",
   "metadata": {},
   "source": [
    "### Push (First In Last Out)\n",
    "\n",
    "See diagram."
   ]
  },
  {
   "cell_type": "markdown",
   "id": "9e0e3d02-68f6-4181-961a-e3e438779b5b",
   "metadata": {},
   "source": [
    "### Pop (Last In First Out)\n",
    "\n",
    "See diagram."
   ]
  },
  {
   "cell_type": "markdown",
   "id": "5998dd8c-b4b7-4226-99ee-8d066f76796e",
   "metadata": {},
   "source": [
    "## Implementing Stack Using List [^Implementing Stack Using List]\n",
    "\n",
    "\n",
    "[^Implementing Stack Using List]: Implementing Stack Using List: [https://www.geeksforgeeks.org/stack-data-structure-introduction-program/?ref=lbp](https://www.geeksforgeeks.org/stack-data-structure-introduction-program/?ref=lbp)"
   ]
  },
  {
   "cell_type": "markdown",
   "id": "c22647e6-d3d1-4a85-84b4-168c4ce72e4f",
   "metadata": {},
   "source": [
    "### Python Implementation"
   ]
  },
  {
   "cell_type": "code",
   "execution_count": 2,
   "id": "eea46df6-7fac-4f76-8a2d-20ae80c03afc",
   "metadata": {},
   "outputs": [],
   "source": [
    "from typing import List, Any\n",
    "\n",
    "class StackList:\n",
    "    \"\"\"Creates a stack class that uses a list as the underlying data structure.\n",
    "\n",
    "    Attributes:\n",
    "        stack_items (list): The list that stores the items in the stack.\n",
    "    \"\"\"\n",
    "\n",
    "    stack_items: List[Any]\n",
    "\n",
    "    def __init__(self) -> None:\n",
    "        \"\"\"Constructor for the Stack class.\n",
    "\n",
    "        Creates an empty stack (list).\n",
    "        \"\"\"\n",
    "        self.stack_items = []\n",
    "\n",
    "    def is_empty(self) -> bool:\n",
    "        \"\"\"Check if stack is empty\n",
    "\n",
    "        Returns:\n",
    "            bool: True if stack is empty, False otherwise.\n",
    "        \"\"\"\n",
    "        return len(self.stack_items) == 0\n",
    "\n",
    "    def push(self, item: Any) -> None:\n",
    "        \"\"\"Push an item on top of the stack.\n",
    "\n",
    "        In this implementation, the item is appended to the end of the list.\n",
    "\n",
    "        Args:\n",
    "            item (Any): The current item pushed into the stack.\n",
    "        \"\"\"\n",
    "        self.stack_items.append(item)\n",
    "\n",
    "    def pop(self) -> Any:\n",
    "        \"\"\"Pop an item from the top of the stack.\n",
    "\n",
    "        In this implementation, the item at the end of the list is returned and removed.\n",
    "\n",
    "        Raises:\n",
    "            Exception: If stack is empty.\n",
    "\n",
    "        Returns:\n",
    "            Any: The top most item in the stack.\n",
    "        \"\"\"\n",
    "        if self.is_empty():\n",
    "            raise Exception(\"Stack is empty\")\n",
    "        return self.stack_items.pop()\n",
    "\n",
    "    def peek(self) -> Any:\n",
    "        \"\"\"Return the top most item in the stack without modifying the stack.\n",
    "\n",
    "        This has differences from pop in that it does not remove the item from the stack.\n",
    "\n",
    "        Returns:\n",
    "            Any: The top most item in the stack.\n",
    "        \"\"\"\n",
    "\n",
    "        return self.stack_items[-1]\n",
    "\n",
    "    def size(self) -> int:\n",
    "        \"\"\"Return the size of the stack.\n",
    "\n",
    "        Returns:\n",
    "            int: The size of the stack.\n",
    "        \"\"\"\n",
    "        return len(self.stack_items)"
   ]
  },
  {
   "cell_type": "markdown",
   "id": "bbc9724b-33d7-493e-a6b8-3847fff09dee",
   "metadata": {},
   "source": [
    "We push 4 items in this sequence `4, dog, True, 8.4` and now the \"top\" of the stack is `8.4`.\n",
    "\n",
    "So as we pop them, it goes from `8.4, True, dog, 4`."
   ]
  },
  {
   "cell_type": "code",
   "execution_count": 3,
   "id": "d219bc10-8a81-47a1-9a3f-de21b3df7071",
   "metadata": {},
   "outputs": [
    {
     "name": "stdout",
     "output_type": "stream",
     "text": [
      "True\n",
      "dog\n",
      "3\n",
      "False\n",
      "8.4\n",
      "True\n",
      "2\n"
     ]
    }
   ],
   "source": [
    "s = StackList()\n",
    "\n",
    "print(s.is_empty())\n",
    "s.push(4)\n",
    "s.push(\"dog\")\n",
    "print(s.peek())\n",
    "s.push(True)\n",
    "print(s.size())\n",
    "print(s.is_empty())\n",
    "s.push(8.4)\n",
    "print(s.pop())\n",
    "print(s.pop())\n",
    "print(s.size())"
   ]
  },
  {
   "cell_type": "markdown",
   "id": "7f98b885-82e0-41e0-ad04-88d7a028ea0f",
   "metadata": {},
   "source": [
    "### Time Complexity\n",
    "\n",
    "Time complexity: $\\O(1)$ for both `push` and `pop`."
   ]
  },
  {
   "cell_type": "markdown",
   "id": "57a46e86-3315-43c2-b7ff-90c9f42ac74c",
   "metadata": {},
   "source": [
    "### Space Complexity\n",
    "\n",
    "Space complexity: $\\O(n)$. The space required depends on the number of items stored in the list `stack_items`, so if `stack_items` stores up to $n$ items, then space complexity is $\\O(n)$."
   ]
  },
  {
   "cell_type": "markdown",
   "id": "2867908b-8da1-4cde-bda8-9fd0eb3ee133",
   "metadata": {},
   "source": [
    "## Implementing Stack Using Linked List [^Implementing Stack Using Linked List]\n",
    "\n",
    "We need to think a bit little different from list where you easily visualize a list's first and last element as the bottom and top of the stack respectively.\n",
    "\n",
    "For Linked List, you think of a reversed list. That is to say, the `head` node of the Linked List is the **top** of the stack and the last node (not the `None` node) will be the beginning of the stack.\n",
    "\n",
    "[^Implementing Stack Using Linked List]: Implementing Stack Using Linked List: [https://www.geeksforgeeks.org/stack-data-structure-introduction-program/?ref=lbp](https://www.geeksforgeeks.org/stack-data-structure-introduction-program/?ref=lbp)"
   ]
  },
  {
   "cell_type": "markdown",
   "id": "569980cb-5c34-494e-87a8-475b1c4842ce",
   "metadata": {},
   "source": [
    "### Python Implementation"
   ]
  },
  {
   "cell_type": "code",
   "execution_count": 11,
   "id": "3af9ca51-f45e-4d31-9553-cb7f23373aa8",
   "metadata": {},
   "outputs": [],
   "source": [
    "from typing import Optional, Any\n",
    "\n",
    "class LinkedListNode:\n",
    "    \"\"\"\n",
    "    The LinkedListNode object is initialized with a value and can be linked to the next node by setting the next_node attribute to a LinkedListNode object.\n",
    "    This node is Singular associated with Singly Linked List.\n",
    "\n",
    "    Attributes:\n",
    "        curr_node_value (Any): The value associated with the created node.\n",
    "        next_node (LinkedListNode): The next node in the linked list. Note the distinction between curr_node_value and next_node, the former is the value of the node, the latter is the pointer to the next node.\n",
    "\n",
    "    Examples:\n",
    "        >>> node = Node(1)\n",
    "        >>> print(node.curr_node_value)\n",
    "        1\n",
    "        >>> print(node.next_node)\n",
    "        None\n",
    "        >>> node.next_node = Node(2)\n",
    "        >>> print(node.next_node.curr_node_value)\n",
    "        2\n",
    "        >>> print(node.next_node.next_node)\n",
    "        None\n",
    "    \"\"\"\n",
    "\n",
    "    curr_node_value: Any\n",
    "    next_node: Optional[\"LinkedListNode\"]\n",
    "\n",
    "    def __init__(self, curr_node_value: Any = None) -> None:\n",
    "        self.curr_node_value = curr_node_value\n",
    "        self.next_node = None"
   ]
  },
  {
   "cell_type": "code",
   "execution_count": 16,
   "id": "eb09d1d8-6587-4cc2-a330-bc5493ed64bd",
   "metadata": {},
   "outputs": [],
   "source": [
    "class StackLinkedList:\n",
    "    def __init__(self) -> None:\n",
    "        self.head = None  # top of the stack\n",
    "\n",
    "    def is_empty(self) -> bool:\n",
    "        \"\"\"Check if the stack is empty.\n",
    "\n",
    "        The stack is empty if the head is None.\n",
    "\n",
    "        Returns:\n",
    "            bool: True if the stack is empty, False otherwise.\n",
    "        \"\"\"\n",
    "        return self.head is None\n",
    "\n",
    "    def push(self, curr_node_value: Any) -> None:\n",
    "        \"\"\"Push a new node on top of the stack.\n",
    "\n",
    "        # if push a value say 10 inside,, then the new node will be the head of the stack.\n",
    "        # if push another value say 20 inside, then the 20 will be the head of the stack.\n",
    "        # everytime you push a value it must be the pushed node become head.\n",
    "        # so if you push 10, 20, 30, then it must be 30 -> 20 -> 10 -> None.\n",
    "        # so think of base case if push 10 what happens?\n",
    "        # as usual the logic is:\n",
    "            - Start with the base case self.head to be None first, this will keep incrementing as we push more values.\n",
    "            - Create a new node with the value of curr_node_value whenever a new value is pushed.\n",
    "            - If we push in a 10, the newly_pushed_node holds the value of 10.\n",
    "            - We set newly_pushed_node.next_node to become self.head so now newly_pushed_node becomes 10 -> None.\n",
    "            - Now set self.head to be the newly_pushed_node so next time we push another value, it will be new_value -> 10 -> None.\n",
    "            - If we push in a 20, the newly_pushed_node variables holds 20.\n",
    "            - We set newly_pushed_node.next_node to become self.head so now newly_pushed_node becomes 20 -> (10 -> None).\n",
    "            - The logic continues.\n",
    "\n",
    "        Args:\n",
    "            curr_node_value (Any): The current item (node) pushed into the stack.\n",
    "        \"\"\"\n",
    "\n",
    "        newly_pushed_node = LinkedListNode(curr_node_value)\n",
    "        newly_pushed_node.next_node = self.head\n",
    "        self.head = newly_pushed_node\n",
    "        print(f\"Pushed {curr_node_value} onto the stack\")\n",
    "\n",
    "    def pop(self) -> Any:\n",
    "        \"\"\"Pop an item from the top of the stack.\n",
    "\n",
    "        In this implementation, the item at the head of the Linked List is returned and removed.\n",
    "\n",
    "        # logic is pop the head and it can always work since whenever you access self.head, the current value it holds is the first value and also the top of the stack.\n",
    "        # - popped_node: set to self.head.\n",
    "        # - self.head: set to self.head.next_node which is akin to removing the head and now the next value is the new head.\n",
    "        # - popped_value: this is the current node value of popped_node.\n",
    "\n",
    "        Raises:\n",
    "            Exception: If stack is empty.\n",
    "\n",
    "        Returns:\n",
    "            Any: The top most item in the stack.\n",
    "        \"\"\"\n",
    "\n",
    "        if self.is_empty():\n",
    "            raise Exception(\"Stack is empty\")\n",
    "\n",
    "        popped_node = self.head\n",
    "        self.head = self.head.next_node\n",
    "        popped_value = popped_node.curr_node_value\n",
    "        print(f\"Popped {popped_value} from the stack\")\n",
    "        \n",
    "        return popped_value\n",
    "\n",
    "    def peek(self) -> Any:\n",
    "        \"\"\"Peek at the top of the stack.\n",
    "\n",
    "        In this implementation, the item at the head of the Linked List is returned.\n",
    "\n",
    "        Raises:\n",
    "            Exception: If stack is empty.\n",
    "\n",
    "        Returns:\n",
    "            Any: The top most item in the stack.\n",
    "        \"\"\"\n",
    "\n",
    "        if self.is_empty():\n",
    "            raise Exception(\"Stack is empty\")\n",
    "\n",
    "        return self.head.curr_node_value"
   ]
  },
  {
   "cell_type": "code",
   "execution_count": 18,
   "id": "58c19b89-ab42-4867-8250-d290c821fa0f",
   "metadata": {},
   "outputs": [
    {
     "name": "stdout",
     "output_type": "stream",
     "text": [
      "Pushed 10 onto the stack\n",
      "Pushed 20 onto the stack\n",
      "Pushed 30 onto the stack\n",
      "Popped 30 from the stack\n"
     ]
    }
   ],
   "source": [
    "# Driver code\n",
    "stack = StackLinkedList()\n",
    "stack.push(10)\n",
    "stack.push(20)\n",
    "stack.push(30)\n",
    "_ = stack.pop()"
   ]
  },
  {
   "cell_type": "markdown",
   "id": "2122fe63-e6fe-49ba-82b6-d194c0353fc8",
   "metadata": {},
   "source": [
    "### Time Complexity\n",
    "\n",
    "Time complexity: $\\O(1)$ for both `push` and `pop` as no **traversal** is involved."
   ]
  },
  {
   "cell_type": "markdown",
   "id": "d042e54c-06fc-4493-8e67-f3815825bffa",
   "metadata": {},
   "source": [
    "### Space Complexity\n",
    "\n",
    "Space complexity: $\\O(n)$. The space required depends on the number of items stored in the list `stack_items`, so if `stack_items` stores up to $n$ items, then space complexity is $\\O(n)$."
   ]
  }
 ],
 "metadata": {
  "kernelspec": {
   "display_name": "Python 3 (ipykernel)",
   "language": "python",
   "name": "python3"
  },
  "language_info": {
   "codemirror_mode": {
    "name": "ipython",
    "version": 3
   },
   "file_extension": ".py",
   "mimetype": "text/x-python",
   "name": "python",
   "nbconvert_exporter": "python",
   "pygments_lexer": "ipython3",
   "version": "3.9.12"
  }
 },
 "nbformat": 4,
 "nbformat_minor": 5
}
