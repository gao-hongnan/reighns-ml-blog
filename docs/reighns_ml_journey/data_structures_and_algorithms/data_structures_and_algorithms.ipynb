{
 "cells": [
  {
   "cell_type": "code",
   "execution_count": 1,
   "id": "0f6c8d2e-1d81-45b3-a692-dc3cae8edf49",
   "metadata": {},
   "outputs": [],
   "source": [
    "from typing import *"
   ]
  },
  {
   "cell_type": "markdown",
   "id": "46f5bcd0-d6d3-4a6c-a27e-a8010746e2d6",
   "metadata": {},
   "source": [
    "### Contains Duplicate"
   ]
  },
  {
   "cell_type": "markdown",
   "id": "3d7f8b46-04c9-466e-a61c-4f4709d5e619",
   "metadata": {},
   "source": [
    "#### Time Complexity\n",
    "\n"
   ]
  },
  {
   "cell_type": "code",
   "execution_count": 2,
   "id": "f74ac6b0-9dea-4d66-8e42-123380630849",
   "metadata": {},
   "outputs": [],
   "source": [
    "def containsDuplicate(nums: List[int]) -> bool:\n",
    "    \"\"\"Check if a list contains duplicate elements.\n",
    "\n",
    "    Args:\n",
    "        nums (List[int]): List of integers.\n",
    "\n",
    "    Returns:\n",
    "        bool: Boolean value to indicate if the list contains duplicate elements.\n",
    "    \"\"\"\n",
    "    dup_dict = {}\n",
    "\n",
    "    for _, num in enumerate(nums):\n",
    "        if num not in dup_dict:\n",
    "            dup_dict[num] = 0\n",
    "        else:\n",
    "            return True\n",
    "    return False"
   ]
  },
  {
   "cell_type": "code",
   "execution_count": 3,
   "id": "6b522f36-ec19-467c-8f03-db917be3ad86",
   "metadata": {},
   "outputs": [
    {
     "data": {
      "text/plain": [
       "True"
      ]
     },
     "execution_count": 3,
     "metadata": {},
     "output_type": "execute_result"
    }
   ],
   "source": [
    "containsDuplicate(nums=[1,2,3,2,11])"
   ]
  },
  {
   "cell_type": "code",
   "execution_count": 17,
   "id": "afb1dc51-274f-4d7f-8a66-c22a1040612d",
   "metadata": {},
   "outputs": [],
   "source": [
    "class Node:\n",
    "    def __init__(self, value: Any, next_node=None, prev_node=None):\n",
    "        self.value = value\n",
    "        self.next = next_node\n",
    "        self.prev = prev_node\n",
    "\n",
    "    def __str__(self):\n",
    "        return str(self.value)"
   ]
  },
  {
   "cell_type": "code",
   "execution_count": 22,
   "id": "6efc0d57-4bc3-4d7b-a05c-add0a5f0a987",
   "metadata": {},
   "outputs": [],
   "source": [
    "Node([1,2]).next"
   ]
  },
  {
   "cell_type": "code",
   "execution_count": null,
   "id": "ea6a3d90-c616-40e4-bc6c-8da3aa7f6118",
   "metadata": {},
   "outputs": [],
   "source": [
    "class LinkedList:\n",
    "    def __init__(self, values=None):\n",
    "        self.head = None\n",
    "        self.tail = None\n",
    "        if values is not None:\n",
    "            self.add_multiple_nodes(values)\n",
    "            \n",
    "    def add_node(self, value):\n",
    "        if self.head is None:\n",
    "            self.tail = self.head = Node(value)\n",
    "        else:\n",
    "            self.tail.next = Node(value)\n",
    "            self.tail = self.tail.next\n",
    "        return self.tail\n"
   ]
  },
  {
   "cell_type": "code",
   "execution_count": null,
   "id": "343df860-0487-4275-9e3c-48c80147a413",
   "metadata": {},
   "outputs": [],
   "source": []
  },
  {
   "cell_type": "code",
   "execution_count": null,
   "id": "287e34bd-4668-40ed-9617-4962dc82c9d0",
   "metadata": {},
   "outputs": [],
   "source": []
  },
  {
   "cell_type": "code",
   "execution_count": 10,
   "id": "27c9f45c-7eb0-4180-881b-696eaf66bf13",
   "metadata": {},
   "outputs": [],
   "source": [
    "llist = LinkedList([\"a\", \"b\", \"c\", \"d\", \"e\"])"
   ]
  },
  {
   "cell_type": "code",
   "execution_count": 16,
   "id": "5970e548-31e2-487a-8de0-d109e3289d41",
   "metadata": {},
   "outputs": [
    {
     "data": {
      "text/plain": [
       "b"
      ]
     },
     "execution_count": 16,
     "metadata": {},
     "output_type": "execute_result"
    }
   ],
   "source": [
    "llist.head.next"
   ]
  },
  {
   "cell_type": "code",
   "execution_count": null,
   "id": "21ae3f56-4012-461a-804f-8368f5596735",
   "metadata": {},
   "outputs": [],
   "source": []
  },
  {
   "cell_type": "code",
   "execution_count": 23,
   "id": "b25ca6b5-e1ab-4470-90e5-8473462975c5",
   "metadata": {},
   "outputs": [],
   "source": [
    "# A simple Python program to introduce a linked list\n",
    "\n",
    "# Node class\n",
    "class Node:\n",
    "\n",
    "\t# Function to initialise the node object\n",
    "\tdef __init__(self, data):\n",
    "\t\tself.data = data # Assign data\n",
    "\t\tself.next = None # Initialize next as null\n",
    "\n",
    "\n",
    "# Linked List class contains a Node object\n",
    "class LinkedList:\n",
    "\n",
    "\t# Function to initialize head\n",
    "\tdef __init__(self):\n",
    "\t\tself.head = None\n",
    "\n",
    "\n",
    "# Code execution starts here\n",
    "if __name__=='__main__':\n",
    "\n",
    "\t# Start with the empty list\n",
    "\tllist = LinkedList()\n",
    "\n",
    "\tllist.head = Node(1)\n",
    "\tsecond = Node(2)\n",
    "\tthird = Node(3)\n",
    "\n",
    "\t'''\n",
    "\tThree nodes have been created.\n",
    "\tWe have references to these three blocks as head,\n",
    "\tsecond and third\n",
    "\n",
    "\tllist.head\t second\t\t\t third\n",
    "\t\t|\t\t\t |\t\t\t\t |\n",
    "\t\t|\t\t\t |\t\t\t\t |\n",
    "\t+----+------+\t +----+------+\t +----+------+\n",
    "\t| 1 | None |\t | 2 | None |\t | 3 | None |\n",
    "\t+----+------+\t +----+------+\t +----+------+\n",
    "\t'''\n",
    "\n",
    "\tllist.head.next = second; # Link first node with second\n",
    "\n",
    "\t'''\n",
    "\tNow next of first Node refers to second. So they\n",
    "\tboth are linked.\n",
    "\n",
    "\tllist.head\t second\t\t\t third\n",
    "\t\t|\t\t\t |\t\t\t\t |\n",
    "\t\t|\t\t\t |\t\t\t\t |\n",
    "\t+----+------+\t +----+------+\t +----+------+\n",
    "\t| 1 | o-------->| 2 | null |\t | 3 | null |\n",
    "\t+----+------+\t +----+------+\t +----+------+\n",
    "\t'''\n",
    "\n",
    "\tsecond.next = third; # Link second node with the third node\n",
    "\n",
    "\t'''\n",
    "\tNow next of second Node refers to third. So all three\n",
    "\tnodes are linked.\n",
    "\n",
    "\tllist.head\t second\t\t\t third\n",
    "\t\t|\t\t\t |\t\t\t\t |\n",
    "\t\t|\t\t\t |\t\t\t\t |\n",
    "\t+----+------+\t +----+------+\t +----+------+\n",
    "\t| 1 | o-------->| 2 | o-------->| 3 | null |\n",
    "\t+----+------+\t +----+------+\t +----+------+\n",
    "\t'''\n"
   ]
  },
  {
   "cell_type": "code",
   "execution_count": 31,
   "id": "70a36a06-b127-4ab5-b0b9-8bec5f49bcac",
   "metadata": {},
   "outputs": [
    {
     "data": {
      "text/plain": [
       "3"
      ]
     },
     "execution_count": 31,
     "metadata": {},
     "output_type": "execute_result"
    }
   ],
   "source": [
    "llist.head.next.next.data"
   ]
  },
  {
   "cell_type": "code",
   "execution_count": null,
   "id": "38b37171-48a3-4151-a8e2-ff75354e660c",
   "metadata": {},
   "outputs": [],
   "source": []
  }
 ],
 "metadata": {
  "kernelspec": {
   "display_name": "Python 3 (ipykernel)",
   "language": "python",
   "name": "python3"
  },
  "language_info": {
   "codemirror_mode": {
    "name": "ipython",
    "version": 3
   },
   "file_extension": ".py",
   "mimetype": "text/x-python",
   "name": "python",
   "nbconvert_exporter": "python",
   "pygments_lexer": "ipython3",
   "version": "3.9.10"
  }
 },
 "nbformat": 4,
 "nbformat_minor": 5
}
