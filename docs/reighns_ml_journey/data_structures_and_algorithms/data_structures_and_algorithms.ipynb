{
 "cells": [
  {
   "cell_type": "code",
   "execution_count": 1,
   "id": "0f6c8d2e-1d81-45b3-a692-dc3cae8edf49",
   "metadata": {},
   "outputs": [],
   "source": [
    "from typing import *"
   ]
  },
  {
   "cell_type": "markdown",
   "id": "46f5bcd0-d6d3-4a6c-a27e-a8010746e2d6",
   "metadata": {},
   "source": [
    "### Contains Duplicate"
   ]
  },
  {
   "cell_type": "markdown",
   "id": "3d7f8b46-04c9-466e-a61c-4f4709d5e619",
   "metadata": {},
   "source": [
    "#### Time Complexity\n",
    "\n"
   ]
  },
  {
   "cell_type": "code",
   "execution_count": 2,
   "id": "f74ac6b0-9dea-4d66-8e42-123380630849",
   "metadata": {},
   "outputs": [],
   "source": [
    "def containsDuplicate(nums: List[int]) -> bool:\n",
    "    \"\"\"Check if a list contains duplicate elements.\n",
    "\n",
    "    Args:\n",
    "        nums (List[int]): List of integers.\n",
    "\n",
    "    Returns:\n",
    "        bool: Boolean value to indicate if the list contains duplicate elements.\n",
    "    \"\"\"\n",
    "    dup_dict = {}\n",
    "\n",
    "    for _, num in enumerate(nums):\n",
    "        if num not in dup_dict:\n",
    "            dup_dict[num] = 0\n",
    "        else:\n",
    "            return True\n",
    "    return False"
   ]
  },
  {
   "cell_type": "code",
   "execution_count": 3,
   "id": "6b522f36-ec19-467c-8f03-db917be3ad86",
   "metadata": {},
   "outputs": [
    {
     "data": {
      "text/plain": [
       "True"
      ]
     },
     "execution_count": 3,
     "metadata": {},
     "output_type": "execute_result"
    }
   ],
   "source": [
    "containsDuplicate(nums=[1,2,3,2,11])"
   ]
  }
 ],
 "metadata": {
  "kernelspec": {
   "display_name": "Python 3 (ipykernel)",
   "language": "python",
   "name": "python3"
  },
  "language_info": {
   "codemirror_mode": {
    "name": "ipython",
    "version": 3
   },
   "file_extension": ".py",
   "mimetype": "text/x-python",
   "name": "python",
   "nbconvert_exporter": "python",
   "pygments_lexer": "ipython3",
   "version": "3.9.10"
  }
 },
 "nbformat": 4,
 "nbformat_minor": 5
}
