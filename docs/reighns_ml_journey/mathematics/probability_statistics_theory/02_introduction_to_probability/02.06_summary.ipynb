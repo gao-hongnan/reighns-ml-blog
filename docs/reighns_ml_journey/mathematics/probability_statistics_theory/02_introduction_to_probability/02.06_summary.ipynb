{
 "cells": [
  {
   "cell_type": "markdown",
   "id": "38885844-be8c-4d0c-a77a-1f5e60ba85a3",
   "metadata": {},
   "source": [
    "$$\n",
    "\\newcommand{\\R}{\\mathbb{R}}\n",
    "\\newcommand{\\v}{\\mathbf{v}}\n",
    "\\newcommand{\\a}{\\mathbf{a}}\n",
    "\\newcommand{\\b}{\\mathbf{b}}\n",
    "\\newcommand{\\c}{\\mathbf{c}}\n",
    "\\newcommand{\\w}{\\mathbf{w}}\n",
    "\\newcommand{\\u}{\\mathbf{u}}\n",
    "\\newcommand{\\x}{\\mathbf{x}}\n",
    "\\newcommand{\\y}{\\mathbf{y}}\n",
    "\\newcommand{\\z}{\\mathbf{z}}\n",
    "\\newcommand{\\0}{\\mathbf{0}}\n",
    "\\newcommand{\\1}{\\mathbf{1}}\n",
    "\\newcommand{\\A}{\\mathbf{A}}\n",
    "\\newcommand{\\B}{\\mathbf{B}}\n",
    "\\newcommand{\\rank}{\\textbf{rank}}\n",
    "\\newcommand{\\P}{\\mathbb{P}}\n",
    "\\newcommand{\\E}{\\mathcal{F}}\n",
    "\\newcommand{\\S}{\\Omega}\n",
    "\\newcommand{\\C}{\\mathbf{C}}\n",
    "$$"
   ]
  },
  {
   "cell_type": "markdown",
   "id": "4710b7a8-7a14-4eb5-8bb7-9d0090377658",
   "metadata": {},
   "source": [
    "## Summary"
   ]
  },
  {
   "cell_type": "markdown",
   "id": "f6060da1-2b3c-4e08-b7d2-a2bb86ad2057",
   "metadata": {},
   "source": [
    "### Conditional, Priori, Posterior"
   ]
  },
  {
   "cell_type": "markdown",
   "id": "155207dc-2fa8-47da-b720-43f461e14d8f",
   "metadata": {},
   "source": [
    "Common terms in ML world.\n",
    "\n",
    "Suppose there are three types of players in a tennis tournament: A, B, and C. Fifty percent of the contestants in the tournament are A players, 25% are B players, and 25% are C players. Your chance of beating the contestants depends on the class of the player, as follows:\n",
    "\n",
    "- 0.3 against an A player\n",
    "- 0.4 against a B player\n",
    "- 0.5 against a C player\n",
    "\n",
    "If you play a match in this tournament, what is the probability of your winning the\n",
    "match? Supposing that you have won a match, what is the probability that you played\n",
    "against an A player?\n",
    "\n",
    "Let $W$ be the event that you win and $A$ be the event that you played vs player $A$, then\n",
    "\n",
    "- Conditional: $\\P(W~|~A)$ = given you played player $A$, what is your probability of winning?\n",
    "- Priori: $\\P(A)$ = **without entering the game**, what is your probability of facing player $A$?\n",
    "- Posterior: $\\P(A~|~W)$ = **after entering the game and winning the match**, what is your probability that you have actually played with $A$?\n",
    "- Machine Learning: In many practical engineering problems, the question of interest is often the last one. That\n",
    "is, supposing that you have observed something, what is the most likely cause of that event?\n",
    "For example, supposing we have observed this particular dataset, what is the best Gaussian\n",
    "model that would fit the dataset? Questions like these require some analysis of conditional\n",
    "probability, prior probability, and posterior probability.\n"
   ]
  }
 ],
 "metadata": {
  "kernelspec": {
   "display_name": "Python 3 (ipykernel)",
   "language": "python",
   "name": "python3"
  },
  "language_info": {
   "codemirror_mode": {
    "name": "ipython",
    "version": 3
   },
   "file_extension": ".py",
   "mimetype": "text/x-python",
   "name": "python",
   "nbconvert_exporter": "python",
   "pygments_lexer": "ipython3",
   "version": "3.9.11"
  }
 },
 "nbformat": 4,
 "nbformat_minor": 5
}
