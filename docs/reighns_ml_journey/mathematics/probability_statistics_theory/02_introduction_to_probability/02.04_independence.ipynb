{
 "cells": [
  {
   "cell_type": "markdown",
   "id": "98aa06e6-fc07-468e-a1d3-583d5655e08d",
   "metadata": {},
   "source": [
    "$$\n",
    "\\newcommand{\\R}{\\mathbb{R}}\n",
    "\\newcommand{\\v}{\\mathbf{v}}\n",
    "\\newcommand{\\a}{\\mathbf{a}}\n",
    "\\newcommand{\\b}{\\mathbf{b}}\n",
    "\\newcommand{\\c}{\\mathbf{c}}\n",
    "\\newcommand{\\w}{\\mathbf{w}}\n",
    "\\newcommand{\\u}{\\mathbf{u}}\n",
    "\\newcommand{\\x}{\\mathbf{x}}\n",
    "\\newcommand{\\y}{\\mathbf{y}}\n",
    "\\newcommand{\\z}{\\mathbf{z}}\n",
    "\\newcommand{\\0}{\\mathbf{0}}\n",
    "\\newcommand{\\1}{\\mathbf{1}}\n",
    "\\newcommand{\\A}{\\mathbf{A}}\n",
    "\\newcommand{\\B}{\\mathbf{B}}\n",
    "\\newcommand{\\rank}{\\textbf{rank}}\n",
    "\\newcommand{\\P}{\\mathbb{P}}\n",
    "\\newcommand{\\E}{\\mathcal{F}}\n",
    "\\newcommand{\\S}{\\Omega}\n",
    "\\newcommand{\\C}{\\mathbf{C}}$$"
   ]
  },
  {
   "cell_type": "markdown",
   "id": "4bd68bc5-8150-4df4-bab9-0eab506d4871",
   "metadata": {},
   "source": [
    "## Independence"
   ]
  },
  {
   "cell_type": "markdown",
   "id": "dbb604eb-92c0-4d04-9373-a63c6622d6fd",
   "metadata": {},
   "source": [
    "### Definition (Independent Events)\n",
    "\n",
    "Two events $A, B \\in \\E$ are **statiscally independent** if\n",
    "\n",
    "$$\n",
    "\\P(A \\cap B) = \\P(A)P(B)\n",
    "$$\n",
    "\n",
    "---\n",
    "\n",
    "**Stanley H. Chan: Introduction to Probability for Data Science, 2021. (pp. 85)**"
   ]
  },
  {
   "cell_type": "markdown",
   "id": "dc48808c-073b-4b92-bab6-fda8e61f9bfb",
   "metadata": {
    "jp-MarkdownHeadingCollapsed": true,
    "tags": []
   },
   "source": [
    "### Intuition (Independence)\n",
    "\n",
    "The formula above is not at all intuitive.\n",
    "\n",
    "A more intuitive way to think about it is to think that two events $A$ and $B$ are **independent** if the occurrence of $B$ does not affect the probability of the occurrence of $A$. This can be illustrated further with the following narrative.\n",
    "\n",
    "Let us assume the scenario: given that $B$ occurred (with or without event $A$ occurring), what is the probability of event $A$ occurring? In other words, we are now in the universe in which $B$ occurred - which is the full right circle. In that right hand side circle ($B$), the probability of $A$ is the area of $A$ intersect $B$ divided by the area of the circle - or in other words, the probability of $A$ is the number of outcomes of $A$ in the right circle (which is $n(A \\cap B)$, over the number of outcomes of the reduced sample space $B$. Therefore, if we think of independence as event $B$ occuring not affecting event $A$ occurring, then it means that the probability of $A$ occurring is still the probability of $A$ occurring. i.e $\\P(A|B) = \\P(A)$\n",
    "\n",
    "It follows immediately that $$P(A) = P(A|B) = \\dfrac{P(A \\cap B)}{P(B)} \\Longrightarrow P(A) P(B) = P(A \\cap B)$$\n",
    "\n",
    "<img src=\"https://storage.googleapis.com/reighns/reighns_ml_projects/docs/probability_and_statistics/02_introduction_to_probability/conditional.png\" style=\"margin-left:auto; margin-right:auto\"/>\n",
    "<p style=\"text-align: center\">\n",
    "    <b>Fig 1</b>\n",
    "</p>\n",
    "\n",
    "One can find more intuition here[^intuition_independence].\n",
    "\n",
    "[^intuition_independence]: https://math.stackexchange.com/questions/123192/the-definition-of-independence-is-not-intuitive\n",
    "\n",
    "---\n",
    "\n",
    "**Stanley H. Chan: Introduction to Probability for Data Science, 2021. (pp. 85-88)**"
   ]
  },
  {
   "cell_type": "markdown",
   "id": "20a73178-44ce-4f9b-bdcb-a5c57c74671d",
   "metadata": {},
   "source": [
    "### Definition (Equivalent Independence Definition) \n",
    "\n",
    "We have stated this in the previous intuition section. Now we formally state it:\n",
    "\n",
    "Let $A$ nad $B$ be two events such that $\\P(A)$ and $\\P(B)$ are more than $0$, then $A$ and $B$ are **independent** if\n",
    "\n",
    "$$\n",
    "\\P(A|B) = \\P(A) \\quad \\P(B|A) = \\P(B)\n",
    "$$"
   ]
  }
 ],
 "metadata": {
  "kernelspec": {
   "display_name": "Python 3 (ipykernel)",
   "language": "python",
   "name": "python3"
  },
  "language_info": {
   "codemirror_mode": {
    "name": "ipython",
    "version": 3
   },
   "file_extension": ".py",
   "mimetype": "text/x-python",
   "name": "python",
   "nbconvert_exporter": "python",
   "pygments_lexer": "ipython3",
   "version": "3.9.10"
  }
 },
 "nbformat": 4,
 "nbformat_minor": 5
}
