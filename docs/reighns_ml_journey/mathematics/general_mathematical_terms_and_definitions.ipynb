{
 "cells": [
  {
   "cell_type": "markdown",
   "id": "99c40c71-7189-4bf7-8322-41a74b158ccf",
   "metadata": {},
   "source": [
    "## Contour Plots\n",
    "\n",
    "- [Khan's Academy: Watch this first!](https://www.khanacademy.org/math/multivariable-calculus/thinking-about-multivariable-function/visualizing-scalar-valued-functions/v/contour-plots)\n",
    "- [PythonDataScienceHandbook](https://jakevdp.github.io/PythonDataScienceHandbook/04.04-density-and-contour-plots.html)"
   ]
  }
 ],
 "metadata": {
  "kernelspec": {
   "display_name": "Python 3.9.13 64-bit (microsoft store)",
   "language": "python",
   "name": "python3"
  },
  "language_info": {
   "codemirror_mode": {
    "name": "ipython",
    "version": 3
   },
   "file_extension": ".py",
   "mimetype": "text/x-python",
   "name": "python",
   "nbconvert_exporter": "python",
   "pygments_lexer": "ipython3",
   "version": "3.9.13"
  },
  "vscode": {
   "interpreter": {
    "hash": "24988de01f5712d38136bcd53a7971ae5246c6378aadd346264be1cb7e18f975"
   }
  }
 },
 "nbformat": 4,
 "nbformat_minor": 5
}
