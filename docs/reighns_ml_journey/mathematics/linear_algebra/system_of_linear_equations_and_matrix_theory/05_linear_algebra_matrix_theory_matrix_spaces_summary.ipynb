{
 "cells": [
  {
   "cell_type": "markdown",
   "id": "d10ea2c8-0da6-4e98-bd36-aa66d24e52f2",
   "metadata": {},
   "source": [
    "$$\\newcommand{\\F}{\\mathbb{F}}\n",
    "\\newcommand{\\R}{\\mathbb{R}}\n",
    "\\newcommand{\\v}{\\mathbf{v}}\n",
    "\\newcommand{\\a}{\\mathbf{a}}\n",
    "\\newcommand{\\b}{\\mathbf{b}}\n",
    "\\newcommand{\\c}{\\mathbf{c}}\n",
    "\\newcommand{\\w}{\\mathbf{w}}\n",
    "\\newcommand{\\u}{\\mathbf{u}}\n",
    "\\newcommand{\\x}{\\mathbf{x}}\n",
    "\\newcommand{\\y}{\\mathbf{y}}\n",
    "\\newcommand{\\z}{\\mathbf{z}}\n",
    "\\newcommand{\\0}{\\mathbf{0}}\n",
    "\\newcommand{\\1}{\\mathbf{1}}\n",
    "\\newcommand{\\A}{\\mathbf{A}}\n",
    "\\newcommand{\\B}{\\mathbf{B}}\n",
    "\\newcommand{\\rank}{\\textbf{rank}}\n",
    "\\newcommand{\\C}{\\mathbf{C}}$$"
   ]
  },
  {
   "cell_type": "markdown",
   "id": "9ba732a7-4707-47dd-8b94-08b9d5b89668",
   "metadata": {},
   "source": [
    "## Table of Contents"
   ]
  },
  {
   "cell_type": "markdown",
   "id": "15953128-7a46-4980-a002-019d31ada6ca",
   "metadata": {},
   "source": [
    "- Firstly, recall the solution set of a homogeneous system of linear equations remains unchanged after row operations (i.e. Gaussian-Jordan).\n",
    "- Secondly, define **rank of a matrix** to be the number of pivots after **RREF**. So $\\A\\x = \\0$ becomes $\\U\\x = \\0$.\n",
    "- Rank of a matrix is the number of pivot columns, and therefore is the dimension of the column space"
   ]
  }
 ],
 "metadata": {
  "kernelspec": {
   "display_name": "Python 3 (ipykernel)",
   "language": "python",
   "name": "python3"
  },
  "language_info": {
   "codemirror_mode": {
    "name": "ipython",
    "version": 3
   },
   "file_extension": ".py",
   "mimetype": "text/x-python",
   "name": "python",
   "nbconvert_exporter": "python",
   "pygments_lexer": "ipython3",
   "version": "3.9.10"
  },
  "toc-autonumbering": false,
  "toc-showmarkdowntxt": false
 },
 "nbformat": 4,
 "nbformat_minor": 5
}
