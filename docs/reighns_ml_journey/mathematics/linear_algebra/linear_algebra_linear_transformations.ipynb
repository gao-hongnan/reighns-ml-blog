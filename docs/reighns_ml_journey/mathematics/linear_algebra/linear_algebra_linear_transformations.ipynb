{
 "cells": [
  {
   "cell_type": "markdown",
   "id": "4398651f-ed34-4fef-b6eb-535dbb9e1d18",
   "metadata": {},
   "source": [
    "$$\n",
    "\\newcommand{\\F}{\\mathbb{F}}\n",
    "\\newcommand{\\R}{\\mathbb{R}}\n",
    "\\newcommand{\\a}{\\mathbf{a}}\n",
    "\\newcommand{\\b}{\\mathbf{b}}\n",
    "\\newcommand{\\c}{\\mathbf{c}}\n",
    "\\newcommand{\\u}{\\mathbf{u}}\n",
    "\\newcommand{\\v}{\\mathbf{v}}\n",
    "\\newcommand{\\w}{\\mathbf{w}}\n",
    "\\newcommand{\\x}{\\mathbf{x}}\n",
    "\\newcommand{\\y}{\\mathbf{y}}\n",
    "\\newcommand{\\z}{\\mathbf{z}}\n",
    "\\newcommand{\\A}{\\mathbf{A}}\n",
    "\\newcommand{\\B}{\\mathbf{B}}\n",
    "\\newcommand{\\C}{\\mathbf{C}}\n",
    "\\newcommand{\\rank}{\\textbf{rank}}\n",
    "\\newcommand{\\0}{\\mathbf{0}}\n",
    "\\newcommand{\\1}{\\mathbf{1}}\n",
    "\\newcommand{\\U}{\\mathrm{U}}\n",
    "\\newcommand{\\V}{\\mathrm{V}}\n",
    "\\newcommand{\\W}{\\mathrm{W}}\n",
    "\\newcommand{\\L}{\\mathcal{L}}\n",
    "$$"
   ]
  },
  {
   "cell_type": "markdown",
   "id": "26710ed9-101a-4309-bafc-101c0706668f",
   "metadata": {},
   "source": [
    "# The Vector Space of Linear Transformation"
   ]
  },
  {
   "cell_type": "markdown",
   "id": "de470b71-ad23-4cc7-9371-c64f09c8dbb4",
   "metadata": {},
   "source": [
    "## Disclaimer\n",
    "\n",
    "This chapter/section borrows and reference heavily from the book **Sheldon Axler: Linear Algebra Done Right, 2015**."
   ]
  },
  {
   "cell_type": "markdown",
   "id": "801ea75d-5d6f-4874-8ae7-544d0a012e26",
   "metadata": {},
   "source": [
    "## Linear Transformation"
   ]
  },
  {
   "cell_type": "markdown",
   "id": "a84348a8-96bc-4cc7-892f-bb70a746ea4e",
   "metadata": {},
   "source": [
    "### Definition (Linear Transformation/Map)\n",
    "\n",
    "Let $\\V$ and $\\W$ be two vector spaces over the same field $\\F$. The mapping (function) $T: \\V \\to \\W$ is called a **linear transformation** from vector spaces $\\V$ to $\\W$ with the following properties:\n",
    "\n",
    "- **additivity:** $T(\\u + \\v) = T(\\u) + T(\\v)$ for all $\\u, \\v \\in \\V$.\n",
    "- **homogeneity:** $T\\left(\\lambda(\\v)\\right) = \\lambda(T(\\v))$ for all $\\lambda \\in \\F$ and all $\\v \\in \\V$."
   ]
  },
  {
   "cell_type": "markdown",
   "id": "e80f0fa8-cbaf-4bf4-a8b8-aaab81ee660d",
   "metadata": {},
   "source": [
    "### Notation (Linear Transformation/Map)\n",
    "\n",
    "The set of all linear maps from $\\V$ to $\\W$ is denoted $\\L(\\V, \\W)$. To be more explicit, this set is **every possible linear transformation** from the vector space $\\V$ to $\\W$ over $\\F$."
   ]
  },
  {
   "cell_type": "markdown",
   "id": "8bf79047-f6e2-48b5-9caa-c68d1c29b688",
   "metadata": {},
   "source": [
    "### Example (Linear Transformation/Map)"
   ]
  },
  {
   "cell_type": "markdown",
   "id": "b7e391f1-1948-4433-ac22-770fbc53a6e0",
   "metadata": {},
   "source": [
    "#### The Zero Mapping\n",
    "\n",
    "Let $\\V$ and $\\W$ be two vector subspaces in $\\F$. Then the mapping function $0$ maps any element $\\v \\in \\V$ to the zero vector $\\0_W \\in \\W$ where $\\0_{\\W}$ is the zero (additive) element in the subspace $\\W$.\n",
    "\n",
    "$$\n",
    "\\begin{eqnarray}\n",
    "    0: \\V & \\rightarrow & \\W \\nonumber \\\\\n",
    "     \\v & \\mapsto & \\0_{\\W} \\nonumber\n",
    " \\end{eqnarray}\n",
    "$$\n",
    "\n",
    "This is a linear transformation and called the **zero linear transformation from $\\V$ to $\\W$**."
   ]
  },
  {
   "cell_type": "markdown",
   "id": "4a722513-ab90-4b29-86cc-8d7cc990c3a7",
   "metadata": {},
   "source": [
    "#### The Identity Mapping\n",
    "\n",
    "Let $\\V$ be a vector subspace in $\\F$. Then the mapping function $I$ maps any element $\\v \\in \\V$ to the itself $\\v \\in \\V$.\n",
    "\n",
    "$$\n",
    "\\begin{eqnarray}\n",
    "    I: \\V & \\rightarrow & \\V \\nonumber \\\\\n",
    "     \\v & \\mapsto & \\v \\nonumber\n",
    " \\end{eqnarray}\n",
    "$$\n",
    "\n",
    "This is a linear transformation and called the **identity linear transformation from $\\V$ to $\\V$**.\n",
    "\n",
    "For more examples, read here[^examples_linear_transformation].\n",
    "\n",
    "\n",
    "[^examples_linear_transformation]: **Sheldon Axler: Linear Algebra Done Right, 2015. pp. 52-53**"
   ]
  },
  {
   "cell_type": "markdown",
   "id": "3ac99952-b622-4879-be88-db8e66b20461",
   "metadata": {},
   "source": [
    "#### Non-Linear Mapping\n",
    "\n",
    "The mapping\n",
    "\n",
    "$$\n",
    "\\begin{eqnarray}\n",
    "T : \\F^{3} & \\rightarrow & \\F^{3} \\nonumber \\\\\n",
    "(x, y, z) & \\mapsto & (0, x+y+z, 1) \\nonumber\n",
    "\\end{eqnarray}\n",
    "$$\n",
    "\n",
    "is not a linear transformations assuming $|\\F|\\ge 3$.\n",
    "\n",
    "This is because note that $\\0$ vector must map to $\\0$ vector, if not, it is not a linear transformation because it does not fulfill **homogeneity** (consider $\\v = \\0$ and $\\lambda = 2$, then $T(2(\\0)) \\neq 2(T(\\0)$."
   ]
  },
  {
   "cell_type": "markdown",
   "id": "02901c90-b70d-461f-aea3-92fb1b3a263e",
   "metadata": {},
   "source": [
    "### Theorem (Linear Transformation Maps 0 to 0)\n",
    "\n",
    "Suppose $T$ is a **linear transformation** from $\\V$ to $\\W$, then:\n",
    "\n",
    "$$\n",
    "T(\\0_\\V) = \\0_\\W\n",
    "$$\n",
    "\n",
    "---\n",
    "\n",
    "This is useful for checking if a **linear transformation** is valid because the contrapositive says:\n",
    "\n",
    "> If $\\0_\\V$ does not map to $\\0_\\W$, then $T$ is not a **linear transformation**."
   ]
  },
  {
   "cell_type": "markdown",
   "id": "aea645d3-fd03-44db-bc99-4feaf01ebf0e",
   "metadata": {},
   "source": [
    "### Theorem (Equivalent Linear Transformation Definition)\n",
    "\n",
    "Let\n",
    "\n",
    "$$T: \\V \\rightarrow \\W$$ \n",
    "\n",
    "be a map between two vector spaces over the same field $\\F$. Then the following are equivalent.\n",
    "\n",
    "- $T$ is a linear transformation.\n",
    "- For any $\\v_1, \\v_2 \\in \\V$ and $\\lambda_1, \\lambda_2 \\in \\F$, we have the following:\n",
    "    $$T(\\lambda_1\\v_1 + \\lambda_2\\v_2) = \\lambda_1 T(\\v_1) + \\lambda_2 T(\\v_2)$$"
   ]
  },
  {
   "cell_type": "markdown",
   "id": "87c28625-b9eb-40d0-b33e-d832bd3dbde4",
   "metadata": {},
   "source": [
    "### Theorem (Linear Transformation and Basis of Domain)\n",
    "\n",
    "Let $\\V$ and $\\W$ be vector spaces over $\\F$. \n",
    "\n",
    "Suppose $\\v_1, ..., \\v_n$ is a basis of $\\V$ and $\\w_1, ..., \\w_n \\in \\W$. Then there exists an **unique linear map** $T: \\V \\to \\W$ such that \n",
    "\n",
    "$$\n",
    "T(\\v_j) = \\w_j , \\quad \\forall j = 1, ..., n\n",
    "$$"
   ]
  },
  {
   "cell_type": "markdown",
   "id": "f29c0f29-b2c3-4340-a6ff-51aac26766b8",
   "metadata": {},
   "source": [
    "#### Proof (Linear Transformation and Basis of Domain)\n",
    "\n",
    "Sometimes mathematical theorems are often phrased succinctly. To prove this, one needs two components:\n",
    "\n",
    "> 1. We need to prove the **existence** of $T$, that such a **linear transformation** $T$ exists (i.e. fulfilling the properties in the definition).\n",
    "> 2. We need to show **uniqueness** of such $T$, that is equivalent to asking: given another mapping $T^{'}: \\V \\to \\W$ and assume that $T(\\v) = T^{'}(\\v) , \\forall i$, then $T = T^{'}$.\n",
    "\n",
    "---\n",
    "\n",
    "Neither parts of the proof are trivial, and can be referenced here[^Linear Transformation and Basis of Domain].\n",
    "\n",
    "[^Linear Transformation and Basis of Domain]: **Sheldon Axler: Linear Algebra Done Right, 2015. pp. 54**"
   ]
  },
  {
   "cell_type": "markdown",
   "id": "c86c46ac-82f4-411a-9b65-8475641df978",
   "metadata": {},
   "source": [
    "## Algebraic Operations on Linear Transformation"
   ]
  },
  {
   "cell_type": "markdown",
   "id": "b7d9c675-9a65-4fdf-a0c2-a7a2501d06dc",
   "metadata": {},
   "source": [
    "### Definition (Addition and Scalar-Multiplication)\n",
    "\n",
    "Suppose $S, T \\in \\L(\\V, \\W)$ and $\\lambda \\in \\F$. \n",
    "\n",
    "- We define the **addition** $S + T$ as:\n",
    "    $$(S+T)(\\v) = S(\\v) + T(\\v)$$\n",
    "\n",
    "- And define the **scalar-multiplication** $\\lambda T$ as:\n",
    "    $$\\lambda T(\\v) = T(\\lambda\\v)$$\n",
    "\n",
    "for all $\\v \\in \\V$. In particular, both $S+T$ and $\\lambda T$ are in itself **linear transformations**."
   ]
  },
  {
   "cell_type": "markdown",
   "id": "b8e668d7-2da1-4395-b149-76622608ab25",
   "metadata": {},
   "source": [
    "### Corollary (The set of Linear Transformations is a Vector Space)\n",
    "\n",
    "$\\L(\\V, \\W)$ is a **vector space**. "
   ]
  },
  {
   "cell_type": "markdown",
   "id": "f0745d29-ecca-4234-a819-9d74965969b9",
   "metadata": {},
   "source": [
    "### Definition (Composite of Linear Transformations)\n",
    "\n",
    "Let $S$ and $T$ be **linear transformations** in $\\L(\\V, \\U)$ and $\\L(\\U, \\W)$ respectively:\n",
    "\n",
    "$$\n",
    "S: \\V \\to \\U\n",
    "$$\n",
    "\n",
    "$$\n",
    "T: \\U \\to \\W\n",
    "$$\n",
    "\n",
    "then the **composite map** is also a **linear transformation** given by:\n",
    "\n",
    "$$\n",
    "S \\circ T: \\V \\to \\W \n",
    "$$\n",
    "\n",
    "where $(S \\circ T)(\\v) = S \\circ (T(\\v)$.\n"
   ]
  },
  {
   "cell_type": "markdown",
   "id": "020fd6a2-0335-41a8-9fe7-8d023da19fb8",
   "metadata": {},
   "source": [
    "### Properties of Linear Transformations\n",
    "\n",
    "- **Associativity**\n",
    "- **Identity**\n",
    "- **Distributive Properties**\n",
    "- **Non-Commutative**"
   ]
  },
  {
   "cell_type": "markdown",
   "id": "e835e374-2d8c-4b61-8aa5-8f13ca98abf4",
   "metadata": {},
   "source": [
    "## Matrix and Linear Transformations\n",
    "\n",
    "This is a big topic and has its own spot in this chapter.\n",
    "\n",
    "We let\n",
    "\n",
    "$$\n",
    "\\A=\\begin{bmatrix}\n",
    " a_{11} & a_{12} & \\cdots & a_{1n} \\\\\n",
    " a_{21} & a_{22} & \\cdots & a_{2n} \\\\\n",
    "\\vdots & \\vdots & \\ddots & \\vdots \\\\\n",
    " a_{m1} & a_{m2} & \\cdots & a_{mn} \\\\\n",
    "\\end{bmatrix}\n",
    "$$"
   ]
  },
  {
   "cell_type": "markdown",
   "id": "b5d2e967-bc03-463f-98ae-c39969970d88",
   "metadata": {},
   "source": [
    "### Definition (Matrix is a Linear Transformation Naive)\n",
    "\n",
    "Let $\\A = (\\a_{ij}) \\in \\F^{m \\times n}$ be an $m \\times n$ matrix with entries in a field $\\F$. Let us first define the matrix-vector multiplication $\\A\\x = \\b$ where $\\x \\in \\F^{n}$ and $\\b \\in \\F^{m}$, and specifically, let $\\F^n$ and $\\F^m$ be our vector spaces $\\V$ and $\\W$ respectively.\n",
    "\n",
    "Define the map \n",
    "\n",
    "$$T_{\\A}: \\F_{c}^{n} \\rightarrow F_{c}^{m}$$\n",
    "\n",
    "\n",
    "$$\\x = \n",
    "\\begin{bmatrix}\n",
    "            x_{1}\\\\\n",
    "            x_{2}\\\\\n",
    "            x_{3}\\\\\n",
    "            \\vdots\\\\\n",
    "            x_{n}\n",
    "\\end{bmatrix} \n",
    "\\mapsto \\A\\x\n",
    "$$\n",
    "\n",
    "Then $T_{\\A}$ is a **linear transformation (associated with the matrix $\\A$)** where we are **mapping (sending) the vector $\\x$ from $n$ dimensional space to the vector $\\b = \\A\\x$ in the $m$ dimensional space**.\n",
    "\n",
    "---\n",
    "\n",
    "Important for readers: $T_{\\A}(\\x) = \\A\\x$."
   ]
  },
  {
   "cell_type": "markdown",
   "id": "51320728-bb87-4fc8-954e-1a24c6b62c75",
   "metadata": {},
   "source": [
    "#### Proof (Matrix is a Linear Transformation)\n",
    "\n",
    "This definition deserves a proof, simply, because one should really internalize this and not gloss it over.\n",
    "\n",
    "Recall carefully that **matrix operations** such as:\n",
    "\n",
    "- $\\A(\\x_1 + \\x_2) = \\A\\x_1 \\A\\x_2$\n",
    "- $\\lambda(\\A\\x) = \\A(\\lambda(\\x))$\n",
    "\n",
    "are **well-defined**.\n",
    "\n",
    "With this, this directly carries over to our **linear transformation**, for any vectors $\\x_1, \\x_2 \\in \\F^n$ and any $\\lambda \\in \\F$:\n",
    "\n",
    "- **additivity:** $T_{\\A}(\\x_1 + \\x_2) = T_{\\A}(\\x_1) + T_{\\A}(\\x_2)$ for all $\\x_1, \\x_2 \\in \\V=\\F^n$.\n",
    "- **homogeneity:** $T_{\\A}\\left(\\lambda(\\x)\\right) = \\lambda(T_{\\A}(\\x))$ for all $\\lambda \\in \\F$ and all $\\x \\in \\V=\\F^n$.\n"
   ]
  },
  {
   "cell_type": "markdown",
   "id": "7d3b1851-b28d-4919-b279-c257646fd594",
   "metadata": {
    "tags": []
   },
   "source": [
    "### Definition (Matrix is a Linear Transformation Proper)\n",
    "\n",
    "The proper definition of **matrix being a linear transformation** is given below. **Note that we will see that every linear transformation $T: \\V \\to \\W$ can be defined and encoded by a matrix $\\A$, and conversely, every matrix also defines such a linear transformation**.\n",
    "\n",
    "---\n",
    "\n",
    "Let $T \\in \\L(\\V, \\W)$ where $\\V$ and $\\W$ are **finite-dimensional** vector spaces, in particular, they are $n$ and $m$ dimensional respectively.. Since every vector space has a basis, we can define $\\v_1, ..., \\v_n$ and $\\w_1, ..., \\w_m$ to be the **basis of $\\V$ and $\\W$ respectively**. More concretely, every vector $\\v \\in \\V$ is **uniquely determined** by the coefficients $c_1, ..., c_n \\in \\F$, that is, any vector $\\v$ in the vector space $\\V$ can be uniquely determined by the **linear combination** below:\n",
    "\n",
    "$$\n",
    "\\v = c_1 \\v_1 + ... + c_n \\v_n , \\quad \\forall \\v \\in \\V\n",
    "$$\n",
    "\n",
    "If $T: \\V \\to \\W$ is a **linear transformation**, then it follows that:\n",
    "\n",
    "$$\n",
    "T(c_1 \\v_1 + ... + c_n \\v_n) = c_1 T(\\v_1) + ... + c_nT(\\v_n)\n",
    "$$\n",
    "\n",
    "by **additivity**. This implies that the mapping $T$ is **entirely determined by the vectors $T(\\v_1), ..., T(\\v_n)$**. Now, we turn out attention to the **basis vectors of $\\W$**. We see that we can represent each vector $T(\\v_j)$ as:\n",
    "\n",
    "$$\n",
    "T(\\v_j) = a_{1j} \\w_1 + ... + a_{mj}\\w_m\n",
    "$$\n",
    "\n",
    "where $a_{ij}$ is unique scalars in $\\F$ as well. Thus the mapping $T$ is also **entirely determined by the values $a_{ij}$ where $i$ is from $1$ to $m$**.\n",
    "\n",
    "Last but not least, we define the matrix $\\A$ associated with the mapping $T$ with respect to these bases is the $m \\times n$ matrix $T_{\\A}$ whose entries $a_{ij}$ are defined as:\n",
    "\n",
    "$$\n",
    "T(\\v_j) = a_{1j}\\w_1 + ... + a_{mj}\\w_m\n",
    "$$\n",
    "\n",
    "As a consequence, the $j$-th column of $\\A$ contains the **coefficients** of the $j$-th basis vector $\\v_j$ where each element of $\\v_j$ are the **coefficients** of the vector $\\w_j = T(\\v_j)$.\n",
    "\n",
    "$$\n",
    "\\A=\\begin{bmatrix}\n",
    " a_{11} & a_{12} & \\cdots & a_{1n} \\\\\n",
    " a_{21} & a_{22} & \\cdots & a_{2n} \\\\\n",
    "\\vdots & \\vdots & \\ddots & \\vdots \\\\\n",
    " a_{m1} & a_{m2} & \\cdots & a_{mn} \\\\\n",
    "\\end{bmatrix}\n",
    "$$\n",
    "\n",
    "---\n",
    "\n",
    "This is a mouthful, so we understand it better with examples."
   ]
  },
  {
   "cell_type": "markdown",
   "id": "17104ad6-c1f4-4166-86a5-5d350f1af15e",
   "metadata": {},
   "source": [
    "### Examples (Matrix is a Linear Transformation Proper)"
   ]
  },
  {
   "cell_type": "markdown",
   "id": "d714e79d-2129-47a5-9538-bfeba582c214",
   "metadata": {},
   "source": [
    "#### Standard Basis Linear Transformation\n",
    "\n",
    "Let $T \\in \\L(\\F^2, \\F^3)$ be defined by:\n",
    "\n",
    "$$\n",
    "T(x, y) = (x+3y, 2x+5y, 7x+9y)\n",
    "$$\n",
    "\n",
    "Then the $T_{\\A}$ with respect to the standard bases in $\\F^2$ and $\\F^3$ is:\n",
    "\n",
    "Let $\\v_1 = [1, 0], \\quad \\v_2 = [0, 1]$ be the basis of $\\F^2$ and we see that \n",
    "\n",
    "$$\n",
    "\\w_1 = T(\\v_1) = (1, 2, 7), \\quad \\w_2 = T(\\v_2) = (3, 5, 9)\n",
    "$$\n",
    "\n",
    "Construct the matrix \n",
    "\n",
    "$$\n",
    "\\A = \\begin{bmatrix} 1 & 3 \\\\ 2 & 5 \\\\ 7 & 9 \\end{bmatrix}\n",
    "$$"
   ]
  },
  {
   "cell_type": "markdown",
   "id": "a64fba58-09b1-4851-a3ee-d2d38c9914f3",
   "metadata": {},
   "source": [
    "### The Four Fundamental Subspaces Revisited\n",
    "\n",
    "We can now frame our **Four (Favourite) Fundamental Subspaces** in the lingo of **linear transformation**. TBD write this after section 3.B in LADR."
   ]
  },
  {
   "cell_type": "markdown",
   "id": "9202cb1f-983f-4e6c-891e-29b692a62549",
   "metadata": {},
   "source": [
    "- **Nullspace:** The kernel of $T_{\\A}$ equals the null space (or kernel) of $A$\n",
    "\n",
    "$$ \\text{Ker}(T_{A}) = \\text{Ker}(A) = \\text{Null}(A) = \\{\\x \\in F_{c}^{n} ~|~ A\\x = 0\\} \\subseteq F_{c}^{n}$$\n",
    "The range (or image) of $T_{A}$ equals the range of $A$:\n",
    "$$R(T_{A}) = T_{A}(F_{c}^{n}) = R(A) : \\{A\\x ~|~ \\x \\in F_{c}^{n}\\} \\subseteq F_{c}^{m}$$\n",
    "\n",
    "\\bigskip\n",
    "\n",
    "Note in particular, the Range of $A$ is just the Column Space of $A$, that is if $A = (\\aaa_1,...,\\aaa_n)$, then $$\\text{Range}(A) = \\text{Span}\\{\\aaa_1,...,\\aaa_n\\}$$"
   ]
  }
 ],
 "metadata": {
  "kernelspec": {
   "display_name": "Python 3 (ipykernel)",
   "language": "python",
   "name": "python3"
  },
  "language_info": {
   "codemirror_mode": {
    "name": "ipython",
    "version": 3
   },
   "file_extension": ".py",
   "mimetype": "text/x-python",
   "name": "python",
   "nbconvert_exporter": "python",
   "pygments_lexer": "ipython3",
   "version": "3.9.10"
  }
 },
 "nbformat": 4,
 "nbformat_minor": 5
}
