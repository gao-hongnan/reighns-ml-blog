{
 "cells": [
  {
   "cell_type": "markdown",
   "id": "4398651f-ed34-4fef-b6eb-535dbb9e1d18",
   "metadata": {},
   "source": [
    "$$\n",
    "\\newcommand{\\F}{\\mathbb{F}}\n",
    "\\newcommand{\\R}{\\mathbb{R}}\n",
    "\\newcommand{\\a}{\\mathbf{a}}\n",
    "\\newcommand{\\b}{\\mathbf{b}}\n",
    "\\newcommand{\\c}{\\mathbf{c}}\n",
    "\\newcommand{\\e}{\\mathbf{e}}\n",
    "\\newcommand{\\u}{\\mathbf{u}}\n",
    "\\newcommand{\\v}{\\mathbf{v}}\n",
    "\\newcommand{\\w}{\\mathbf{w}}\n",
    "\\newcommand{\\x}{\\mathbf{x}}\n",
    "\\newcommand{\\y}{\\mathbf{y}}\n",
    "\\newcommand{\\z}{\\mathbf{z}}\n",
    "\\newcommand{\\A}{\\mathbf{A}}\n",
    "\\newcommand{\\B}{\\mathbf{B}}\n",
    "\\newcommand{\\C}{\\mathbf{C}}\n",
    "\\newcommand{\\rank}{\\textbf{rank}}\n",
    "\\newcommand{\\null}{\\textbf{null}}\n",
    "\\newcommand{\\0}{\\mathbf{0}}\n",
    "\\newcommand{\\1}{\\mathbf{1}}\n",
    "\\newcommand{\\U}{\\mathrm{U}}\n",
    "\\newcommand{\\V}{\\mathrm{V}}\n",
    "\\newcommand{\\W}{\\mathrm{W}}\n",
    "\\newcommand{\\L}{\\mathcal{L}}\n",
    "$$"
   ]
  },
  {
   "cell_type": "markdown",
   "id": "26710ed9-101a-4309-bafc-101c0706668f",
   "metadata": {},
   "source": [
    "# The Vector Space of Linear Transformation"
   ]
  },
  {
   "cell_type": "markdown",
   "id": "de470b71-ad23-4cc7-9371-c64f09c8dbb4",
   "metadata": {},
   "source": [
    "## Disclaimer\n",
    "\n",
    "This chapter/section borrows and reference heavily from the book **Sheldon Axler: Linear Algebra Done Right, 2015**."
   ]
  },
  {
   "cell_type": "markdown",
   "id": "aeac4caa-bfe8-4598-b5c7-2cbf5cf789d6",
   "metadata": {},
   "source": [
    "## What is Completely Determined?\n",
    "\n",
    "In the text below, you will see the phrase **completely determined**. This can be confusing.\n",
    "\n",
    "> A **vector subspace $\\V$** is **completely determined** by the set of **basis vectors**.\n",
    "\n",
    "This example illustrates that, if were to know the basis vectors $\\v_1, ..., \\v_n$, we can **construct the entire vector subspace $\\V$**."
   ]
  },
  {
   "cell_type": "markdown",
   "id": "801ea75d-5d6f-4874-8ae7-544d0a012e26",
   "metadata": {},
   "source": [
    "## Linear Transformation"
   ]
  },
  {
   "cell_type": "markdown",
   "id": "a84348a8-96bc-4cc7-892f-bb70a746ea4e",
   "metadata": {},
   "source": [
    "### Definition (Linear Transformation/Map)\n",
    "\n",
    "Let $\\V$ and $\\W$ be two vector spaces over the same field $\\F$. The mapping (function) $T: \\V \\to \\W$ is called a **linear transformation** from vector spaces $\\V$ to $\\W$ with the following properties:\n",
    "\n",
    "- **additivity:** $T(\\u + \\v) = T(\\u) + T(\\v)$ for all $\\u, \\v \\in \\V$.\n",
    "- **homogeneity:** $T\\left(\\lambda(\\v)\\right) = \\lambda(T(\\v))$ for all $\\lambda \\in \\F$ and all $\\v \\in \\V$."
   ]
  },
  {
   "cell_type": "markdown",
   "id": "e80f0fa8-cbaf-4bf4-a8b8-aaab81ee660d",
   "metadata": {},
   "source": [
    "### Notation (Linear Transformation/Map)\n",
    "\n",
    "The set of all linear maps from $\\V$ to $\\W$ is denoted $\\L(\\V, \\W)$. To be more explicit, this set is **every possible linear transformation** from the vector space $\\V$ to $\\W$ over $\\F$."
   ]
  },
  {
   "cell_type": "markdown",
   "id": "8bf79047-f6e2-48b5-9caa-c68d1c29b688",
   "metadata": {},
   "source": [
    "### Example (Linear Transformation/Map)"
   ]
  },
  {
   "cell_type": "markdown",
   "id": "b7e391f1-1948-4433-ac22-770fbc53a6e0",
   "metadata": {},
   "source": [
    "#### The Zero Mapping\n",
    "\n",
    "Let $\\V$ and $\\W$ be two vector subspaces in $\\F$. Then the mapping function $0$ maps any element $\\v \\in \\V$ to the zero vector $\\0_W \\in \\W$ where $\\0_{\\W}$ is the zero (additive) element in the subspace $\\W$.\n",
    "\n",
    "$$\n",
    "\\begin{eqnarray}\n",
    "    0: \\V & \\rightarrow & \\W \\nonumber \\\\\n",
    "     \\v & \\mapsto & \\0_{\\W} \\nonumber\n",
    " \\end{eqnarray}\n",
    "$$\n",
    "\n",
    "This is a linear transformation and called the **zero linear transformation from $\\V$ to $\\W$**."
   ]
  },
  {
   "cell_type": "markdown",
   "id": "4a722513-ab90-4b29-86cc-8d7cc990c3a7",
   "metadata": {},
   "source": [
    "#### The Identity Mapping\n",
    "\n",
    "Let $\\V$ be a vector subspace in $\\F$. Then the mapping function $I$ maps any element $\\v \\in \\V$ to the itself $\\v \\in \\V$.\n",
    "\n",
    "$$\n",
    "\\begin{eqnarray}\n",
    "    I: \\V & \\rightarrow & \\V \\nonumber \\\\\n",
    "     \\v & \\mapsto & \\v \\nonumber\n",
    " \\end{eqnarray}\n",
    "$$\n",
    "\n",
    "This is a linear transformation and called the **identity linear transformation from $\\V$ to $\\V$**.\n",
    "\n",
    "For more examples, read here[^examples_linear_transformation].\n",
    "\n",
    "\n",
    "[^examples_linear_transformation]: **Sheldon Axler: Linear Algebra Done Right, 2015. pp. 52-53**"
   ]
  },
  {
   "cell_type": "markdown",
   "id": "3ac99952-b622-4879-be88-db8e66b20461",
   "metadata": {},
   "source": [
    "#### Non-Linear Mapping\n",
    "\n",
    "The mapping\n",
    "\n",
    "$$\n",
    "\\begin{eqnarray}\n",
    "T : \\F^{3} & \\rightarrow & \\F^{3} \\nonumber \\\\\n",
    "(x, y, z) & \\mapsto & (0, x+y+z, 1) \\nonumber\n",
    "\\end{eqnarray}\n",
    "$$\n",
    "\n",
    "is not a linear transformations assuming $|\\F|\\ge 3$.\n",
    "\n",
    "This is because note that $\\0$ vector must map to $\\0$ vector, if not, it is not a linear transformation because it does not fulfill **homogeneity** (consider $\\v = \\0$ and $\\lambda = 2$, then $T(2(\\0)) \\neq 2(T(\\0)$."
   ]
  },
  {
   "cell_type": "markdown",
   "id": "02901c90-b70d-461f-aea3-92fb1b3a263e",
   "metadata": {},
   "source": [
    "### Theorem (Linear Transformation Maps 0 to 0)\n",
    "\n",
    "Suppose $T$ is a **linear transformation** from $\\V$ to $\\W$, then:\n",
    "\n",
    "$$\n",
    "T(\\0_\\V) = \\0_\\W\n",
    "$$\n",
    "\n",
    "---\n",
    "\n",
    "This is useful for checking if a **linear transformation** is valid because the contrapositive says:\n",
    "\n",
    "> If $\\0_\\V$ does not map to $\\0_\\W$, then $T$ is not a **linear transformation**."
   ]
  },
  {
   "cell_type": "markdown",
   "id": "aea645d3-fd03-44db-bc99-4feaf01ebf0e",
   "metadata": {},
   "source": [
    "### Theorem (Equivalent Linear Transformation Definition)\n",
    "\n",
    "Let\n",
    "\n",
    "$$T: \\V \\rightarrow \\W$$ \n",
    "\n",
    "be a map between two vector spaces over the same field $\\F$. Then the following are equivalent.\n",
    "\n",
    "- $T$ is a linear transformation.\n",
    "- For any $\\v_1, \\v_2 \\in \\V$ and $\\lambda_1, \\lambda_2 \\in \\F$, we have the following:\n",
    "    $$T(\\lambda_1\\v_1 + \\lambda_2\\v_2) = \\lambda_1 T(\\v_1) + \\lambda_2 T(\\v_2)$$"
   ]
  },
  {
   "cell_type": "markdown",
   "id": "87c28625-b9eb-40d0-b33e-d832bd3dbde4",
   "metadata": {},
   "source": [
    "### Theorem (Linear Transformation/Maps are entirely determined by the basis vectors)\n",
    "\n",
    "**An extremely important theorem! The existence part of the next result means that we can find a linear map\n",
    "that takes on whatever values we wish on the vectors in a basis. The uniqueness\n",
    "part of the next result means that a linear map is completely determined by its\n",
    "values on a basis. - Sheldon Axler: Linear Algebra Done Right, 2015. pp. 54**\n",
    "\n",
    "Let $\\V$ and $\\W$ be vector spaces over $\\F$. \n",
    "\n",
    "Suppose $\\v_1, ..., \\v_n$ is a **basis** of $\\V$ and $\\w_1, ..., \\w_n$ be a set of **arbitrary vectors** in $\\W$. Then there exists an **unique linear map** $T: \\V \\to \\W$ such that \n",
    "\n",
    "$$\n",
    "T(\\v_j) = \\w_j , \\quad \\forall j = 1, ..., n\n",
    "$$\n",
    "\n",
    "---\n",
    "\n",
    "> This implies that if we know the **basis vectors of $\\V$** and "
   ]
  },
  {
   "cell_type": "markdown",
   "id": "f29c0f29-b2c3-4340-a6ff-51aac26766b8",
   "metadata": {},
   "source": [
    "#### Proof (Linear Transformation/Maps are entirely determined by the basis vectors)\n",
    "\n",
    "This mathematical proof is **non-trivial** and requires two components:\n",
    "\n",
    "> 1. We need to prove the **existence** of $T$, that such a **linear transformation** $T$ exists (i.e. fulfilling the properties in the definition).\n",
    "> 2. We need to show **uniqueness** of such $T$, that is equivalent to asking: given another mapping $T^{'}: \\V \\to \\W$ and assume that $T(\\v) = T^{'}(\\v) , \\forall i$, then $T = T^{'}$.\n",
    "\n",
    "Neither parts of the proof are trivial, and can be referenced here[^Linear Transformation/Maps are entirely determined by the basis vectors].\n",
    "\n",
    "---\n",
    "\n",
    "I will be more verbose in this proof to be clear to myself. \n",
    "\n",
    "**Existence**\n",
    "\n",
    "To show **existence**, we need to show that **given the basis vectors $\\v_1, ..., \\v_n$ of $\\V$** and **any set of arbitrary vectors $\\w_1, ..., \\w_n$ of $\\W$**, the mapping $T$ indeed maps $\\v_j$ to $\\w_j$ where $j = 1, ..., n$, specifically, the basis vectors of $\\V$ all have a mapping to the corresponding vectors in $\\W$. The implicit assumption in this part is that the map $T$ is also **well-defined**, which we will outline below.\n",
    "\n",
    "Define and construct $T: \\V \\to \\W$ where we want to map **any element $\\v \\in \\V$ to some $\\w \\in \\W$**, define $\\v = c_1 \\v_1 + ... + c_n \\v_n$ and the corresponding $\\w = c_1 \\w_1 + ... + c_n \\w_n$.\n",
    "\n",
    "$$\n",
    "T(c_1 \\v_1 + ... + c_n \\v_n) = c_1 \\w_1 + ... + c_n \\w_n\n",
    "$$\n",
    "\n",
    "> At this stage we are not assuming anything about $T$'s linearity, we are just constructing a linear equation in hope that this coincides with what we want (i.e. showing the existence of such $T$). Note also $c$ is arbitrary in $\\F$.\n",
    "\n",
    "The domain $\\V$ is well defined because for any $\\v \\in \\V$, $\\v$ can be written as $\\v = c_1 \\v_1 + ... + c_n \\v_n$ and has an unique representation. Consequently, the mapping is well defined.\n",
    "\n",
    "Next, we just need to show that the **additivity** and **homogeneity** properties to complete the proof on existence.\n",
    "\n",
    "---\n",
    "\n",
    "**Uniqueness**\n",
    "\n",
    "We can show uniqueness by: given another mapping $T^{'}: \\V \\to \\W$ and assume that $T(\\v) = T^{'}(\\v) , \\forall i$, then $T = T^{'}$.\n",
    "\n",
    "[^Linear Transformation/Maps are entirely determined by the basis vectors]: **Sheldon Axler: Linear Algebra Done Right, 2015. pp. 54**"
   ]
  },
  {
   "cell_type": "markdown",
   "id": "921a207e-6398-41fe-a59b-ad5634d721c1",
   "metadata": {},
   "source": [
    "#### Example (Linear Transformation/Maps are entirely determined by the basis vectors)\n",
    "\n",
    "https://math.stackexchange.com/questions/4114034/is-a-linear-map-uniquely-determined-on-v-or-on-a-basis-of-v\n",
    "\n",
    "Suppose I have a transformation $T: \\mathbb{R}^2 \\to \\mathbb{R}$.\n",
    "\n",
    "Pick a basis $B=\\{\\e_1=(1,0), \\e_2=(0,1) \\}$. \n",
    "\n",
    "Then $T$ is **completely** specified by the values $\\w_1=T(\\e_1),\\w_2=T(\\e_2)$. \n",
    "\n",
    "To elaborate from the post, the OP mentioned that now he understood that once $T$ is determined **by $\\w_j$ on $\\v_j$**, then this $T$ is unique on $\\V$. My understanding of **determined** is that we need to know both $\\v_1, \\v_2$ (the basis vectors of $\\V = \\mathbb{R}^2$) and the **output** $\\w_1 = T(\\e_1), \\w_2 = T(\\e_2)$. Consequently, we need to pick any vectors $\\w_1, \\w_2 \\in \\W$, say $\\w_1 = (1, 1), \\w_2 = (2, 0)$ then only can we say that this **particular mapping $T$** is uniquely and entirely determined by $\\w_j$ on $\\v_j$?\n",
    "\n"
   ]
  },
  {
   "cell_type": "markdown",
   "id": "c86c46ac-82f4-411a-9b65-8475641df978",
   "metadata": {},
   "source": [
    "## Algebraic Operations on Linear Transformation"
   ]
  },
  {
   "cell_type": "markdown",
   "id": "b7d9c675-9a65-4fdf-a0c2-a7a2501d06dc",
   "metadata": {},
   "source": [
    "### Definition (Addition and Scalar-Multiplication)\n",
    "\n",
    "Suppose $S, T \\in \\L(\\V, \\W)$ and $\\lambda \\in \\F$. \n",
    "\n",
    "- We define the **addition** $S + T$ as:\n",
    "    $$(S+T)(\\v) = S(\\v) + T(\\v)$$\n",
    "\n",
    "- And define the **scalar-multiplication** $\\lambda T$ as:\n",
    "    $$\\lambda T(\\v) = T(\\lambda\\v)$$\n",
    "\n",
    "for all $\\v \\in \\V$. In particular, both $S+T$ and $\\lambda T$ are in itself **linear transformations**."
   ]
  },
  {
   "cell_type": "markdown",
   "id": "b8e668d7-2da1-4395-b149-76622608ab25",
   "metadata": {},
   "source": [
    "### Corollary (The set of Linear Transformations is a Vector Space)\n",
    "\n",
    "$\\L(\\V, \\W)$ is a **vector space**. "
   ]
  },
  {
   "cell_type": "markdown",
   "id": "f0745d29-ecca-4234-a819-9d74965969b9",
   "metadata": {},
   "source": [
    "### Definition (Composite of Linear Transformations)\n",
    "\n",
    "Let $S$ and $T$ be **linear transformations** in $\\L(\\V, \\U)$ and $\\L(\\U, \\W)$ respectively:\n",
    "\n",
    "$$\n",
    "S: \\V \\to \\U\n",
    "$$\n",
    "\n",
    "$$\n",
    "T: \\U \\to \\W\n",
    "$$\n",
    "\n",
    "then the **composite map** is also a **linear transformation** given by:\n",
    "\n",
    "$$\n",
    "S \\circ T: \\V \\to \\W \n",
    "$$\n",
    "\n",
    "where $(S \\circ T)(\\v) = S \\circ (T(\\v)$.\n"
   ]
  },
  {
   "cell_type": "markdown",
   "id": "020fd6a2-0335-41a8-9fe7-8d023da19fb8",
   "metadata": {},
   "source": [
    "### Properties of Linear Transformations\n",
    "\n",
    "- **Associativity**\n",
    "- **Identity**\n",
    "- **Distributive Properties**\n",
    "- **Non-Commutative**"
   ]
  },
  {
   "cell_type": "markdown",
   "id": "d63b9f0d-d5ec-4b1c-8b87-c497487c3963",
   "metadata": {},
   "source": [
    "## Null Spaces and Ranges"
   ]
  },
  {
   "cell_type": "markdown",
   "id": "52a90e20-d2cb-46e9-863f-ef5dd9c8f442",
   "metadata": {},
   "source": [
    "### Null Space"
   ]
  },
  {
   "cell_type": "markdown",
   "id": "2a8ab801-c013-4546-befb-b06b7f5dd20b",
   "metadata": {},
   "source": [
    "#### Definition (Nullspace of $T$)\n",
    "\n",
    "For any $T: \\V \\to \\W \\in L(\\V, \\W)$, the **nullspace** of $T$ denoted as $\\null(T)$ is the subset of vectors in $\\V$ that are mapped to the zero vector $\\0_\\W$ by $T$.\n",
    "\n",
    "$$\n",
    "\\null(T) =  \\{\\v \\in \\V ~|~ T(\\v) = \\0_\\W\\}\n",
    "$$"
   ]
  },
  {
   "cell_type": "markdown",
   "id": "80feb2cd-b89a-4d3e-84bb-e91a78ff219f",
   "metadata": {},
   "source": [
    "#### Example (Nullspace of Differentiation)\n",
    "\n",
    "Let $T \\in \\L(\\F[\\z], \\F[\\z])$ be the differentiation map $T(f(\\z)) = f^{'}(\\z)$. Then the **nullspace of $T$** is:\n",
    "\n",
    "$$\n",
    "\\null(T) = \\{f \\in \\F[\\z] ~|~ f(\\z) \\text{ is constant}\\}\n",
    "$$\n",
    "\n",
    "which is apparent because the only way a function's derivative is zero is if the function is a constant."
   ]
  },
  {
   "cell_type": "markdown",
   "id": "b9141a02-f7ab-4500-b59e-5eeacfd6b935",
   "metadata": {},
   "source": [
    "#### Theorem (Nullspace is a Subspace)\n",
    "\n",
    "Given any $T: \\V \\to \\W$ in $\\L(\\V, \\W)$, the **nullspace of $T$** is a **subspace of $\\V$**.\n",
    "\n",
    "> We have already seen that in matrix theory."
   ]
  },
  {
   "cell_type": "markdown",
   "id": "2c08f48f-15dc-4b13-bd17-383ba84d607d",
   "metadata": {},
   "source": [
    "#### Definition (Injective)\n",
    "\n",
    "Many of us are familiar with what is an **injective map**, for those who aren't, here is the definition:\n",
    "\n",
    "> A function or mapping $f: X \\to Y$ is **injective** if and only if **$T(x) = T(y) \\implies x = y$**.\n",
    "\n",
    "Note the contrapositive applies here as well:\n",
    "\n",
    "> If $x \\neq y \\implies T(x) \\neq T(y)$ then $f$ is **not njective**."
   ]
  },
  {
   "cell_type": "markdown",
   "id": "74401c94-b917-4326-bbbd-1b66ecf3a7f0",
   "metadata": {},
   "source": [
    "#### Theorem (Nullspace and Injectivity)\n",
    "\n",
    "Let $T \\in \\L(\\V, \\W)$, then $T$ is **injective** if and only if the $\\null(T) = \\{\\0\\}$.\n",
    "\n",
    "> In matrix terminology: \n",
    "\n",
    "Let $T_{\\A} \\in \\L(\\V, \\W)$, then $T_{\\A}$ is **injective** if and only if the $\\null(T_{\\A}) = \\{\\0\\}$ if and only if the **nullity of $\\A$** is zero (i.e. dimension of the nullspace of the matrix $\\A$ is zero)."
   ]
  },
  {
   "cell_type": "markdown",
   "id": "d959270e-5db7-4b5c-b964-b4293ebf2c34",
   "metadata": {},
   "source": [
    "##### Intuition (Nullspace and Injectivity)\n",
    "\n",
    "Proving this theorem alone shows you understand the algebraic logic, but we can go one step further and try to get more intuition of what this theorem means.\n",
    "\n",
    "Well, for one, we know that $\\null(T) = \\0$ means that the matrix $\\A$ associated with this $T$ is full-rank, that is to say, $\\A\\x = \\0$ has only the trivial solution. We can immediately have a corollary."
   ]
  },
  {
   "cell_type": "markdown",
   "id": "53ab2032-5b48-45ed-9ace-756bd5b5ef58",
   "metadata": {},
   "source": [
    "##### Corollary (Nullspace and Injectivity implies Full-Rank)\n",
    "\n",
    "If $T$ is an **injective** map, then the matrix associated with $T$ is full-rank."
   ]
  },
  {
   "cell_type": "markdown",
   "id": "750c947f-759d-46ee-90fc-3824d5e0ab53",
   "metadata": {},
   "source": [
    "##### Example (Injective Maps)\n",
    "\n",
    "Let $T: \\F[\\z] \\to \\F[\\z]$ be the differentiation map. Note $T(f(\\z)) = f^{'}(\\z)$.\n",
    "\n",
    "The differentiation map $f(\\z) \\mapsto f^{'}(\\z)$ is not injective because if you take $T(f(\\z)) = T(g(\\z))$, we must recover $f(\\z) = g(\\z)$, but in fact this is not true. Set $g(\\z) = f(\\z) + c$ where $c \\neq 0 \\in \\F$ is a constant, then $f(\\z) \\neq g(\\z)$ by construction and hence not injective."
   ]
  },
  {
   "cell_type": "markdown",
   "id": "e835e374-2d8c-4b61-8aa5-8f13ca98abf4",
   "metadata": {},
   "source": [
    "## Matrix and Linear Transformations\n",
    "\n",
    "This is a big topic and has its own spot in this chapter.\n",
    "\n",
    "We let\n",
    "\n",
    "$$\n",
    "\\A=\\begin{bmatrix}\n",
    " a_{11} & a_{12} & \\cdots & a_{1n} \\\\\n",
    " a_{21} & a_{22} & \\cdots & a_{2n} \\\\\n",
    "\\vdots & \\vdots & \\ddots & \\vdots \\\\\n",
    " a_{m1} & a_{m2} & \\cdots & a_{mn} \\\\\n",
    "\\end{bmatrix}\n",
    "$$"
   ]
  },
  {
   "cell_type": "markdown",
   "id": "b5d2e967-bc03-463f-98ae-c39969970d88",
   "metadata": {},
   "source": [
    "### Definition (Matrix is a Linear Transformation Naive)\n",
    "\n",
    "Let $\\A = (\\a_{ij}) \\in \\F^{m \\times n}$ be an $m \\times n$ matrix with entries in a field $\\F$. Let us first define the matrix-vector multiplication $\\A\\x = \\b$ where $\\x \\in \\F^{n}$ and $\\b \\in \\F^{m}$, and specifically, let $\\F^n$ and $\\F^m$ be our vector spaces $\\V$ and $\\W$ respectively.\n",
    "\n",
    "Define the map \n",
    "\n",
    "$$T_{\\A}: \\F_{c}^{n} \\rightarrow F_{c}^{m}$$\n",
    "\n",
    "\n",
    "$$\\x = \n",
    "\\begin{bmatrix}\n",
    "            x_{1}\\\\\n",
    "            x_{2}\\\\\n",
    "            x_{3}\\\\\n",
    "            \\vdots\\\\\n",
    "            x_{n}\n",
    "\\end{bmatrix} \n",
    "\\mapsto \\A\\x\n",
    "$$\n",
    "\n",
    "Then $T_{\\A}$ is a **linear transformation (associated with the matrix $\\A$)** where we are **mapping (sending) the vector $\\x$ from $n$ dimensional space to the vector $\\b = \\A\\x$ in the $m$ dimensional space**.\n",
    "\n",
    "---\n",
    "\n",
    "Important for readers: $T_{\\A}(\\x) = \\A\\x$."
   ]
  },
  {
   "cell_type": "markdown",
   "id": "51320728-bb87-4fc8-954e-1a24c6b62c75",
   "metadata": {},
   "source": [
    "#### Proof (Matrix is a Linear Transformation)\n",
    "\n",
    "This definition deserves a proof, simply, because one should really internalize this and not gloss it over.\n",
    "\n",
    "Recall carefully that **matrix operations** such as:\n",
    "\n",
    "- $\\A(\\x_1 + \\x_2) = \\A\\x_1 \\A\\x_2$\n",
    "- $\\lambda(\\A\\x) = \\A(\\lambda(\\x))$\n",
    "\n",
    "are **well-defined**.\n",
    "\n",
    "With this, this directly carries over to our **linear transformation**, for any vectors $\\x_1, \\x_2 \\in \\F^n$ and any $\\lambda \\in \\F$:\n",
    "\n",
    "- **additivity:** $T_{\\A}(\\x_1 + \\x_2) = T_{\\A}(\\x_1) + T_{\\A}(\\x_2)$ for all $\\x_1, \\x_2 \\in \\V=\\F^n$.\n",
    "- **homogeneity:** $T_{\\A}\\left(\\lambda(\\x)\\right) = \\lambda(T_{\\A}(\\x))$ for all $\\lambda \\in \\F$ and all $\\x \\in \\V=\\F^n$.\n"
   ]
  },
  {
   "cell_type": "markdown",
   "id": "7d3b1851-b28d-4919-b279-c257646fd594",
   "metadata": {
    "tags": []
   },
   "source": [
    "### Definition (Matrix is a Linear Transformation Proper)\n",
    "\n",
    "The proper definition of **matrix being a linear transformation** is given below. **Note that we will see that every linear transformation $T: \\V \\to \\W$ can be defined and encoded by a matrix $\\A$, and conversely, every matrix also defines such a linear transformation**.\n",
    "\n",
    "---\n",
    "\n",
    "Let $T \\in \\L(\\V, \\W)$ where $\\V$ and $\\W$ are **finite-dimensional** vector spaces, in particular, they are $n$ and $m$ dimensional respectively.. Since every vector space has a basis, we can define $\\v_1, ..., \\v_n$ and $\\w_1, ..., \\w_m$ to be the **basis of $\\V$ and $\\W$ respectively**. More concretely, every vector $\\v \\in \\V$ is **uniquely determined** by the coefficients $c_1, ..., c_n \\in \\F$, that is, any vector $\\v$ in the vector space $\\V$ can be uniquely determined by the **linear combination** below:\n",
    "\n",
    "$$\n",
    "\\v = c_1 \\v_1 + ... + c_n \\v_n , \\quad \\forall \\v \\in \\V\n",
    "$$\n",
    "\n",
    "If $T: \\V \\to \\W$ is a **linear transformation**, then it follows that:\n",
    "\n",
    "$$\n",
    "T(c_1 \\v_1 + ... + c_n \\v_n) = c_1 T(\\v_1) + ... + c_nT(\\v_n)\n",
    "$$\n",
    "\n",
    "by **additivity**. This implies that the mapping $T$ is **entirely determined by the vectors $T(\\v_1), ..., T(\\v_n)$**. Now, we turn out attention to the **basis vectors of $\\W$**. We see that we can represent each vector $T(\\v_j)$ as:\n",
    "\n",
    "$$\n",
    "T(\\v_j) = a_{1j} \\w_1 + ... + a_{mj}\\w_m\n",
    "$$\n",
    "\n",
    "where $a_{ij}$ is unique scalars in $\\F$ as well. Thus the mapping $T$ is also **entirely determined by the values $a_{ij}$ where $i$ is from $1$ to $m$**.\n",
    "\n",
    "Last but not least, we define the matrix $\\A$ associated with the mapping $T$ with respect to these bases is the $m \\times n$ matrix $T_{\\A}$ whose entries $a_{ij}$ are defined as:\n",
    "\n",
    "$$\n",
    "T(\\v_j) = a_{1j}\\w_1 + ... + a_{mj}\\w_m\n",
    "$$\n",
    "\n",
    "As a consequence, the $j$-th column of $\\A$ contains the **coefficients** of the $j$-th basis vector $\\v_j$ where each element of $\\v_j$ are the **coefficients** of the vector $\\w_j = T(\\v_j)$.\n",
    "\n",
    "$$\n",
    "\\A=\\begin{bmatrix}\n",
    " a_{11} & a_{12} & \\cdots & a_{1n} \\\\\n",
    " a_{21} & a_{22} & \\cdots & a_{2n} \\\\\n",
    "\\vdots & \\vdots & \\ddots & \\vdots \\\\\n",
    " a_{m1} & a_{m2} & \\cdots & a_{mn} \\\\\n",
    "\\end{bmatrix}\n",
    "$$\n",
    "\n",
    "---\n",
    "\n",
    "This is a mouthful, so we understand it better with examples."
   ]
  },
  {
   "cell_type": "markdown",
   "id": "17104ad6-c1f4-4166-86a5-5d350f1af15e",
   "metadata": {},
   "source": [
    "### Examples (Matrix is a Linear Transformation Proper)"
   ]
  },
  {
   "cell_type": "markdown",
   "id": "d714e79d-2129-47a5-9538-bfeba582c214",
   "metadata": {},
   "source": [
    "#### Standard Basis Linear Transformation\n",
    "\n",
    "Let $T \\in \\L(\\F^2, \\F^3)$ be defined by:\n",
    "\n",
    "$$\n",
    "T(x, y) = (x+3y, 2x+5y, 7x+9y)\n",
    "$$\n",
    "\n",
    "Then the $T_{\\A}$ with respect to the standard bases in $\\F^2$ and $\\F^3$ is:\n",
    "\n",
    "Let $\\v_1 = [1, 0], \\quad \\v_2 = [0, 1]$ be the basis of $\\F^2$ and we see that \n",
    "\n",
    "$$\n",
    "\\w_1 = T(\\v_1) = (1, 2, 7), \\quad \\w_2 = T(\\v_2) = (3, 5, 9)\n",
    "$$\n",
    "\n",
    "Construct the matrix \n",
    "\n",
    "$$\n",
    "\\A = \\begin{bmatrix} 1 & 3 \\\\ 2 & 5 \\\\ 7 & 9 \\end{bmatrix}\n",
    "$$"
   ]
  },
  {
   "cell_type": "markdown",
   "id": "a64fba58-09b1-4851-a3ee-d2d38c9914f3",
   "metadata": {},
   "source": [
    "### The Four Fundamental Subspaces Revisited\n",
    "\n",
    "We can now frame our **Four (Favourite) Fundamental Subspaces** in the lingo of **linear transformation**. TBD write this after section 3.B in LADR."
   ]
  },
  {
   "cell_type": "markdown",
   "id": "9202cb1f-983f-4e6c-891e-29b692a62549",
   "metadata": {},
   "source": [
    "- **Nullspace:** The kernel of $T_{\\A}$ equals the null space (or kernel) of $A$\n",
    "\n",
    "$$ \\text{Ker}(T_{A}) = \\text{Ker}(A) = \\text{Null}(A) = \\{\\x \\in F_{c}^{n} ~|~ A\\x = 0\\} \\subseteq F_{c}^{n}$$\n",
    "The range (or image) of $T_{A}$ equals the range of $A$:\n",
    "$$R(T_{A}) = T_{A}(F_{c}^{n}) = R(A) : \\{A\\x ~|~ \\x \\in F_{c}^{n}\\} \\subseteq F_{c}^{m}$$\n",
    "\n",
    "\\bigskip\n",
    "\n",
    "Note in particular, the Range of $A$ is just the Column Space of $A$, that is if $A = (\\aaa_1,...,\\aaa_n)$, then $$\\text{Range}(A) = \\text{Span}\\{\\aaa_1,...,\\aaa_n\\}$$"
   ]
  }
 ],
 "metadata": {
  "kernelspec": {
   "display_name": "Python 3 (ipykernel)",
   "language": "python",
   "name": "python3"
  },
  "language_info": {
   "codemirror_mode": {
    "name": "ipython",
    "version": 3
   },
   "file_extension": ".py",
   "mimetype": "text/x-python",
   "name": "python",
   "nbconvert_exporter": "python",
   "pygments_lexer": "ipython3",
   "version": "3.9.10"
  }
 },
 "nbformat": 4,
 "nbformat_minor": 5
}
