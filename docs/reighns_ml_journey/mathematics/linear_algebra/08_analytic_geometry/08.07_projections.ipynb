{
 "cells": [
  {
   "cell_type": "markdown",
   "id": "a90a907f-309d-4211-8ff9-4437ac1e5a7e",
   "metadata": {},
   "source": [
    "$$\n",
    "\\newcommand{\\F}{\\mathbb{F}}\n",
    "\\newcommand{\\R}{\\mathbb{R}}\n",
    "\\newcommand{\\a}{\\mathbf{a}}\n",
    "\\newcommand{\\b}{\\mathbf{b}}\n",
    "\\newcommand{\\c}{\\mathbf{c}}\n",
    "\\newcommand{\\r}{\\mathbf{r}}\n",
    "\\newcommand{\\u}{\\mathbf{u}}\n",
    "\\newcommand{\\w}{\\mathbf{w}}\n",
    "\\newcommand{\\v}{\\mathbf{v}}\n",
    "\\newcommand{\\x}{\\mathbf{x}}\n",
    "\\newcommand{\\y}{\\mathbf{y}}\n",
    "\\newcommand{\\z}{\\mathbf{z}}\n",
    "\\newcommand{\\0}{\\mathbf{0}}\n",
    "\\newcommand{\\1}{\\mathbf{1}}\n",
    "\\newcommand{\\A}{\\mathbf{A}}\n",
    "\\newcommand{\\B}{\\mathbf{B}}\n",
    "\\newcommand{\\C}{\\mathbf{C}}\n",
    "\\newcommand{\\P}{\\mathbf{P}}\n",
    "\\newcommand{\\rank}{\\textbf{rank}}\n",
    "$$"
   ]
  },
  {
   "cell_type": "markdown",
   "id": "89745bd2-d10f-48d9-956a-562562eff205",
   "metadata": {},
   "source": [
    "## Orthogonal Projections"
   ]
  },
  {
   "cell_type": "markdown",
   "id": "d2fe6b62-a187-4d6e-ae7d-993577b6cfd3",
   "metadata": {},
   "source": [
    "### Algebraic Definition (Orthogonal Projections)\n",
    "\n",
    "Let $\\V$ be the ambient vector space. A **projection** on a vector subspace $\\U \\subseteq \\V$ is a linear mapping $\\pi: \\V \\to \\U$ such that $\\pi^2 = \\pi$. If $\\V$ is an **inner product space**, then $\\pi$ can be called an **orthogonal projection**."
   ]
  },
  {
   "cell_type": "markdown",
   "id": "1a32318e-9e80-4733-85cd-7e4664667a08",
   "metadata": {},
   "source": [
    "### Definition (Projection Matrix)\n",
    "\n",
    "We can verify that $\\pi$ is indeed a **linear transformaton**. Recall that **linear transformation** can be expressed by **transformation matrices**. Thus we define **projection matrices** to be $\\P_\\pi$ such that $\\P_\\pi^2 = \\P$."
   ]
  },
  {
   "cell_type": "markdown",
   "id": "173ce45d-d563-4dfe-b8c4-cc9ce26668aa",
   "metadata": {},
   "source": []
  },
  {
   "cell_type": "markdown",
   "id": "e50c08a2-9b82-490c-b98a-0c3c3ccb32bc",
   "metadata": {},
   "source": []
  }
 ],
 "metadata": {
  "kernelspec": {
   "display_name": "Python 3 (ipykernel)",
   "language": "python",
   "name": "python3"
  },
  "language_info": {
   "codemirror_mode": {
    "name": "ipython",
    "version": 3
   },
   "file_extension": ".py",
   "mimetype": "text/x-python",
   "name": "python",
   "nbconvert_exporter": "python",
   "pygments_lexer": "ipython3",
   "version": "3.9.10"
  }
 },
 "nbformat": 4,
 "nbformat_minor": 5
}
