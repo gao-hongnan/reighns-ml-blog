{
 "cells": [
  {
   "cell_type": "markdown",
   "id": "a90a907f-309d-4211-8ff9-4437ac1e5a7e",
   "metadata": {},
   "source": [
    "$$\n",
    "\\newcommand{\\F}{\\mathbb{F}}\n",
    "\\newcommand{\\R}{\\mathbb{R}}\n",
    "\\newcommand{\\a}{\\mathbf{a}}\n",
    "\\newcommand{\\b}{\\mathbf{b}}\n",
    "\\newcommand{\\c}{\\mathbf{c}}\n",
    "\\newcommand{\\r}{\\mathbf{r}}\n",
    "\\newcommand{\\u}{\\mathbf{u}}\n",
    "\\newcommand{\\w}{\\mathbf{w}}\n",
    "\\newcommand{\\v}{\\mathbf{v}}\n",
    "\\newcommand{\\x}{\\mathbf{x}}\n",
    "\\newcommand{\\y}{\\mathbf{y}}\n",
    "\\newcommand{\\z}{\\mathbf{z}}\n",
    "\\newcommand{\\0}{\\mathbf{0}}\n",
    "\\newcommand{\\1}{\\mathbf{1}}\n",
    "\\newcommand{\\A}{\\mathbf{A}}\n",
    "\\newcommand{\\B}{\\mathbf{B}}\n",
    "\\newcommand{\\C}{\\mathbf{C}}\n",
    "\\newcommand{\\V}{\\mathbf{V}}\n",
    "\\newcommand{\\W}{\\mathbf{W}}\n",
    "\\newcommand{\\rank}{\\textbf{rank}}\n",
    "$$"
   ]
  },
  {
   "cell_type": "markdown",
   "id": "89745bd2-d10f-48d9-956a-562562eff205",
   "metadata": {},
   "source": [
    "## Orthogonal Subspaces"
   ]
  },
  {
   "cell_type": "markdown",
   "id": "9c8682be-87c8-4eba-bab3-0e0311d2255a",
   "metadata": {},
   "source": [
    "### Definition (Orthogonal Subspaces)\n",
    "\n",
    "Note that is does not make sense to talk about the **Orthogonality** of one subspace.\n",
    "\n",
    "Given any two vector subspaces $\\V$ and $\\W$, both necessarily have the same dimension in the sense that any elements in either subspace should have the same length, if not the **dot (inner) product** is not well defined, then we say that $\\V$ and $\\W$ are orthogonal subspaces if $\\v^\\top \\w = \\0$ for all $\\v \\in \\V$ and $\\w \\in \\W$."
   ]
  },
  {
   "cell_type": "markdown",
   "id": "157679cd-fcbf-4f63-911e-d87fccd2deb1",
   "metadata": {},
   "source": [
    "### Example (Orthogonal Subspaces)\n",
    "\n",
    "The **Nullspace** and the **Row Space** are orthogonal subspaces.\n",
    "\n",
    "> We will soon prove this."
   ]
  },
  {
   "cell_type": "markdown",
   "id": "8bfd1234-adac-43fa-a783-e2a278b8cb88",
   "metadata": {},
   "source": [
    "### a\n",
    "\n",
    "More specifically, one should note that the row space of a matrix A is not only orthogonal to its nullspace, it also serves as a complement to it such that the union of them is the whole R^n space itself. I will now denote nullspace as N(A) and row space as R(A), with the associated matrix being m by n.\n",
    "\n",
    "Before the concept of orthogonality, one may take a while to realize that R(A) UNION N(A) = R^n. Even though the rank-nullity theorem tells us that their dimension of the nullspace and row space is n, it did not specifically say that the union of them is the whole Rn space (though intuitively they are if you stare at it long enough). But the main point is, with the orthogonal concept introduced, every vector in the nullspace is \"perpendicular\" to those in the row space, and that means that any vector n in N(A) is of a \"different axis/dimension\" as those in R(A), and this indicates linear independence of them. Now this means the basis vectors of N(A) and R(A) are linearly independent, and hence when unioned, they make up the whole R^n space."
   ]
  },
  {
   "cell_type": "markdown",
   "id": "9809471b-744a-4454-95b2-1914b306b655",
   "metadata": {},
   "source": [
    "### Row and Null Space are Orthogonal and Complements each other\n",
    "\n",
    "The **row space** and the **null space** of a matrix $\\A \\in \\F^{m \\times n}$ are **orthogonal complements**.\n",
    "\n",
    "#### Proof (Row Space is Orthogonal to Null Space)\n",
    "\n",
    "\n",
    "##### Orthogonal Subspace\n",
    "\n",
    "We first show that both subspaces are orthogonal.\n",
    "\n",
    "Note that the **null space** of a matrix $\\A \\in F^{m \\times n}$ is the set of all vectors $\\x$ such that $\\A\\x = \\0$. We can also write $\\A\\x = \\0$ as \n",
    "\n",
    "$$\n",
    "\\A\\x = \\begin{bmatrix} \\r_1 \\cdot \\x \\\\ \\r_2 \\cdot \\x \\\\ \\vdots \\\\ \\r_m \\cdot \\x \\end{bmatrix}\n",
    "$$\n",
    "\n",
    "where $\\cdot$ is the dot product and $\\r_i$ the row vector $i$ of $\\A$.\n",
    "\n",
    "Then one can easily see that $\\A\\x = \\0$ if and only if every $\\r_i \\cdot \\x = 0$. Then it immediately follows that every $\\r_i$ is **orthogonal** to $\\x$, and consequently, the **nullspace** and **row space** of $\\A$ forms an **orthogonal subspace**. To see this, take any vector $\\r \\in R(\\A)$, and represent this $\\r = \\lambda_1 \\r_1 + ... + \\lambda_m \\r_m$, then \n",
    "\n",
    "$$\n",
    "\\begin{aligned}\n",
    "\\r \\cdot \\x &= (\\lambda_1 \\r_1 + ... + \\lambda_m \\r_m) \\cdot \\x \\\\\n",
    "            &= \\lambda_1 \\r_1 \\cdot \\x + ... + \\lambda_m \\r_m \\cdot \\x \\\\\n",
    "            &= \\0 + ... + \\0 \\\\\n",
    "            &= \\0\n",
    "\\end{aligned}\n",
    "$$\n",
    "\n",
    "---\n",
    "\n",
    "##### Orthogonal Complements\n",
    "\n",
    "Reference[^reference]:\n",
    "\n",
    "We have proven that the row space $\\newcommand{\\R}{\\mathrm{R}} \\R(A)$ and null space $\\newcommand{\\N}{\\mathrm{N}} \\N(A)$ are orthogonal to each other; that is, $\\newcommand{\\r}{\\vec r} \\newcommand{\\n}{\\vec n} \\forall\\r\\in\\R(A)\\ \\forall\\n\\in\\N(A): \\r\\perp\\n$.  \n",
    "\n",
    "Next, we show that they are complements of each other: \n",
    "\n",
    "$$\\R(A)\\cap\\N(A)=\\left\\{\\vec0\\right\\}$$\n",
    "\n",
    "Both of these criteria must be met for two subspaces to be orthogonal complements.\n",
    "\n",
    "**Proof**: Suppose we take an element $\\v \\in \\mathrm{R}(\\A) \\cap \\N(A)$, this means that $\\newcommand{\\v}{\\vec v} \\v\\in\\N(A)$ and $\\v\\in\\R(A)$. Recall that if $\\n\\in\\N(A)$ then $$\\n\\cdot\\r=0$$ where $\\r\\in\\R(A)$. \n",
    "\n",
    "Now the element we took from their intersection $\\v$ has this property:\n",
    "\n",
    "$$\\v\\cdot\\v=0=\\left\\|\\v\\right\\|^2$$\n",
    "\n",
    "We can two ways from here, one is we know \n",
    "\n",
    "$$\\v \\cdot \\v = \\begin{bmatrix} v_1^2 \\\\ v_2^2 \\\\ \\vdots \\\\ \\v_m^2 \\end{bmatrix}$$\n",
    "\n",
    "and thus for this to be zero, then $v_i^2 = 0 \\implies v_i = 0 \\forall i$, hence $\\v$ is the zero vector.\n",
    "\n",
    "Otherwise, since $\\left\\|\\v\\right\\|=0$, the vector $\\v$ must be the zero vector.\n",
    "\n",
    "In any case, any vector $\\v$ in both $\\R(A)$ and $\\N(A)$ must equal $\\vec0$. Therefore $\\R(A)\\cap\\N(A)=\\left\\{\\vec0\\right\\}$, and so by definition $\\R(A)$ and $\\N(A)$ are complementary subspaces as well as orthogonal. $\\blacksquare$\n",
    "\n",
    "[^reference]: https://math.stackexchange.com/questions/1448326/how-would-one-prove-that-the-row-space-and-null-space-are-orthogonal-compliments#"
   ]
  }
 ],
 "metadata": {
  "kernelspec": {
   "display_name": "Python 3 (ipykernel)",
   "language": "python",
   "name": "python3"
  },
  "language_info": {
   "codemirror_mode": {
    "name": "ipython",
    "version": 3
   },
   "file_extension": ".py",
   "mimetype": "text/x-python",
   "name": "python",
   "nbconvert_exporter": "python",
   "pygments_lexer": "ipython3",
   "version": "3.9.10"
  }
 },
 "nbformat": 4,
 "nbformat_minor": 5
}
