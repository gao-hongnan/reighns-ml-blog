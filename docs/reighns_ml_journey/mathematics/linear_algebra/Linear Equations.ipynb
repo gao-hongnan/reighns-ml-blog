{
 "cells": [
  {
   "cell_type": "markdown",
   "id": "3fdda7e6-8fa1-4ec7-8cdf-6de4a111b46c",
   "metadata": {
    "id": "3fdda7e6-8fa1-4ec7-8cdf-6de4a111b46c"
   },
   "source": [
    "$$\\newcommand{\\F}{\\mathbb{F}}\n",
    "\\newcommand{\\R}{\\mathbb{R}}\n",
    "\\newcommand{\\v}{\\mathbf{v}}\n",
    "\\newcommand{\\a}{\\mathbf{a}}\n",
    "\\newcommand{\\b}{\\mathbf{b}}\n",
    "\\newcommand{\\c}{\\mathbf{c}}\n",
    "\\newcommand{\\d}{\\mathbf{d}}\n",
    "\\newcommand{\\p}{\\mathbf{p}}\n",
    "\\newcommand{\\w}{\\mathbf{w}}\n",
    "\\newcommand{\\u}{\\mathbf{u}}\n",
    "\\newcommand{\\x}{\\mathbf{x}}\n",
    "\\newcommand{\\y}{\\mathbf{y}}\n",
    "\\newcommand{\\z}{\\mathbf{z}}\n",
    "\\newcommand{\\0}{\\mathbf{0}}\n",
    "\\newcommand{\\1}{\\mathbf{1}}\n",
    "\\newcommand{\\A}{\\mathbf{A}}\n",
    "\\newcommand{\\B}{\\mathbf{B}}\n",
    "\\newcommand{\\C}{\\mathbf{C}}\n",
    "\\newcommand{\\E}{\\mathbf{E}}\n",
    "\\newcommand{\\P}{\\mathbf{P}}$$"
   ]
  },
  {
   "cell_type": "markdown",
   "id": "97c2cbbb-cf59-46d3-a4ab-87a7fa1f907a",
   "metadata": {},
   "source": [
    "# https://en.wikipedia.org/wiki/System_of_linear_equations\n",
    "\n",
    "# Chapter on the book and Macro Analyst"
   ]
  },
  {
   "cell_type": "markdown",
   "id": "3676f3f4-9c63-4e92-93b6-5a381dbef1a9",
   "metadata": {},
   "source": [
    "## General Form of Linear Equations"
   ]
  },
  {
   "cell_type": "markdown",
   "id": "552a9dd8-0820-4004-bc65-3f1fd5493f50",
   "metadata": {},
   "source": [
    "### Algebraic Form of Linear Equations\n",
    "\n",
    "A general system of $m$ linear equations with $n$ unknowns can be written as:\n",
    "\n",
    "$$\n",
    "\\begin{align}\n",
    "a_{11} x_1 + a_{12} x_2  + \\cdots + a_{1n} x_n  &= b_1 \\\\\n",
    "a_{21} x_1 + a_{22} x_2  + \\cdots + a_{2n} x_n  &= b_2 \\\\\n",
    "& \\ \\ \\vdots\\\\\n",
    "a_{m1} x_1 + a_{m2} x_2  + \\cdots + a_{mn} x_n  &= b_ m,\n",
    "\\end{align}\n",
    "$$\n",
    "\n",
    "where $x_1, x_2,\\ldots,x_n$ are the unknowns, $a_{11},a_{12},\\ldots,a_{mn}$ are the coefficients of the system, and $b_1,b_2,\\ldots,b_m$ are the constant terms."
   ]
  },
  {
   "cell_type": "markdown",
   "id": "efd6a1f5-be6e-4cc5-a906-7f1cf3944ba0",
   "metadata": {},
   "source": [
    "### Matrix Form of Linear Equations\n",
    "\n",
    "The vector equation is equivalent to a matrix equation of the form $\\A\\x = \\b$, where $\\A \\in \\F^{m \\times n}$, $\\x$ a column vector in $\\F^n$ and $\\b$ a column vector in $\\F^m$.\n",
    "\n",
    "$$\n",
    "\\A =\n",
    "\\begin{bmatrix}\n",
    "a_{11} & a_{12} & \\cdots & a_{1n} \\\\\n",
    "a_{21} & a_{22} & \\cdots & a_{2n} \\\\\n",
    "\\vdots & \\vdots & \\ddots & \\vdots \\\\\n",
    "a_{m1} & a_{m2} & \\cdots & a_{mn}\n",
    "\\end{bmatrix},\\quad\n",
    "\\mathbf{x}=\n",
    "\\begin{bmatrix}\n",
    "x_1 \\\\\n",
    "x_2 \\\\\n",
    "\\vdots \\\\\n",
    "x_n\n",
    "\\end{bmatrix},\\quad\n",
    "\\mathbf{b}=\n",
    "\\begin{bmatrix}\n",
    "b_1 \\\\\n",
    "b_2 \\\\\n",
    "\\vdots \\\\\n",
    "b_m\n",
    "\\end{bmatrix}\n",
    "$$"
   ]
  },
  {
   "cell_type": "markdown",
   "id": "c1347ef8-4560-4837-b603-46e09830485e",
   "metadata": {},
   "source": [
    "### Vector Form of Linear Equations\n",
    "\n",
    "Recall in the chapter on Matrix Multiplication, we note that $\\A\\x = \\b$ is a right multiplication of a matrix $\\A$ on the vector $\\b$, and thus $\\b$ can be represented as the **linear combination of columns of $\\A$ with $x_i$ as coefficients**.\n",
    "\n",
    "$$\n",
    "\\b = x_1 \\a_1 + x_2 \\a_2 + ... + x_n \\a_n \\implies \n",
    "\\begin{bmatrix}\n",
    "b_1 \\\\\n",
    "b_2 \\\\\n",
    "\\vdots \\\\\n",
    "b_m\n",
    "\\end{bmatrix} = x_1 \\begin{bmatrix} a_{11} \\\\ a_{21} \\\\ \\vdots \\\\ a_{m1} \\end{bmatrix} + x_2 \\begin{bmatrix} a_{12} \\\\ a_{22} \\\\ \\vdots \\\\ a_{m2} \\end{bmatrix} + ... + x_n \\begin{bmatrix} a_{1n} \\\\ a_{2n} \\\\ \\vdots \\\\ a_{mn} \\end{bmatrix}\n",
    "$$"
   ]
  },
  {
   "cell_type": "markdown",
   "id": "4a10a013-6155-4bc0-9f02-9e8b38886b69",
   "metadata": {},
   "source": [
    "## Elementary Row Operations"
   ]
  },
  {
   "cell_type": "markdown",
   "id": "5c6887ce-0d2b-44cb-8cf4-2090b4b3e9d0",
   "metadata": {},
   "source": [
    "### The three types of Elementary Row Operations\n",
    "\n",
    "In order to enable us to convert a system of linear equations to an **equivalent** system, we define the following **elementary row operations**:\n",
    "\n",
    "- **Row Permutation:** Interchange any two rows of a matrix: $\\r_i \\iff \\r_j$\n",
    "- **Row Multiply:** Replace any row of a matrix with a non-zero scalar multiple of itself: $\\r_i \\to \\lambda\\r_i$\n",
    "- **Row Addition:** Replace any row of a matrix with the sum of itself and a non-zero scalar multiple of any other row: $\\r_i \\to \\r_i + \\lambda \\r_j$.\n",
    "\n",
    "**$\\r_i$ refers to row $i$ of the matrix.**"
   ]
  },
  {
   "cell_type": "markdown",
   "id": "29bc825d-3461-4f2c-b6f0-428ca44e1b10",
   "metadata": {},
   "source": [
    "### The three types of Elementary Column Operations\n",
    "\n",
    "By replacing the word *row* to *column*, we recover the definition of **elementary column operations**."
   ]
  },
  {
   "cell_type": "markdown",
   "id": "79a2eba1-0e8d-4cbe-9113-c231eedad1a1",
   "metadata": {},
   "source": [
    "### Definition (Augmented Matrix)\n",
    "\n",
    "We usually combine $\\A\\x = \\b$ into one system (matrix) for ease of computing elementary row operations, after all, row operations are always applied to the **whole system**.\n",
    "\n",
    "Given the general form of the linear equations, the **augmented matrix** of the system of equations is:\n",
    "\n",
    "$$\n",
    "[\\A ~|~ \\b] = \\begin{bmatrix}\n",
    "a_{11} & a_{12} & \\cdots & a_{1n} & b_1 \\\\\n",
    "a_{21} & a_{22} & \\cdots & a_{2n} & b_2 \\\\\n",
    "\\vdots & \\vdots & \\ddots & \\vdots \\\\\n",
    "a_{m1} & a_{m2} & \\cdots & a_{mn} & b_m\n",
    "\\end{bmatrix}\n",
    "$$"
   ]
  },
  {
   "cell_type": "markdown",
   "id": "f2cd3fbe-bd88-463b-9650-f3efd2c769fa",
   "metadata": {},
   "source": [
    "### Definition (Row Echolon Form)\n",
    "\n",
    "Given a matrix $\\A \\in \\F^{m \\times n}$, then we say $\\A$ is in its **row echolon form** if:\n",
    "\n",
    "- Any rows that are all **zeros** must be at the bottom of the matrix, that is to say, all **zero row vectors** are grouped at the bottom.\n",
    "- The **leading coefficient (also called the pivot)** of a non-zero row is always strictly to the right of the leading coefficient of the row above it.\n",
    "- All entries in a column below a pivot are zeros."
   ]
  },
  {
   "cell_type": "markdown",
   "id": "51110ffe-6a8a-4437-abd9-96a89fcadd5a",
   "metadata": {},
   "source": [
    "### Definition (Row Equivalence)\n",
    "\n",
    "Two matrices $\\A$ and $\\B$ are **row equivalent** if one matrix can be obtained from the other matrix by a **finite sequence of elementary row operations**.\n",
    "\n",
    "> Note that if $\\A$ can be obtained by applying a sequence of elementary row operations on $\\B$, then it follows that we just need to apply the sequence in reverse for $\\B$ to get to $\\A$."
   ]
  },
  {
   "cell_type": "markdown",
   "id": "572fb280-c663-41df-a7c7-71e37ae4b1fb",
   "metadata": {},
   "source": [
    "### Theorem (Every matrix is row equivalent to a matrix in echolon form)"
   ]
  },
  {
   "cell_type": "markdown",
   "id": "228cfe5f-ed70-4021-8889-fb73e44db146",
   "metadata": {},
   "source": [
    "### Theorem (Row Equivalent Augmented Matrices have the same solution set)\n",
    "\n",
    "Given $[\\A ~|~ \\b]$ and $[\\C ~|~ \\d]$, if both are **row equivalent** to each other, then the two linear systems have the same solution sets."
   ]
  },
  {
   "cell_type": "code",
   "execution_count": null,
   "id": "82ae76b8-5776-4e3d-aced-2073f92d1195",
   "metadata": {},
   "outputs": [],
   "source": []
  },
  {
   "cell_type": "markdown",
   "id": "6b626ba1-a9b4-44d0-b378-4b78b17e0715",
   "metadata": {},
   "source": [
    "#### Left Multiplication (Linear Combination of Rows)\n",
    "\n",
    "This part is also necessary to better understand matrix multiplication later."
   ]
  },
  {
   "cell_type": "markdown",
   "id": "c443d701-5d11-4d51-855d-b5fc45554596",
   "metadata": {},
   "source": [
    "##### Example (Left Multiplication)\n",
    "\n",
    "We motivate this with an example.\n",
    "\n",
    "Given a 3 by 3 matrix $A = \\begin{bmatrix} x_1 & y_1 & z_1 \\\\ x_2 & y_2 & z_2 \\\\ x_3 & y_3 & z_3 \\\\ \\end{bmatrix}$ and $\\x = \\begin{bmatrix} a & b & c \\end{bmatrix}$ then \n",
    "\n",
    "$$\\x\\A = \\begin{bmatrix} a & b & c \\end{bmatrix} \\begin{bmatrix} x_1 & y_1 & z_1 \\\\ x_2 & y_2 & z_2 \\\\ x_3 & y_3 & z_3 \\\\ \\end{bmatrix} = \\begin{bmatrix} ax_1+bx_2+cx_3 & ay_1+by_2+cy_3 & az_1+bz_2+cz_3 \\end{bmatrix}$$\n",
    "\n",
    "But notice that the above can also be written as:\n",
    "\n",
    "$$\\x\\A = \\begin{bmatrix} x_1 & y_1 & z_1 \\\\ x_2 & y_2 & z_2 \\\\ x_3 & y_3 & z_3 \\\\ \\end{bmatrix} = \\begin{bmatrix} ax_1+bx_2+cx_3 & ay_1+by_2+cy_3 & az_1+bz_2+cz_3 \\end{bmatrix}\n",
    "= \\color{red}{a}\\begin{bmatrix} x_1 & y_1 & z_1 \\end{bmatrix} + \\color{green}{b}\\begin{bmatrix} x_2 & y_2 & z_2 \\end{bmatrix} + \\color{blue}{c}\\begin{bmatrix} x_3 & y_3 & z_3 \\end{bmatrix}$$\n",
    "\n",
    "**Notice that now $\\x\\A$ is just a linear combination of the rows of $\\A$.**"
   ]
  },
  {
   "cell_type": "markdown",
   "id": "73cf950e-826b-4ecd-82ec-10965f3f3787",
   "metadata": {},
   "source": [
    "#### Matrix Multiplication using Left Multiplication (Rows)\n",
    "\n",
    "Using back the notation in the **Element Wise Matrix Multiplication**, we can define \n",
    "\n",
    "$$\\A\\B = \\begin{bmatrix}\\a_1 \\\\ \\a_2 \\\\  \\vdots \\\\ \\a_m \\end{bmatrix}\\B = \\begin{bmatrix}\\a_1\\B \\\\ \\a_2\\B \\\\  \\vdots \\\\ \\a_m\\B \\end{bmatrix}$$\n",
    "\n",
    "where $\\a_i$ is the row $i$ of the matrix $\\A$. This means that each row of the matrix $\\C = \\A\\B$ is defined by $\\a_i\\B$, and recall in the section \"Matrix-Vector Left Multiplication\", $\\a_i\\B$ means a linear combination of the row of $\\B$ with weight coefficients in $\\a_i$. This becomes apparent when we come to the chapter of **Row-Echolon Form**. \n",
    "\n",
    "---\n",
    "\n",
    "They say a picture is worth a thousand words. The below images are taken from Eli Bendersky's website [here](https://eli.thegreenplace.net/2015/visualizing-matrix-multiplication-as-a-linear-combination/).\n",
    "\n",
    "\n",
    "<img src=\"https://storage.googleapis.com/reighns/reighns_ml_projects/docs/linear_algebra/visualizing-matrix-multiplication-as-a-linear-combination-row-perspective.PNG\" style=\"margin-left:auto; margin-right:auto\"/>\n",
    "<p style=\"text-align: center\">\n",
    "    <b>Matrix Multiplication, Row Perspective; Courtesy of Eli Bendersky</b>\n",
    "</p>\n",
    "\n",
    "##### Significance\n",
    "\n",
    "The row perspective is useful, for example in principal components analysis, where the rows of the right matrix contain data\n",
    "(observations in rows and features in columns) and the rows of the\n",
    "left matrix contain weights for combining the features. Then the\n",
    "weighted sum of data creates the principal component scores.  - **Mike X Cohen: Linear Algebra: Theory, Intuition, Code, 2021. (pp. 147)**"
   ]
  },
  {
   "cell_type": "markdown",
   "id": "112ff07f-6262-48fd-af92-3a68470d364b",
   "metadata": {},
   "source": [
    "Row Exchange:\n",
    "$$\n",
    "\\begin{align}\n",
    "x_1- 2x_2+x_3&=0\\\\\n",
    "2x_2-8x_3&=8\\\\\n",
    "-4x_1+5x_2+9x_3&=-9\n",
    "\\end{align}\n",
    "$$\n",
    "\n",
    "vs\n",
    "\n",
    "$$\n",
    "\\begin{align}\n",
    "2x_2-8x_3&=8\\\\\n",
    "x_1- 2x_2+x_3&=0\\\\\n",
    "-4x_1+5x_2+9x_3&=-9\n",
    "\\end{align}\n",
    "$$\n",
    "\n",
    "has no difference, we just swapped row 1 and 2. We can do the same in matrix for conveince.\n",
    "\n",
    "Also, given\n",
    "\n",
    "$$\n",
    "\\P = \\begin{bmatrix} 0 & 1 & 0 \\\\ 1 & 0 & 0 \\\\ 0 & 0 & 1 \\\\ \\end{bmatrix}\n",
    ",\\quad\n",
    "\\A = \\begin{bmatrix} 1 & 2 & 3 \\\\ 4 & 5 & 6 \\\\ 7 & 8 & 9 \\\\ \\end{bmatrix}\n",
    "$$\n",
    "\n",
    "then \n",
    "\n",
    "$$\\P\\A = \\begin{bmatrix} 0 & 1 & 0 \\\\ 1 & 0 & 0 \\\\ 0 & 0 & 1 \\\\ \\end{bmatrix} \\begin{bmatrix} 1 & 2 & 3 \\\\ 4 & 5 & 6 \\\\ 7 & 8 & 9 \\\\ \\end{bmatrix} = \\begin{bmatrix} 4 & 5 & 6 \\\\ 1 & 2 & 3 \\\\ 7 & 8 & 9 \\\\ \\end{bmatrix}$$\n",
    "\n",
    "and notice that row 1 and 2 are swapped by the left multiplication of the permutation matrix $\\P$. Why did it worked?\n",
    "\n",
    "Recall now\n",
    "\n",
    "$$\\P\\A = \\begin{bmatrix}\\ \\p_1 \\\\ \\p_2 \\\\  \\p_3 \\end{bmatrix}\\A = \\begin{bmatrix}\\p_1\\A \\\\ \\p_2\\A \\\\ \\p_3\\A \\end{bmatrix}$$\n",
    "\n",
    "We just look at the first row of $\\P\\A$ given by $\\p_1\\A$ which maps to the first row of $\\P\\A$.\n",
    "\n",
    "$$\\p_1\\A = 0 \\begin{bmatrix} 1 & 2 & 3 \\end{bmatrix} + 1 \\begin{bmatrix} 4 & 5 & 6 \\end{bmatrix} + 0 \\begin{bmatrix} 7 & 8 & 9 \\end{bmatrix} = \\begin{bmatrix} 4 & 5 & 6 \\end{bmatrix}$$\n",
    "\n",
    "Then the rest is the same logic:\n",
    "\n",
    "$$\\p_2\\A = 1 \\begin{bmatrix} 1 & 2 & 3 \\end{bmatrix} + 0 \\begin{bmatrix} 4 & 5 & 6  \\end{bmatrix} + 0 \\begin{bmatrix} 7 & 8 & 9 \\end{bmatrix} = \\begin{bmatrix} 1 & 2 & 3 \\end{bmatrix}$$\n",
    "\n",
    "$$\\p_3\\A = 0 \\begin{bmatrix} 1 & 2 & 3 \\end{bmatrix} + 0 \\begin{bmatrix} 4 & 5 & 6  \\end{bmatrix} + 1 \\begin{bmatrix} 7 & 8 & 9  \\end{bmatrix} = \\begin{bmatrix} 7 & 8 & 9 \\end{bmatrix}$$\n",
    "\n",
    "We now see why through **Matrix Multiplication (Left row wise)** that the **Permutation Matrix** works the way it is!"
   ]
  },
  {
   "cell_type": "markdown",
   "id": "9473dbf9-c394-451c-8af1-bedd6e51f389",
   "metadata": {},
   "source": [
    "\n",
    "\n",
    "https://math.stackexchange.com/questions/1634411/why-adding-or-subtracting-linear-equations-finds-their-intersection-point"
   ]
  }
 ],
 "metadata": {
  "colab": {
   "collapsed_sections": [],
   "name": "04_linear_algebra_vector_spaces_vector_span.ipynb",
   "provenance": []
  },
  "kernelspec": {
   "display_name": "Python 3 (ipykernel)",
   "language": "python",
   "name": "python3"
  },
  "language_info": {
   "codemirror_mode": {
    "name": "ipython",
    "version": 3
   },
   "file_extension": ".py",
   "mimetype": "text/x-python",
   "name": "python",
   "nbconvert_exporter": "python",
   "pygments_lexer": "ipython3",
   "version": "3.9.10"
  }
 },
 "nbformat": 4,
 "nbformat_minor": 5
}
