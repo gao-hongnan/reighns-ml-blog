{
 "cells": [
  {
   "cell_type": "markdown",
   "id": "7aaf7649-3502-4ef1-ae56-e732dec7dbd7",
   "metadata": {},
   "source": [
    "**Generic**\n",
    "\n",
    "- https://blog.zenggyu.com/en/post/2018-12-16/an-introduction-to-evaluation-metrics-for-object-detection/\n",
    "- https://github.com/rafaelpadilla/Object-Detection-Metrics"
   ]
  },
  {
   "cell_type": "markdown",
   "id": "02952fcb-2052-4f5a-a171-73eb2c2967c4",
   "metadata": {},
   "source": [
    "**MAP**\n",
    "\n",
    "- https://www.kaggle.com/code/its7171/map-understanding-with-code-and-its-tips?scriptVersionId=54650292\n",
    "- https://www.kaggle.com/competitions/happy-whale-and-dolphin/discussion/315274\n",
    "- https://leimao.github.io/blog/Object-Detection-Mean-Average-Precision-mAP/\n",
    "- https://jonathan-hui.medium.com/map-mean-average-precision-for-object-detection-45c121a31173"
   ]
  },
  {
   "cell_type": "code",
   "execution_count": null,
   "id": "460c0710-af93-4964-8ead-1f8c89f7a08a",
   "metadata": {},
   "outputs": [],
   "source": []
  }
 ],
 "metadata": {
  "kernelspec": {
   "display_name": "Python 3 (ipykernel)",
   "language": "python",
   "name": "python3"
  },
  "language_info": {
   "codemirror_mode": {
    "name": "ipython",
    "version": 3
   },
   "file_extension": ".py",
   "mimetype": "text/x-python",
   "name": "python",
   "nbconvert_exporter": "python",
   "pygments_lexer": "ipython3",
   "version": "3.9.13"
  }
 },
 "nbformat": 4,
 "nbformat_minor": 5
}
