{
 "cells": [
  {
   "cell_type": "markdown",
   "id": "a07b7dc2-c2c6-4296-91c7-24dd97620b1e",
   "metadata": {},
   "source": [
    "- https://github.com/arjun-majumdar/CNN_Classifications/blob/master/BatchNorm_bias_cancellation.pdf"
   ]
  }
 ],
 "metadata": {
  "kernelspec": {
   "display_name": "Python 3 (ipykernel)",
   "language": "python",
   "name": "python3"
  },
  "language_info": {
   "codemirror_mode": {
    "name": "ipython",
    "version": 3
   },
   "file_extension": ".py",
   "mimetype": "text/x-python",
   "name": "python",
   "nbconvert_exporter": "python",
   "pygments_lexer": "ipython3",
   "version": "3.9.13"
  }
 },
 "nbformat": 4,
 "nbformat_minor": 5
}
